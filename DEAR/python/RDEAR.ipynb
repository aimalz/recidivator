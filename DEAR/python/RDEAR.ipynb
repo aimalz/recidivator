{
 "cells": [
  {
   "cell_type": "code",
   "execution_count": null,
   "metadata": {},
   "outputs": [],
   "source": [
    "# import python\n",
    "\n",
    "import csv\n",
    "import matplotlib.pylab as plt\n",
    "import numpy as np\n",
    "import os\n",
    "from os import listdir\n",
    "from os.path import isfile, join\n",
    "import pandas as pd\n",
    "import scipy.interpolate as spi"
   ]
  },
  {
   "cell_type": "markdown",
   "metadata": {},
   "source": [
    "## Emille's code"
   ]
  },
  {
   "cell_type": "code",
   "execution_count": null,
   "metadata": {},
   "outputs": [],
   "source": [
    "# # import R\n",
    "# from rpy2.robjects.packages import importr\n",
    "# from rpy2.robjects import pandas2ri\n",
    "# from rpy2.robjects.conversion import localconverter\n",
    "# import rpy2.robjects as ro"
   ]
  },
  {
   "cell_type": "code",
   "execution_count": null,
   "metadata": {},
   "outputs": [],
   "source": [
    "# # import R packages\n",
    "\n",
    "# ro.r('library(spatstat)')\n",
    "# ro.r('library(sparr)')\n",
    "# ro.r('library(dplyr)')\n",
    "# ro.r('library(magrittr)')\n",
    "# ro.r('library(reshape2)')"
   ]
  },
  {
   "cell_type": "code",
   "execution_count": null,
   "metadata": {},
   "outputs": [],
   "source": [
    "# # read variables into R section\n",
    "# ro.r('h0 = 0.01')\n",
    "# ro.r('resolution = 256')\n",
    "\n",
    "# # hear I am reading 1/64 of the data I separated myself\n",
    "# ro.r('dataRAW <- read.csv(\"data/64split/rawdata_00_00_00.csv\")')  "
   ]
  },
  {
   "cell_type": "code",
   "execution_count": null,
   "metadata": {},
   "outputs": [],
   "source": [
    "# # get single columns from data frame\n",
    "# ro.r('x <- dataRAW$RA')\n",
    "# ro.r('y <- dataRAW$DEC')\n",
    "\n",
    "# # put in the correct format\n",
    "# ro.r('myPointData <- ppp(x, y, xrange=range(x), yrange=range(y))')\n",
    "\n",
    "# # do KDE\n",
    "# ro.r('ddest <- bivariate.density(myPointData, h0=h0, adapt=TRUE, resolution=resolution)')"
   ]
  },
  {
   "cell_type": "code",
   "execution_count": null,
   "metadata": {},
   "outputs": [],
   "source": [
    "# # output from KDE\n",
    "# ro.r('myDensEst <- ddest$z')\n",
    "\n",
    "# # define boundaries\n",
    "# ro.r('mins <- c(min(x), min(y))')\n",
    "# ro.r('maxs <- c(max(x), max(y))')"
   ]
  },
  {
   "cell_type": "code",
   "execution_count": null,
   "metadata": {},
   "outputs": [],
   "source": [
    "# # number of points to sample\n",
    "# ro.r('nPoints = 520000')\n",
    "\n",
    "# # normalize\n",
    "# ro.r('densEst <- ddest$kde2d/max(ddest$kde2d, na.rm=TRUE)')\n",
    "     \n",
    "# # get dimension\n",
    "# ro.r('xdim <- dim(densEst)[1]')\n",
    "# ro.r('ydim <- dim(densEst)[2]')\n",
    "\n",
    "# ro.r('myNewXX <- vector(mode=\"numeric\", length=nPoints)')\n",
    "# ro.r('myNewYY <- vector(mode=\"numeric\", length=nPoints)')\n",
    "# ro.r('selPoints <- 1')\n"
   ]
  },
  {
   "cell_type": "code",
   "execution_count": null,
   "metadata": {},
   "outputs": [],
   "source": [
    "# data_raw = pd.read_csv('data/64split/rawdata_00_00_00.csv')\n",
    "\n",
    "# # Sample from density\n",
    "# for i in range(520000):\n",
    "#     ro.r('xx <- (runif(1) * xdim)')\n",
    "#     ro.r('yy <- (runif(1) * ydim)')\n",
    "#     ro.r('zz <- runif(1)')\n",
    "#     ro.r('myNewXX[selPoints] <- xx')\n",
    "#     ro.r('myNewYY[selPoints] <- yy')\n",
    "#     ro.r('selPoints <- selPoints + 1')"
   ]
  },
  {
   "cell_type": "code",
   "execution_count": null,
   "metadata": {},
   "outputs": [],
   "source": [
    "# # get new points into dataframe\n",
    "# ro.r('dataOUT = data.frame(x=myNewXX, y=myNewYY)')"
   ]
  },
  {
   "cell_type": "code",
   "execution_count": null,
   "metadata": {},
   "outputs": [],
   "source": [
    "# # write output to file\n",
    "# ro.r('write.csv(dataOUT, \"from_KDE_00_00_00.csv\")')"
   ]
  },
  {
   "cell_type": "code",
   "execution_count": null,
   "metadata": {},
   "outputs": [],
   "source": [
    "# # read output in python\n",
    "# particles = pd.read_csv('../Data/64split/rawdata_00_00_00.csv')"
   ]
  },
  {
   "cell_type": "code",
   "execution_count": null,
   "metadata": {},
   "outputs": [],
   "source": [
    "# # read output in python\n",
    "# galaxies = pd.read_csv('../Data/from_KDE/Dens_rawdata_00_00_00.csv')"
   ]
  },
  {
   "cell_type": "markdown",
   "metadata": {},
   "source": [
    "## Alex's code"
   ]
  },
  {
   "cell_type": "markdown",
   "metadata": {},
   "source": [
    "Get particle density per degree overall to normalize density in each cell."
   ]
  },
  {
   "cell_type": "code",
   "execution_count": null,
   "metadata": {},
   "outputs": [],
   "source": [
    "all_particle_files = sorted([f for f in listdir('../Data/64split') if isfile(join('../Data/64split', f))])\n",
    "N_SLICS, A_SLICS, lims_SLICS = [], [], []\n",
    "for i in all_particle_files:\n",
    "    particles = pd.read_csv(os.path.join('../Data/64split', i))\n",
    "    N_SLICS.append(len(particles))\n",
    "    extrema = particles.agg([min, max])\n",
    "    lims_SLICS.append(extrema)\n",
    "    cut_area = (extrema['RA']['max'] - extrema['RA']['min']) * (extrema['DEC']['max'] - extrema['DEC']['min'])\n",
    "    A_SLICS.append(cut_area)\n",
    "#     print((i, cut_area))"
   ]
  },
  {
   "cell_type": "code",
   "execution_count": null,
   "metadata": {},
   "outputs": [],
   "source": [
    "N_SLICS = np.array(N_SLICS)\n",
    "A_SLICS = np.array(A_SLICS)"
   ]
  },
  {
   "cell_type": "code",
   "execution_count": null,
   "metadata": {},
   "outputs": [],
   "source": [
    "dens_cell = (N_SLICS / A_SLICS)\n",
    "# print(dens_cell)"
   ]
  },
  {
   "cell_type": "code",
   "execution_count": null,
   "metadata": {},
   "outputs": [],
   "source": [
    "dens_SLICS = sum(N_SLICS) / sum(A_SLICS)\n",
    "# print(dens_SLICS)"
   ]
  },
  {
   "cell_type": "code",
   "execution_count": null,
   "metadata": {},
   "outputs": [],
   "source": [
    "dens_rel = (dens_cell / dens_SLICS)\n",
    "# print(dens_rel)"
   ]
  },
  {
   "cell_type": "code",
   "execution_count": null,
   "metadata": {},
   "outputs": [],
   "source": [
    "# constant linear bias factor\n",
    "b_g = 1.1"
   ]
  },
  {
   "cell_type": "code",
   "execution_count": null,
   "metadata": {},
   "outputs": [],
   "source": [
    "bias_thresh_rel = b_g / dens_rel# / 256**2 * A_SLICS\n",
    "print(bias_thresh_rel)"
   ]
  },
  {
   "cell_type": "markdown",
   "metadata": {},
   "source": [
    "Now compare to KDE in cell"
   ]
  },
  {
   "cell_type": "code",
   "execution_count": null,
   "metadata": {},
   "outputs": [],
   "source": [
    "all_kde_files = sorted([f for f in listdir('../Data/from_KDE') if isfile(join('../Data/from_KDE', f))])\n",
    "kde_dens, kde_ras, kde_decs, kde_interps, kde_means = [], [], [], [], []\n",
    "for j in range(len(all_kde_files)):\n",
    "    i = all_kde_files[j]\n",
    "    kdes = pd.read_csv(os.path.join('../Data/from_KDE', i))\n",
    "    ra_grid = kdes['RA'].unique()\n",
    "    kde_ras.append(ra_grid)\n",
    "    dec_grid = kdes['DEC'].unique()\n",
    "    kde_decs.append(dec_grid)\n",
    "    dens_grid = np.reshape(kdes['Dens'].values, (len(ra_grid), len(dec_grid)))\n",
    "    kde_dens.append(dens_grid)\n",
    "    dens_mean = dens_grid * (A_SLICS[j] / 256**2)\n",
    "#     print((i, np.sum(dens_mean)))\n",
    "    assert(np.isclose(1., np.sum(dens_mean)))\n",
    "    kde_means.append(dens_mean)\n",
    "    kde_model_dens = spi.RectBivariateSpline(ra_grid, dec_grid, dens_grid)\n",
    "    kde_interps.append(kde_model_dens)"
   ]
  },
  {
   "cell_type": "code",
   "execution_count": null,
   "metadata": {},
   "outputs": [],
   "source": [
    "# dens_mean"
   ]
  },
  {
   "cell_type": "code",
   "execution_count": null,
   "metadata": {},
   "outputs": [],
   "source": [
    "# plt.figure(figsize=(20,10))\n",
    "\n",
    "# plt.subplot(1,2,1)\n",
    "# plt.title('original')\n",
    "# plt.scatter(particles['RA'], particles['DEC'], s=.01)\n",
    "\n",
    "# plt.subplot(1,2,2)\n",
    "# plt.title('interpolated KDE')\n",
    "# plt.contourf(ra_grid, dec_grid, dens_grid.T)\n",
    "# plt.show()"
   ]
  },
  {
   "cell_type": "code",
   "execution_count": null,
   "metadata": {},
   "outputs": [],
   "source": [
    "min_cell = np.argmin(dens_rel)\n",
    "plt.hist(np.log(kde_dens[min_cell].flatten()), alpha=0.5, color='r')\n",
    "plt.vlines(np.log(np.mean(kde_dens[min_cell])), 0., 25000, color='r', linestyle=':')\n",
    "plt.vlines(np.log(bias_thresh_rel[min_cell]), 0, 25000, color='r', linestyle='--')\n",
    "max_cell = np.argmax(dens_rel)\n",
    "plt.hist(np.log(kde_dens[max_cell].flatten()), alpha=0.5, color='b')\n",
    "plt.vlines(np.log(np.mean(kde_dens[max_cell])), 0., 25000, color='b', linestyle=':')\n",
    "plt.vlines(np.log(bias_thresh_rel[max_cell]), 0, 25000, color='b', linestyle='--')"
   ]
  },
  {
   "cell_type": "code",
   "execution_count": null,
   "metadata": {},
   "outputs": [],
   "source": [
    "# fig, axes = plt.subplots(nrows=1, ncols=2, figsize=(20, 10))\n",
    "\n",
    "# # plt.subplot(1,2,1)\n",
    "# # plt.title('min mean density')\n",
    "# cf = axes[0].contourf(kde_ras[min_cell], kde_decs[min_cell], np.log(kde_dens[min_cell].T), vmin=0., vmax=1.)\n",
    "\n",
    "# fig.subplots_adjust(right=0.8)\n",
    "# cbar_ax = fig.add_axes([0.85, 0.15, 0.05, 0.7])\n",
    "# cbar = fig.colorbar(cf, cax=cbar_ax)\n",
    "\n",
    "# # plt.subplot(1,2,2)\n",
    "# # plt.title('max mean density')\n",
    "# cf = axes[1].contourf(kde_ras[max_cell], kde_decs[max_cell], np.log(kde_dens[max_cell].T), vmin=0., vmax=1.)\n",
    "\n",
    "# # fig.subplots_adjust(right=0.8)\n",
    "# # cbar_ax = fig.add_axes([0.85, 0.15, 0.05, 0.7])\n",
    "# # cbar = fig.colorbar(cf, cax=cbar_ax)\n",
    "\n",
    "# plt.show()"
   ]
  },
  {
   "cell_type": "code",
   "execution_count": null,
   "metadata": {},
   "outputs": [],
   "source": [
    "fig = plt.figure(figsize=(10,10))\n",
    "for j in range(len(all_kde_files)):\n",
    "    plt.contourf(kde_ras[j], kde_decs[j], np.log(kde_dens[j].T/A_SLICS[j]), vmin=-7, vmax=-1.5)\n",
    "plt.colorbar()"
   ]
  },
  {
   "cell_type": "markdown",
   "metadata": {},
   "source": [
    "sample mock galaxy positions from KDEs"
   ]
  },
  {
   "cell_type": "code",
   "execution_count": null,
   "metadata": {},
   "outputs": [],
   "source": []
  },
  {
   "cell_type": "code",
   "execution_count": null,
   "metadata": {},
   "outputs": [],
   "source": [
    "# still working on this\n",
    "def samp_gal_pos(cells, threshold):\n",
    "    which_cell = np.random.randint(0, len(cells))\n",
    "    \n",
    "def rej_samp(dens, threshold):\n",
    "    if dens > threshold:\n",
    "        "
   ]
  },
  {
   "cell_type": "code",
   "execution_count": null,
   "metadata": {},
   "outputs": [],
   "source": [
    "extrema = lims_SLICS[0]\n",
    "mock_samps = pd.DataFrame.from_dict({'RA': [], 'DEC': []})\n",
    "mock_samps['RA'] = np.random.uniform(extrema['RA']['min'], extrema['RA']['max'], 1000)\n",
    "mock_samps['DEC'] = np.random.uniform(extrema['DEC']['min'], extrema['DEC']['max'], 1000)"
   ]
  },
  {
   "cell_type": "code",
   "execution_count": null,
   "metadata": {},
   "outputs": [],
   "source": [
    "# print(kde_dens[0].mean())\n",
    "cut_area = (extrema['RA']['max'] - extrema['RA']['min']) * (extrema['DEC']['max'] - extrema['DEC']['min'])\n",
    "assert(np.isclose(1., np.sum(kde_dens[0]) * (A_SLICS[0] / 256**2)))"
   ]
  },
  {
   "cell_type": "code",
   "execution_count": null,
   "metadata": {},
   "outputs": [],
   "source": [
    "# dens_cell[0] / dens_SLICS"
   ]
  },
  {
   "cell_type": "markdown",
   "metadata": {},
   "source": [
    "placeholder for global mean necessary for bias, actually depends on total angular area at that redshift"
   ]
  },
  {
   "cell_type": "code",
   "execution_count": null,
   "metadata": {},
   "outputs": [],
   "source": [
    "# data_path = '/media/CRP6/Cosmology/recidivator/SLICS/particle_data/0.042cut.csv'\n",
    "# data_raw = pd.read_csv(data_path)\n",
    "# glob_extrema = data_raw.agg([min, max])\n",
    "# full_area = (glob_extrema['RA']['max'] - glob_extrema['RA']['min']) * (glob_extrema['DEC']['max'] - glob_extrema['DEC']['min'])"
   ]
  },
  {
   "cell_type": "code",
   "execution_count": null,
   "metadata": {},
   "outputs": [],
   "source": [
    "# plt.hist(data_raw['RA'], alpha=0.5)\n",
    "# plt.hist(data_raw['DEC'], alpha=0.5)"
   ]
  },
  {
   "cell_type": "code",
   "execution_count": null,
   "metadata": {},
   "outputs": [],
   "source": [
    "# print(full_area / cut_area)\n",
    "# n_SLICS = N_SLICS / full_area * (cut_area / 256**2)\n",
    "# print(n_SLICS)"
   ]
  },
  {
   "cell_type": "code",
   "execution_count": null,
   "metadata": {},
   "outputs": [],
   "source": [
    "# bias_placeholder = 0.1 * n_SLICS"
   ]
  },
  {
   "cell_type": "code",
   "execution_count": null,
   "metadata": {},
   "outputs": [],
   "source": []
  }
 ],
 "metadata": {
  "kernelspec": {
   "display_name": "recidivator (Python 3)",
   "language": "python",
   "name": "recidivator_3"
  },
  "language_info": {
   "codemirror_mode": {
    "name": "ipython",
    "version": 3
   },
   "file_extension": ".py",
   "mimetype": "text/x-python",
   "name": "python",
   "nbconvert_exporter": "python",
   "pygments_lexer": "ipython3",
   "version": "3.6.8"
  }
 },
 "nbformat": 4,
 "nbformat_minor": 4
}
