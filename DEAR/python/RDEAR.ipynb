{
 "cells": [
  {
   "cell_type": "code",
   "execution_count": null,
   "metadata": {},
   "outputs": [],
   "source": [
    "# import python\n",
    "\n",
    "import csv\n",
    "import matplotlib.pylab as plt\n",
    "import numpy as np\n",
    "import os\n",
    "import pandas as pd\n",
    "import scipy.interpolate as spi"
   ]
  },
  {
   "cell_type": "markdown",
   "metadata": {},
   "source": [
    "## Emille's code"
   ]
  },
  {
   "cell_type": "code",
   "execution_count": null,
   "metadata": {},
   "outputs": [],
   "source": [
    "# import R\n",
    "from rpy2.robjects.packages import importr\n",
    "from rpy2.robjects import pandas2ri\n",
    "from rpy2.robjects.conversion import localconverter\n",
    "import rpy2.robjects as ro"
   ]
  },
  {
   "cell_type": "code",
   "execution_count": null,
   "metadata": {},
   "outputs": [],
   "source": [
    "# import R packages\n",
    "\n",
    "ro.r('library(spatstat)')\n",
    "ro.r('library(sparr)')\n",
    "ro.r('library(dplyr)')\n",
    "ro.r('library(magrittr)')\n",
    "ro.r('library(reshape2)')"
   ]
  },
  {
   "cell_type": "code",
   "execution_count": null,
   "metadata": {},
   "outputs": [],
   "source": [
    "# read variables into R section\n",
    "ro.r('h0 = 0.01')\n",
    "ro.r('resolution = 256')\n",
    "\n",
    "# hear I am reading 1/64 of the data I separated myself\n",
    "ro.r('dataRAW <- read.csv(\"data/64split/rawdata_00_00_00.csv\")')  "
   ]
  },
  {
   "cell_type": "code",
   "execution_count": null,
   "metadata": {},
   "outputs": [],
   "source": [
    "# get single columns from data frame\n",
    "ro.r('x <- dataRAW$RA')\n",
    "ro.r('y <- dataRAW$DEC')\n",
    "\n",
    "# put in the correct format\n",
    "ro.r('myPointData <- ppp(x, y, xrange=range(x), yrange=range(y))')\n",
    "\n",
    "# do KDE\n",
    "ro.r('ddest <- bivariate.density(myPointData, h0=h0, adapt=TRUE, resolution=resolution)')"
   ]
  },
  {
   "cell_type": "code",
   "execution_count": null,
   "metadata": {},
   "outputs": [],
   "source": [
    "# output from KDE\n",
    "ro.r('myDensEst <- ddest$z')\n",
    "\n",
    "# define boundaries\n",
    "ro.r('mins <- c(min(x), min(y))')\n",
    "ro.r('maxs <- c(max(x), max(y))')"
   ]
  },
  {
   "cell_type": "code",
   "execution_count": null,
   "metadata": {},
   "outputs": [],
   "source": [
    "# number of points to sample\n",
    "ro.r('nPoints = 520000')\n",
    "\n",
    "# normalize\n",
    "ro.r('densEst <- ddest$kde2d/max(ddest$kde2d, na.rm=TRUE)')\n",
    "     \n",
    "# get dimension\n",
    "ro.r('xdim <- dim(densEst)[1]')\n",
    "ro.r('ydim <- dim(densEst)[2]')\n",
    "\n",
    "ro.r('myNewXX <- vector(mode=\"numeric\", length=nPoints)')\n",
    "ro.r('myNewYY <- vector(mode=\"numeric\", length=nPoints)')\n",
    "ro.r('selPoints <- 1')\n"
   ]
  },
  {
   "cell_type": "code",
   "execution_count": null,
   "metadata": {},
   "outputs": [],
   "source": [
    "data_raw = pd.read_csv('data/64split/rawdata_00_00_00.csv')\n",
    "\n",
    "# Sample from density\n",
    "for i in range(520000):\n",
    "    ro.r('xx <- (runif(1) * xdim)')\n",
    "    ro.r('yy <- (runif(1) * ydim)')\n",
    "    ro.r('zz <- runif(1)')\n",
    "    ro.r('myNewXX[selPoints] <- xx')\n",
    "    ro.r('myNewYY[selPoints] <- yy')\n",
    "    ro.r('selPoints <- selPoints + 1')"
   ]
  },
  {
   "cell_type": "code",
   "execution_count": null,
   "metadata": {},
   "outputs": [],
   "source": [
    "# get new points into dataframe\n",
    "ro.r('dataOUT = data.frame(x=myNewXX, y=myNewYY)')"
   ]
  },
  {
   "cell_type": "code",
   "execution_count": null,
   "metadata": {},
   "outputs": [],
   "source": [
    "# write output to file\n",
    "ro.r('write.csv(dataOUT, \"from_KDE_00_00_00.csv\")')"
   ]
  },
  {
   "cell_type": "markdown",
   "metadata": {},
   "source": [
    "## Alex's code"
   ]
  },
  {
   "cell_type": "code",
   "execution_count": null,
   "metadata": {},
   "outputs": [],
   "source": [
    "# read output in python\n",
    "particles = pd.read_csv('../Data/64split/rawdata_00_00_00.csv')"
   ]
  },
  {
   "cell_type": "code",
   "execution_count": null,
   "metadata": {},
   "outputs": [],
   "source": [
    "len(particles)"
   ]
  },
  {
   "cell_type": "code",
   "execution_count": null,
   "metadata": {},
   "outputs": [],
   "source": [
    "# read output in python\n",
    "galaxies = pd.read_csv('../Data/from_KDE/dens_00_00_00.csv')"
   ]
  },
  {
   "cell_type": "code",
   "execution_count": null,
   "metadata": {},
   "outputs": [],
   "source": [
    "ra_grid = galaxies['RA'].unique()\n",
    "dec_grid = galaxies['DEC'].unique()\n",
    "dens_grid = np.reshape(galaxies['Dens'].values, (len(ra_grid), len(dec_grid)))"
   ]
  },
  {
   "cell_type": "code",
   "execution_count": null,
   "metadata": {},
   "outputs": [],
   "source": [
    "galaxy_dens = spi.RectBivariateSpline(ra_grid, dec_grid, dens_grid)"
   ]
  },
  {
   "cell_type": "code",
   "execution_count": null,
   "metadata": {},
   "outputs": [],
   "source": [
    "plt.figure(figsize=(20,10))\n",
    "\n",
    "plt.subplot(1,2,1)\n",
    "plt.title('original')\n",
    "plt.scatter(particles['RA'], particles['DEC'], s=.01)\n",
    "\n",
    "plt.subplot(1,2,2)\n",
    "plt.title('interpolated KDE')\n",
    "plt.contourf(ra_grid, dec_grid, dens_grid.T)\n",
    "plt.show()"
   ]
  },
  {
   "cell_type": "code",
   "execution_count": null,
   "metadata": {},
   "outputs": [],
   "source": [
    "plt.hist(dens_grid.flatten())"
   ]
  },
  {
   "cell_type": "code",
   "execution_count": null,
   "metadata": {},
   "outputs": [],
   "source": [
    "print(dens_grid.mean())\n",
    "cut_area = (extrema['RA']['max'] - extrema['RA']['min']) * (extrema['DEC']['max'] - extrema['DEC']['min'])\n",
    "assert(np.isclose(1., np.sum(dens_grid) * cut_area / 256**2))"
   ]
  },
  {
   "cell_type": "markdown",
   "metadata": {},
   "source": [
    "placeholder for global mean necessary for bias, actually depends on total angular area at that redshift"
   ]
  },
  {
   "cell_type": "code",
   "execution_count": null,
   "metadata": {},
   "outputs": [],
   "source": [
    "n_SLICS = 3.6e9 / (64 * 64 * cut_area * 256**2)\n",
    "mean_dens_SLICS = n_SLICS / (cut_area)\n",
    "print(n_SLICS)"
   ]
  },
  {
   "cell_type": "code",
   "execution_count": null,
   "metadata": {},
   "outputs": [],
   "source": [
    "bias_placeholder = 0.1 * n_SLICS"
   ]
  },
  {
   "cell_type": "code",
   "execution_count": null,
   "metadata": {},
   "outputs": [],
   "source": [
    "# still working on this\n",
    "def samp_gal_pos(cells, threshold):\n",
    "    np.random.randint(0, len(cells))\n",
    "def rej_samp(dens, threshold):\n",
    "    if dens > threshold:\n",
    "        "
   ]
  },
  {
   "cell_type": "code",
   "execution_count": null,
   "metadata": {},
   "outputs": [],
   "source": [
    "extrema = particles.agg([min, max])\n",
    "mock_samps = pd.DataFrame.from_dict({'RA': [], 'DEC': []})\n",
    "mock_samps['RA'] = np.random.uniform(extrema['RA']['min'], extrema['RA']['max'], 1000)\n",
    "mock_samps['DEC'] = np.random.uniform(extrema['DEC']['min'], extrema['DEC']['max'], 1000)"
   ]
  },
  {
   "cell_type": "code",
   "execution_count": null,
   "metadata": {},
   "outputs": [],
   "source": []
  }
 ],
 "metadata": {
  "kernelspec": {
   "display_name": "Python 3",
   "language": "python",
   "name": "python3"
  },
  "language_info": {
   "codemirror_mode": {
    "name": "ipython",
    "version": 3
   },
   "file_extension": ".py",
   "mimetype": "text/x-python",
   "name": "python",
   "nbconvert_exporter": "python",
   "pygments_lexer": "ipython3",
   "version": "3.6.8"
  }
 },
 "nbformat": 4,
 "nbformat_minor": 4
}
