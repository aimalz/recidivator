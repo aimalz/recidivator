{
 "cells": [
  {
   "cell_type": "code",
   "execution_count": 1,
   "metadata": {},
   "outputs": [],
   "source": [
    "import os\n",
    "import pandas as pd\n",
    "import matplotlib.pylab as plt\n",
    "import numpy as np\n",
    "import csv"
   ]
  },
  {
   "cell_type": "code",
   "execution_count": 2,
   "metadata": {},
   "outputs": [],
   "source": [
    "data_path = '/media/CRP6/Cosmology/recidivator/SLICS/particle_data/0.042cut.csv'\n",
    "data_raw = pd.read_csv(data_path)"
   ]
  },
  {
   "cell_type": "code",
   "execution_count": 3,
   "metadata": {},
   "outputs": [],
   "source": [
    "ntotal = data_raw.shape[0]"
   ]
  },
  {
   "cell_type": "code",
   "execution_count": 4,
   "metadata": {},
   "outputs": [],
   "source": [
    "def split_4(raw_data):\n",
    "    \"\"\"Split data into 4 parts. Each part having the same numbers of points. \"\"\"\n",
    "    \n",
    "    split_RA = np.median(raw_data['RA'].values)\n",
    "    xlow_flag = raw_data['RA'].values < split_RA\n",
    "    \n",
    "    data_xlow = raw_data[xlow_flag]\n",
    "    data_xhigh = raw_data[~xlow_flag]\n",
    "    \n",
    "    xlow_ysplit = np.median(data_xlow['DEC'].values)\n",
    "    xlow_ylow_flag = data_xlow['DEC'].values < xlow_ysplit\n",
    "    data_xlow_ylow = data_xlow[xlow_ylow_flag]\n",
    "    data_xlow_yhigh = data_xlow[~xlow_ylow_flag]\n",
    "\n",
    "    xhigh_ysplit = np.median(data_xhigh['DEC'].values)\n",
    "    xhigh_ylow_flag = data_xhigh['DEC'].values < xhigh_ysplit\n",
    "    data_xhigh_ylow = data_xhigh[xhigh_ylow_flag]\n",
    "    data_xhigh_yhigh = data_xhigh[~xhigh_ylow_flag]\n",
    "    \n",
    "    xlow_ysplit = np.median(data_xlow['DEC'].values)\n",
    "    xlow_ylow_flag = data_xlow['DEC'].values < xlow_ysplit\n",
    "    data_xlow_ylow = data_xlow[xlow_ylow_flag]\n",
    "    data_xlow_yhigh = data_xlow[~xlow_ylow_flag]\n",
    "\n",
    "    xhigh_ysplit = np.median(data_xhigh['DEC'].values)\n",
    "    xhigh_ylow_flag = data_xhigh['DEC'].values < xhigh_ysplit\n",
    "    data_xhigh_ylow = data_xhigh[xhigh_ylow_flag]\n",
    "    data_xhigh_yhigh = data_xhigh[~xhigh_ylow_flag]\n",
    "    \n",
    "    final_data = {}\n",
    "    final_data['00'] = data_xlow_ylow\n",
    "    final_data['01'] = data_xlow_yhigh\n",
    "    final_data['10'] = data_xhigh_ylow\n",
    "    final_data['11'] = data_xhigh_yhigh\n",
    "    \n",
    "    return final_data"
   ]
  },
  {
   "cell_type": "code",
   "execution_count": 5,
   "metadata": {},
   "outputs": [],
   "source": [
    "def split_16(data_4parts):\n",
    "    \n",
    "    data_out = {}\n",
    "    for key in data_4parts.keys():\n",
    "        data_out[key] = split_4(data_4parts[key])\n",
    "        \n",
    "    return data_out   "
   ]
  },
  {
   "cell_type": "code",
   "execution_count": 12,
   "metadata": {},
   "outputs": [],
   "source": [
    "def split_64(data_16parts):\n",
    "    data_out = {}\n",
    "    \n",
    "    for key1 in data_16parts:    \n",
    "        data_out[key1] = {}\n",
    "        \n",
    "        for key2 in data_16parts[key1]:\n",
    "            data_out[key1][key2] = split_4(data_16parts[key1][key2])\n",
    "            \n",
    "    return data_out"
   ]
  },
  {
   "cell_type": "code",
   "execution_count": 13,
   "metadata": {},
   "outputs": [],
   "source": [
    "data_4p = split_4(data_raw)\n",
    "data_16p = split_16(data_4p)\n",
    "data_64p = split_64(data_16p)"
   ]
  },
  {
   "cell_type": "code",
   "execution_count": 23,
   "metadata": {},
   "outputs": [],
   "source": [
    "# Save data to file\n",
    "for key in data_4p.keys():\n",
    "    for key2 in data_4p.keys():\n",
    "        for key3 in data_4p.keys():\n",
    "            fname = \"data/16split/rawdata_\" + key + \"_\" + key2 + \"_\" + key3 + \".csv\"\n",
    "            data_64p[key][key2][key3].to_csv(fname)"
   ]
  },
  {
   "cell_type": "code",
   "execution_count": null,
   "metadata": {},
   "outputs": [],
   "source": []
  }
 ],
 "metadata": {
  "kernelspec": {
   "display_name": "Python 3",
   "language": "python",
   "name": "python3"
  },
  "language_info": {
   "codemirror_mode": {
    "name": "ipython",
    "version": 3
   },
   "file_extension": ".py",
   "mimetype": "text/x-python",
   "name": "python",
   "nbconvert_exporter": "python",
   "pygments_lexer": "ipython3",
   "version": "3.7.3"
  }
 },
 "nbformat": 4,
 "nbformat_minor": 4
}
