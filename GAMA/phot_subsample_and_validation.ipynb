{
 "cells": [
  {
   "cell_type": "markdown",
   "metadata": {},
   "source": [
    "# Subsample the SpecObjPhot per redshift and validate the data\n",
    "notebook by _Kara Ponder (UC Berkeley)_, (add your name here)"
   ]
  },
  {
   "cell_type": "code",
   "execution_count": null,
   "metadata": {
    "collapsed": true
   },
   "outputs": [],
   "source": [
    "from astropy.io import fits\n",
    "import corner\n",
    "import matplotlib.pyplot as plt\n",
    "import numpy as np\n",
    "import os\n",
    "import pandas as pd\n",
    "import sncosmo\n",
    "\n",
    "%matplotlib inline"
   ]
  },
  {
   "cell_type": "code",
   "execution_count": null,
   "metadata": {
    "collapsed": true
   },
   "outputs": [],
   "source": [
    "#df_unred = pd.read_csv('SpecObjPhot_unred.csv')\n",
    "df = pd.read_csv('SpecObjPhot.csv')"
   ]
  },
  {
   "cell_type": "code",
   "execution_count": null,
   "metadata": {
    "collapsed": true
   },
   "outputs": [],
   "source": [
    "z_SLICS = np.array([0.042, 0.080, 0.130, 0.221, 0.317, 0.418, 0.525, 0.640, 0.764, 0.897, \n",
    "           1.041, 1.199, 1.372, 1.562, 1.772, 2.007, 2.269, 2.565, 2.899])"
   ]
  },
  {
   "cell_type": "code",
   "execution_count": null,
   "metadata": {},
   "outputs": [],
   "source": [
    "endpoints = [(z_SLICS[i] + z_SLICS[i+1]) / 2.0 for i in range(0, 18)]\n",
    "endpoints.append(3.066)\n",
    "print(endpoints)"
   ]
  },
  {
   "cell_type": "markdown",
   "metadata": {},
   "source": [
    "## Create subsamples by taking the endpoints to be the average number between the redshifts\n",
    "\n",
    "Add in a cutoff at 0.023. \n",
    "- Came to this by what the distance is between 0.042 and it's upper endpoint\n",
    "Added an upper cutoff as well of 3.066 (by same way for equal redshift space on either side)"
   ]
  },
  {
   "cell_type": "code",
   "execution_count": null,
   "metadata": {
    "collapsed": true
   },
   "outputs": [],
   "source": [
    "bandpasses = ['lsstg', 'lsstr', 'lssti', 'lsstz', 'lssty',\n",
    "              'sdssr', 'sdssi', 'sdssz']"
   ]
  },
  {
   "cell_type": "code",
   "execution_count": null,
   "metadata": {
    "collapsed": true
   },
   "outputs": [],
   "source": [
    "survey_info = np.array([x.split(\"'\")[1].strip() for x in df['SURVEY'].values])"
   ]
  },
  {
   "cell_type": "code",
   "execution_count": null,
   "metadata": {
    "collapsed": true
   },
   "outputs": [],
   "source": [
    "subsamples, lens = [], []\n",
    "\n",
    "subsamples.append(df.loc[(df['Z'] >= 0.023) & (df['Z'] < endpoints[0]) & (df['NQ'] > 2) &\n",
    "                         ((df['lsstg'] > 0) |\n",
    "                          (df['lsstr'] > 0) |\n",
    "                          (df['lsstz'] > 0) |\n",
    "                          (df['lssty'] > 0)\n",
    "                          ) &\n",
    "                         ((survey_info == 'GAMA') | \n",
    "                          (survey_info == 'SDSS') | \n",
    "                          (survey_info == 'VVDS') \n",
    "                         )])\n",
    "\n",
    "lens.append(len(subsamples[-1]))\n",
    "\n",
    "for i in np.arange(0, len(endpoints) -1 ):\n",
    "    subsamples.append(df.loc[(df['Z'] >= endpoints[i]) & (df['Z'] < endpoints[i+1]) & (df['NQ'] > 2) &\n",
    "                             ((df['lsstg'] > 0) |\n",
    "                              (df['lsstr'] > 0) |\n",
    "                              (df['lsstz'] > 0) |\n",
    "                              (df['lssty'] > 0)\n",
    "                             ) &\n",
    "                             ((survey_info == 'GAMA') | \n",
    "                              (survey_info == 'SDSS') | \n",
    "                              (survey_info == 'VVDS') \n",
    "                             )])\n",
    "    lens.append(len(subsamples[-1]))\n"
   ]
  },
  {
   "cell_type": "code",
   "execution_count": null,
   "metadata": {},
   "outputs": [],
   "source": [
    "#lens"
   ]
  },
  {
   "cell_type": "code",
   "execution_count": null,
   "metadata": {
    "collapsed": true
   },
   "outputs": [],
   "source": [
    "# original numbers before throwing out anything that failed all photometry\n",
    "lens_w0 = [7256,\n",
    " 12853,\n",
    " 37697,\n",
    " 44233,\n",
    " 31554,\n",
    " 10777,\n",
    " 2766,\n",
    " 637,\n",
    " 119,\n",
    " 21,\n",
    " 11,\n",
    " 13,\n",
    " 8,\n",
    " 17,\n",
    " 8,\n",
    " 10,\n",
    " 11,\n",
    " 2,\n",
    " 5]\n",
    "\n"
   ]
  },
  {
   "cell_type": "code",
   "execution_count": null,
   "metadata": {},
   "outputs": [],
   "source": [
    "(np.array(lens_w0) - np.array(lens))/np.array(lens_w0) * 100 # g"
   ]
  },
  {
   "cell_type": "code",
   "execution_count": null,
   "metadata": {
    "collapsed": true
   },
   "outputs": [],
   "source": [
    "os.makedirs('SpecObjPhot', exist_ok=True)\n",
    "for i, arr in enumerate(subsamples):\n",
    "    arr.to_csv('./SpecObjPhot/SpecObjPhot_%5.3f.csv' % z_SLICS[i])"
   ]
  },
  {
   "cell_type": "markdown",
   "metadata": {},
   "source": [
    "### The limits on the lowest and highest bins above are not quite the same as for the other bins.\n",
    "\n",
    "There is a redshift evolution to the lower and upper limits per bin. The lowest and highest redshift bins are instead equal on both sides. \n",
    "- The lowest redshift bin lower limit should be at a larger wavlength making the bin smaller. \n",
    "- The highest redshift bin upper limit should also be at a larger wavelenght making the bin LARGER.\n",
    "\n",
    "This doesn't matter for the highest one as it is an empty bin.\n",
    "\n",
    "The code below shows the plot of the evolution of the different in the endpoints as a function of redshift. "
   ]
  },
  {
   "cell_type": "code",
   "execution_count": null,
   "metadata": {
    "collapsed": true
   },
   "outputs": [],
   "source": [
    "ch = []\n",
    "for i in np.arange(0, len(endpoints) -1 ):\n",
    "    #print((endpoints[i] - endpoints[i+1])/2.)\n",
    "    ch.append((endpoints[i] - endpoints[i+1])/2.)"
   ]
  },
  {
   "cell_type": "code",
   "execution_count": null,
   "metadata": {
    "collapsed": true
   },
   "outputs": [],
   "source": [
    "plt.plot(np.abs(ch), 'o')"
   ]
  },
  {
   "cell_type": "markdown",
   "metadata": {},
   "source": [
    "## Validation"
   ]
  },
  {
   "cell_type": "code",
   "execution_count": null,
   "metadata": {},
   "outputs": [],
   "source": [
    "plt.figure()\n",
    "plt.hist(df.loc[(df['lsstg'] > 0 ) & (df['NQ'] > 2)]['lsstg'], bins=np.arange(14, 25, 0.5), label='lsstg', alpha=0.5)\n",
    "plt.hist(df.loc[(df['lsstr'] > 0) & (df['NQ'] > 2)]['lsstr'], bins=np.arange(14, 25, 0.5), label='lsstr', alpha=0.5)\n",
    "plt.hist(df.loc[(df['lssti'] > 0)& (df['NQ'] > 2)]['lssti'], bins=np.arange(14, 25, 0.5), label='lssti', alpha=0.5)\n",
    "plt.hist(df.loc[(df['lsstz'] > 0)& (df['NQ'] > 2)]['lsstz'], bins=np.arange(14, 25, 0.5), label='lsstz', alpha=0.5)\n",
    "plt.hist(df.loc[(df['lssty'] > 0)& (df['NQ'] > 2)]['lssty'], bins=np.arange(14, 25, 0.5), label='lssty', alpha=0.5)\n",
    "plt.legend()\n",
    "\n",
    "plt.figure()\n",
    "plt.hist(df.loc[(df['sdssr'] > 0)& (df['NQ'] > 2)]['sdssr'], bins=np.arange(14, 25, 0.5), label='sdssr', alpha=0.5)\n",
    "plt.hist(df.loc[(df['sdssi'] > 0)& (df['NQ'] > 2)]['sdssi'], bins=np.arange(14, 25, 0.5), label='sdssi', alpha=0.5)\n",
    "plt.hist(df.loc[(df['sdssz'] > 0)& (df['NQ'] > 2)]['sdssz'], bins=np.arange(14, 25, 0.5), label='sdssz', alpha=0.5)\n",
    "plt.legend()\n",
    "plt.xlabel('Mag')"
   ]
  },
  {
   "cell_type": "code",
   "execution_count": null,
   "metadata": {},
   "outputs": [],
   "source": [
    "print(np.shape(df['Z']/max(df['Z'])), len(df), df.iloc[0]['Z']/max(df['Z']))\n",
    "\n",
    "plt.figure()\n",
    "#for i, sub in enumerate(subsamples):\n",
    "    \n",
    "plt.scatter(df['Z'][df['Z']>0.], df['lsstg'][df['Z']>0.], c=np.log10(df['Z'][df['Z']>0.]), alpha=0.1, marker='.')\n",
    "plt.title('lsstg')\n",
    "plt.ylim(10, 32)\n",
    "plt.xlim(-0.02, 0.8)"
   ]
  },
  {
   "cell_type": "code",
   "execution_count": null,
   "metadata": {
    "collapsed": true
   },
   "outputs": [],
   "source": [
    "import matplotlib.colors as colors\n",
    "import matplotlib.cm as cmx\n"
   ]
  },
  {
   "cell_type": "code",
   "execution_count": null,
   "metadata": {
    "scrolled": false
   },
   "outputs": [],
   "source": [
    "jet = plt.cm.get_cmap('viridis')\n",
    "cNorm  = colors.Normalize(vmin=0, vmax=len(bandpasses)-4)\n",
    "scalarMap = cmx.ScalarMappable(norm=cNorm, cmap=jet)\n",
    "\n",
    "sub = 2\n",
    "print(z_SLICS[sub])\n",
    "\n",
    "plt.figure()\n",
    "plt.errorbar(subsamples[sub]['Z'], subsamples[sub]['lsstg'], yerr=subsamples[sub]['lsstg_err'], \n",
    "             fmt='o', color=scalarMap.to_rgba(0), alpha=0.5)\n",
    "plt.title('lsstg')\n",
    "plt.ylim(10, 30)\n",
    "\n",
    "plt.figure()\n",
    "plt.errorbar(subsamples[sub]['Z'], subsamples[sub]['lsstr'], yerr=subsamples[sub]['lsstr_err'], \n",
    "             fmt='o', color=scalarMap.to_rgba(1), alpha=0.5)\n",
    "plt.title('lsstr')\n",
    "plt.ylim(10, 30)\n",
    "\n",
    "plt.figure()\n",
    "plt.errorbar(subsamples[sub]['Z'], subsamples[sub]['lssti'], yerr=subsamples[sub]['lssti_err'], \n",
    "             fmt='o', color=scalarMap.to_rgba(2), alpha=0.5)\n",
    "plt.title('lssti')\n",
    "plt.ylim(10, 30)\n",
    "\n",
    "plt.figure()\n",
    "plt.errorbar(subsamples[sub]['Z'], subsamples[sub]['lsstz'], yerr=subsamples[sub]['lsstz_err'], \n",
    "             fmt='o', color=scalarMap.to_rgba(3), alpha=0.5)\n",
    "plt.title('lsstz')\n",
    "plt.ylim(10, 30)\n",
    "\n",
    "plt.figure()\n",
    "plt.errorbar(subsamples[sub]['Z'], subsamples[sub]['lssty'], yerr=subsamples[sub]['lssty_err'], \n",
    "             fmt='o', color=scalarMap.to_rgba(4), alpha=0.5)\n",
    "plt.title('lssty')\n",
    "plt.ylim(10, 30)\n",
    "\n",
    "plt.figure()\n",
    "plt.errorbar(subsamples[sub]['Z'], subsamples[sub]['sdssr'], yerr=subsamples[sub]['sdssr_err'], \n",
    "             fmt='o', color=scalarMap.to_rgba(1), alpha=0.5)\n",
    "plt.title('sdssr')\n",
    "plt.ylim(10, 30)\n",
    "\n",
    "plt.figure()\n",
    "plt.errorbar(subsamples[sub]['Z'], subsamples[sub]['sdssi'], yerr=subsamples[sub]['sdssi_err'], \n",
    "             fmt='o', color=scalarMap.to_rgba(2), alpha=0.5)\n",
    "plt.title('sdssi')\n",
    "plt.ylim(10, 30)\n",
    "\n",
    "plt.figure()\n",
    "plt.errorbar(subsamples[sub]['Z'], subsamples[sub]['sdssz'], yerr=subsamples[sub]['sdssz_err'], \n",
    "             fmt='o', color=scalarMap.to_rgba(3), alpha=0.5)\n",
    "plt.title('sdssz')\n",
    "plt.ylim(10, 30)"
   ]
  },
  {
   "cell_type": "code",
   "execution_count": null,
   "metadata": {
    "collapsed": true
   },
   "outputs": [],
   "source": [
    "nog_0 = np.array([x.split(\"'\")[1].strip() for x in subsamples[0].iloc[\n",
    "                  np.where(subsamples[0]['lsstg'] == 0)[0]]['FILENAME'].values])         \n",
    "\n",
    "nog_8 = np.array([x.split(\"'\")[1].strip() for x in subsamples[8].iloc[\n",
    "                  np.where(subsamples[8]['lsstg'] == 0)[0]]['FILENAME'].values])    "
   ]
  },
  {
   "cell_type": "code",
   "execution_count": null,
   "metadata": {
    "collapsed": true
   },
   "outputs": [],
   "source": [
    "def plot_bandpass_set(setname):\n",
    "    \"\"\"Plot the given set of bandpasses.\"\"\"\n",
    "\n",
    "    bandpass_meta = sncosmo.bandpasses._BANDPASSES.get_loaders_metadata()\n",
    "\n",
    "    fig = plt.figure(figsize=(15, 4))\n",
    "    ax = plt.axes()\n",
    "\n",
    "    nbands = 0\n",
    "    for m in bandpass_meta:\n",
    "        if m['filterset'] != setname:\n",
    "            continue\n",
    "        b = sncosmo.get_bandpass(m['name'])\n",
    "\n",
    "        # add zeros on either side of bandpass transmission\n",
    "        wave = np.zeros(len(b.wave) + 2)\n",
    "        wave[0] = b.wave[0]\n",
    "        wave[1:-1] = b.wave\n",
    "        wave[-1] = b.wave[-1]\n",
    "        trans = np.zeros(len(b.trans) + 2)\n",
    "        trans[1:-1] = b.trans\n",
    "\n",
    "        ax.plot(wave, trans, label=m['name'])\n",
    "        nbands += 1\n",
    "\n",
    "    ax.set_xlabel(\"Wavelength ($\\\\AA$)\", size=12)\n",
    "    ax.set_ylabel(\"Transmission\", size=12)\n",
    "\n",
    "    ncol = 1 + (nbands-1) // 9  # 9 labels per column\n",
    "    ax.legend(loc='upper right', frameon=False, fontsize='x-large',\n",
    "              ncol=ncol)\n",
    "\n",
    "    # Looks like each legend column takes up about 0.125 of the figure.\n",
    "    # Make room for the legend.\n",
    "    xmin, xmax = ax.get_xlim()\n",
    "    xmax += ncol * 0.125 * (xmax - xmin)\n",
    "    ax.set_xlim(xmin, xmax)\n",
    "    plt.tight_layout()"
   ]
  },
  {
   "cell_type": "code",
   "execution_count": null,
   "metadata": {
    "collapsed": true
   },
   "outputs": [],
   "source": [
    "f = '/Volumes/Backup/galaxy_data5' + nog_8[1]\n",
    "print(f)\n",
    "gama_hdu = fits.open(f)\n",
    "gama_fits = gama_hdu[0]"
   ]
  },
  {
   "cell_type": "code",
   "execution_count": null,
   "metadata": {
    "collapsed": true
   },
   "outputs": [],
   "source": [
    "x_gama = np.arange(0, len(gama_fits.data[0]))\n",
    "wv_gama = gama_fits.header['CD1_1']*x_gama + gama_fits.header['WMIN']\n",
    "\n",
    "print(wv_gama[0], wv_gama[-1])"
   ]
  },
  {
   "cell_type": "code",
   "execution_count": null,
   "metadata": {
    "collapsed": true
   },
   "outputs": [],
   "source": [
    "## Quick plot of the spectrum plus the variance. \n",
    "# Turn on the the other plotting functions to see what non-calibrated spectra look like. \n",
    "\n",
    "plt.figure(figsize=(15, 6))\n",
    "plot_bandpass_set('lsst')\n",
    "plt.plot(wv_gama, gama_fits.data[0]/500, label='Spectrum')\n",
    "# plt.plot(wv_gama, gama_fits.data[1], label=r'$1\\sigma$ Error')\n",
    "#plt.plot(wv_gama, gama_fits.data[0], linewidth=0.5, color='k')\n",
    "#sigma = np.sqrt(gama_fits.data[1])\n",
    "#plt.fill_between(wv_gama, gama_fits.data[0] - sigma, gama_fits.data[0] + sigma, alpha=0.5, color='r')\n",
    "#plt.plot(wv_gama, gama_fits.data[2], label='Non-calibrated Spectrum')\n",
    "#plt.plot(wv_gama, gama_fits.data[3], label=r'$1\\sigma$ Error on Non-calibrated Spectrum')\n",
    "#plt.plot(wv_gama, gama_fits.data[4], label='Sky Spectrum') \n",
    "\n",
    "plt.axhline(0, color='k')\n",
    "\n",
    "#plt.ylim(-10, 30)\n",
    "plt.xlim(gama_fits.header['WMIN'], gama_fits.header['WMAX'])\n",
    "\n",
    "plt.title('GAMA Spectrum')\n",
    "plt.xlabel(r'Wavelength [$\\AA$]', size=13)\n",
    "plt.ylabel(r'Flux  [$10^{-17}$ erg/s/$cm^2/\\AA$]', size=13)\n"
   ]
  },
  {
   "cell_type": "code",
   "execution_count": null,
   "metadata": {
    "collapsed": true
   },
   "outputs": [],
   "source": [
    "#for i in range(0, 19):\n",
    "#    print(i, len(subsamples[i].iloc[np.where(subsamples[i]['lsstg'] == 0)[0]])/lens[i] * 100 , z_SLICS[i], lens[i])"
   ]
  },
  {
   "cell_type": "code",
   "execution_count": null,
   "metadata": {},
   "outputs": [],
   "source": [
    "plt.figure()\n",
    "plot_bandpass_set('lsst')\n",
    "plot_bandpass_set('sdss')"
   ]
  },
  {
   "cell_type": "code",
   "execution_count": null,
   "metadata": {},
   "outputs": [],
   "source": [
    "#len(df.loc[(df['NQ'] > 2)]['lsstg']), len(df.loc[(df['NQ'] > 2)]['sdssr'])\n",
    "\n",
    "\n",
    "#154809"
   ]
  },
  {
   "cell_type": "code",
   "execution_count": null,
   "metadata": {},
   "outputs": [],
   "source": [
    "#df.loc[(df['NQ'] > 2)]"
   ]
  },
  {
   "cell_type": "code",
   "execution_count": null,
   "metadata": {},
   "outputs": [],
   "source": [
    "#df.iloc[2]"
   ]
  },
  {
   "cell_type": "code",
   "execution_count": null,
   "metadata": {},
   "outputs": [],
   "source": [
    "band_err = [name + '_err' for name in bandpasses]"
   ]
  },
  {
   "cell_type": "code",
   "execution_count": null,
   "metadata": {},
   "outputs": [],
   "source": [
    "## Open a file from SDSS\n",
    "# this spectrum was throwing a nan for the error, but that has been fixed\n",
    "\n",
    "f = '/Volumes/Backup/galaxy_data5/GAMA/dr3/data/spectra/sdss/spec-4022-55352-0880.fit'\n",
    "print(f)\n",
    "sdss_hdu = fits.open(f)\n",
    "sdss_fits = sdss_hdu[0]"
   ]
  },
  {
   "cell_type": "code",
   "execution_count": null,
   "metadata": {},
   "outputs": [],
   "source": [
    "x_sdss = np.arange(0, len(sdss_fits.data[0]))\n",
    "wv_sdss_log = sdss_fits.header['CRVAL1'] + sdss_fits.header['CDELT1']* x_sdss\n",
    "wv_sdss = 10**(wv_sdss_log)\n",
    "\n",
    "print(wv_sdss[0], wv_sdss[-1])"
   ]
  },
  {
   "cell_type": "code",
   "execution_count": null,
   "metadata": {},
   "outputs": [],
   "source": [
    "plt.figure(figsize=(15, 6))\n",
    "plot_bandpass_set('lsst')\n",
    "plt.plot(wv_sdss, sdss_fits.data[0]/400, label='Spectrum')\n",
    "# plt.plot(wv_sdss, sdss_fits.data[1], label='Variance')\n",
    "#plt.plot(wv_sdss, sdss_fits.data[0], color='k', linewidth=0.5)\n",
    "#sigma = sdss_fits.data[1]\n",
    "#plt.fill_between(wv_sdss, sdss_fits.data[0] - sigma, sdss_fits.data[0] + sigma, alpha=0.5, color='r')\n",
    "#plt.plot(wv_sdss, sdss_fits.data[2], label='Sky Spectrum')\n",
    "#plt.plot(wv_sdss, sdss_fits.data[3], label='Best fit model')\n",
    "#plt.plot(wv_sdss, sdss_fits.data[5], label='Wavelenght dispersion')\n",
    "\n",
    "plt.axhline(0, color='k')\n",
    "\n",
    "# plt.legend()\n",
    "\n",
    "plt.xlim(sdss_fits.header['WMIN'], sdss_fits.header['WMAX'])\n",
    "\n",
    "plt.title('SDSS Spectrum')\n",
    "plt.xlabel(r'Wavelength [$\\AA$]', size=13)\n",
    "plt.ylabel(r'Flux  [$10^{-17}$ erg/s/$cm^2/\\AA$]', size=13)"
   ]
  },
  {
   "cell_type": "code",
   "execution_count": null,
   "metadata": {},
   "outputs": [],
   "source": [
    "subsamples[0].iloc[0]"
   ]
  },
  {
   "cell_type": "code",
   "execution_count": null,
   "metadata": {},
   "outputs": [],
   "source": [
    "sncosmo.get_bandpass('sdssr').wave[0], sncosmo.get_bandpass('sdssr').wave[-1]"
   ]
  },
  {
   "cell_type": "code",
   "execution_count": null,
   "metadata": {},
   "outputs": [],
   "source": [
    "plt.hist(subsamples[0][subsamples[0]['NQ'].values == 3]['lsstg'], bins=np.arange(15, 25, 0.5), label='lsstg: 3', \n",
    "        normed=True, alpha=0.5)\n",
    "\n",
    "plt.hist(subsamples[0][subsamples[0]['NQ'].values == 4]['lsstg'], bins=np.arange(15, 25, 0.5), label='lsstg: 4', \n",
    "        normed=True, alpha=0.5)\n",
    "\n",
    "plt.hist(subsamples[0][subsamples[0]['NQ'].values == 5]['lsstg'], bins=np.arange(15, 25, 0.5), label='lsstg: 5', \n",
    "        normed=True, alpha=0.5)\n",
    "plt.legend()"
   ]
  },
  {
   "cell_type": "markdown",
   "metadata": {},
   "source": [
    "### Note to selves: If you're seeing weird things, checkout the NQs\n",
    "\n",
    "The cell below plots the LSST r/i bands versus the SDSS r/i bands. \n",
    "\n",
    "We expect these to give approximately the same result because they cover similar wavelength ranges. \n",
    "Most objects that do not agree in SDSS/LSST have large error bars. \n",
    "As you move to higher redshift bins, the errors become larger and the disagreements more prevalent. \n",
    "\n",
    "In the future, we can look at the affects of using different levels of data quality, i.e. do the analysis with only the NQ = 5 (the best quality redshifts) and compare to the full sample or lower qualities. \n",
    "\n",
    "### Also note that you should consider a signal to noise cut and maybe a magnitude cut."
   ]
  },
  {
   "cell_type": "code",
   "execution_count": null,
   "metadata": {},
   "outputs": [],
   "source": [
    "sub = 3\n",
    "print(z_SLICS[sub])\n",
    "\n",
    "plt.figure(figsize=(8,8))\n",
    "plt.errorbar(subsamples[sub][subsamples[sub]['NQ'].values == 3]['lsstr'], \n",
    "             subsamples[sub][subsamples[sub]['NQ'].values == 3]['sdssr'],\n",
    "             xerr=subsamples[sub][subsamples[sub]['NQ'].values == 3]['lsstr_err'],\n",
    "             yerr=subsamples[sub][subsamples[sub]['NQ'].values == 3]['sdssr_err'],\n",
    "             fmt='o',\n",
    "             alpha=0.4, \n",
    "             label='r: 3')\n",
    "\n",
    "plt.errorbar(subsamples[sub][subsamples[sub]['NQ'].values == 4]['lsstr'], \n",
    "             subsamples[sub][subsamples[sub]['NQ'].values == 4]['sdssr'],\n",
    "             xerr=subsamples[sub][subsamples[sub]['NQ'].values == 4]['lsstr_err'],\n",
    "             yerr=subsamples[sub][subsamples[sub]['NQ'].values == 4]['sdssr_err'],\n",
    "             fmt='o',\n",
    "             alpha=0.3, \n",
    "             label='r: 4')\n",
    "\n",
    "plt.errorbar(subsamples[sub][subsamples[sub]['NQ'].values == 5]['lsstr'], \n",
    "             subsamples[sub][subsamples[sub]['NQ'].values == 5]['sdssr'],\n",
    "             xerr=subsamples[sub][subsamples[sub]['NQ'].values == 5]['lsstr_err'],\n",
    "             yerr=subsamples[sub][subsamples[sub]['NQ'].values == 5]['sdssr_err'],\n",
    "             fmt='o',\n",
    "             alpha=0.1, \n",
    "             label='r: 5')\n",
    "\n",
    "plt.legend()\n",
    "plt.xlim(14, 30)\n",
    "plt.ylim(14, 30)\n",
    "plt.xlabel('lsst r', size='x-large')\n",
    "plt.ylabel('sdss r', size='x-large')\n",
    "\n",
    "plt.figure(figsize=(8,8))\n",
    "plt.errorbar(subsamples[sub][subsamples[sub]['NQ'].values == 3]['lssti'], \n",
    "             subsamples[sub][subsamples[sub]['NQ'].values == 3]['sdssi'],\n",
    "             xerr=subsamples[sub][subsamples[sub]['NQ'].values == 3]['lssti_err'],\n",
    "             yerr=subsamples[sub][subsamples[sub]['NQ'].values == 3]['sdssi_err'],\n",
    "             fmt='o',\n",
    "             alpha=0.4, \n",
    "             label='r: 3')\n",
    "\n",
    "plt.errorbar(subsamples[sub][subsamples[sub]['NQ'].values == 4]['lssti'], \n",
    "             subsamples[sub][subsamples[sub]['NQ'].values == 4]['sdssi'],\n",
    "             xerr=subsamples[sub][subsamples[sub]['NQ'].values == 4]['lssti_err'],\n",
    "             yerr=subsamples[sub][subsamples[sub]['NQ'].values == 4]['sdssi_err'],\n",
    "             fmt='o',\n",
    "             alpha=0.3, \n",
    "             label='r: 4')\n",
    "\n",
    "plt.errorbar(subsamples[sub][subsamples[sub]['NQ'].values == 5]['lssti'], \n",
    "             subsamples[sub][subsamples[sub]['NQ'].values == 5]['sdssi'],\n",
    "             xerr=subsamples[sub][subsamples[sub]['NQ'].values == 5]['lssti_err'],\n",
    "             yerr=subsamples[sub][subsamples[sub]['NQ'].values == 5]['sdssi_err'],\n",
    "             fmt='o',\n",
    "             alpha=0.1, \n",
    "             label='r: 5')\n",
    "\n",
    "plt.legend()\n",
    "plt.xlim(14, 30)\n",
    "plt.ylim(14, 30)\n",
    "plt.xlabel('lsst i', size='x-large')\n",
    "plt.ylabel('sdss i', size='x-large')"
   ]
  },
  {
   "cell_type": "markdown",
   "metadata": {},
   "source": [
    "### Note: SDSS spans into reader wavelengths leading to possible BIAS in LOW redshifts\n",
    "\n",
    "SDSS probably fills in the dimmer objects and so there may be a bias in the lower redshift bins for redder wavelengths.  \n",
    "\n",
    "The code below plots photometry versus redshift separated by SDSS and GAMA. \n",
    "\n",
    "SDSS has a tighter distribution with a dimmer mean. They probably pulled SDSS to fill out their completeness for fainter objects. \n",
    "\n",
    "For lower redshift bins, there are photometry points in z/y for SDSS but not for GAMA. In the other bands, SDSS trends dim, so we can assume that these bias dim. How does that affect color estimates? It may target different TYPES of galaxies. "
   ]
  },
  {
   "cell_type": "code",
   "execution_count": null,
   "metadata": {
    "scrolled": false
   },
   "outputs": [],
   "source": [
    "sub=2\n",
    "survey_info_sub = np.array([x.split(\"'\")[1].strip() for x in subsamples[sub]['SURVEY'].values])\n",
    "\n",
    "plt.figure(figsize=(8, 6))\n",
    "plt.errorbar(subsamples[sub].loc[(survey_info_sub == 'GAMA')]['Z'],\n",
    "             subsamples[sub].loc[(survey_info_sub == 'GAMA')]['lsstg'],\n",
    "             yerr=subsamples[sub].loc[(survey_info_sub == 'GAMA')]['lsstg_err'],\n",
    "             fmt='o', alpha=0.3,\n",
    "             label='GAMA')\n",
    "\n",
    "\n",
    "#plt.figure(figsize=(8, 6))\n",
    "plt.errorbar(subsamples[sub].loc[(survey_info_sub == 'SDSS')]['Z'],\n",
    "             subsamples[sub].loc[(survey_info_sub == 'SDSS')]['lsstg'],\n",
    "             yerr=subsamples[sub].loc[(survey_info_sub == 'SDSS')]['lsstg_err'],\n",
    "             fmt='o', alpha=0.3,\n",
    "             label='SDSS')\n",
    "\n",
    "\n",
    "plt.ylim(10,30)\n",
    "plt.legend()\n",
    "plt.title('z_bin = %s' % z_SLICS[sub])\n",
    "plt.xlabel('z')\n",
    "plt.ylabel('lsst g Mag')\n",
    "\n",
    "\n",
    "plt.figure(figsize=(8, 6))\n",
    "plt.errorbar(subsamples[sub].loc[(survey_info_sub == 'GAMA')]['Z'],\n",
    "             subsamples[sub].loc[(survey_info_sub == 'GAMA')]['lsstr'],\n",
    "             yerr=subsamples[sub].loc[(survey_info_sub == 'GAMA')]['lsstr_err'],\n",
    "             fmt='o', alpha=0.3,\n",
    "             label='GAMA')\n",
    "\n",
    "#plt.figure(figsize=(8, 6))\n",
    "plt.errorbar(subsamples[sub].loc[(survey_info_sub == 'SDSS')]['Z'],\n",
    "             subsamples[sub].loc[(survey_info_sub == 'SDSS')]['lsstr'],\n",
    "             yerr=subsamples[sub].loc[(survey_info_sub == 'SDSS')]['lsstr_err'],\n",
    "             fmt='o', alpha=0.3,\n",
    "             label='SDSS')\n",
    "\n",
    "\n",
    "plt.ylim(10,30)\n",
    "plt.legend()\n",
    "plt.title('z_bin = %s' % z_SLICS[sub])\n",
    "plt.xlabel('z')\n",
    "plt.ylabel('lsst r Mag')\n",
    "\n",
    "plt.figure(figsize=(8, 6))\n",
    "plt.errorbar(subsamples[sub].loc[(survey_info_sub == 'GAMA')]['Z'],\n",
    "             subsamples[sub].loc[(survey_info_sub == 'GAMA')]['lssti'],\n",
    "             yerr=subsamples[sub].loc[(survey_info_sub == 'GAMA')]['lssti_err'],\n",
    "             fmt='o', alpha=0.3,\n",
    "             label='GAMA')\n",
    "\n",
    "#plt.figure(figsize=(8, 6))\n",
    "plt.errorbar(subsamples[sub].loc[(survey_info_sub == 'SDSS')]['Z'],\n",
    "             subsamples[sub].loc[(survey_info_sub == 'SDSS')]['lssti'],\n",
    "             yerr=subsamples[sub].loc[(survey_info_sub == 'SDSS')]['lssti_err'],\n",
    "             fmt='o', alpha=0.3,\n",
    "             label='SDSS')\n",
    "\n",
    "\n",
    "plt.ylim(10,30)\n",
    "plt.legend()\n",
    "plt.title('z_bin = %s' % z_SLICS[sub])\n",
    "plt.xlabel('z')\n",
    "plt.ylabel('lsst i Mag')\n",
    "\n",
    "plt.figure(figsize=(8, 6))\n",
    "plt.errorbar(subsamples[sub].loc[(survey_info_sub == 'GAMA')]['Z'],\n",
    "             subsamples[sub].loc[(survey_info_sub == 'GAMA')]['lsstz'],\n",
    "             yerr=subsamples[sub].loc[(survey_info_sub == 'GAMA')]['lsstz_err'],\n",
    "             fmt='o', alpha=0.3,\n",
    "             label='GAMA')\n",
    "\n",
    "#plt.figure(figsize=(8, 6))\n",
    "plt.errorbar(subsamples[sub].loc[(survey_info_sub == 'SDSS')]['Z'],\n",
    "             subsamples[sub].loc[(survey_info_sub == 'SDSS')]['lsstz'],\n",
    "             yerr=subsamples[sub].loc[(survey_info_sub == 'SDSS')]['lsstz_err'],\n",
    "             fmt='o', alpha=0.3,\n",
    "             label='SDSS')\n",
    "\n",
    "\n",
    "plt.ylim(10,30)\n",
    "plt.legend()\n",
    "plt.title('z_bin = %s' % z_SLICS[sub])\n",
    "plt.xlabel('z')\n",
    "plt.ylabel('lsst z Mag')\n",
    "\n",
    "plt.figure(figsize=(8, 6))\n",
    "plt.errorbar(subsamples[sub].loc[(survey_info_sub == 'GAMA')]['Z'],\n",
    "             subsamples[sub].loc[(survey_info_sub == 'GAMA')]['lssty'],\n",
    "             yerr=subsamples[sub].loc[(survey_info_sub == 'GAMA')]['lssty_err'],\n",
    "             fmt='o', alpha=0.3,\n",
    "             label='GAMA')\n",
    "\n",
    "#plt.figure(figsize=(8, 6))\n",
    "plt.errorbar(subsamples[sub].loc[(survey_info_sub == 'SDSS')]['Z'],\n",
    "             subsamples[sub].loc[(survey_info_sub == 'SDSS')]['lssty'],\n",
    "             yerr=subsamples[sub].loc[(survey_info_sub == 'SDSS')]['lssty_err'],\n",
    "             fmt='o', alpha=0.3,\n",
    "             label='SDSS')\n",
    "\n",
    "\n",
    "plt.ylim(10,30)\n",
    "plt.legend()\n",
    "plt.title('z_bin = %s' % z_SLICS[sub])\n",
    "plt.xlabel('z')\n",
    "plt.ylabel('lsst y Mag')"
   ]
  },
  {
   "cell_type": "markdown",
   "metadata": {},
   "source": [
    "### Is there a correlation with the number of spectra and the quality?\n",
    "\n",
    "Low quality have 5 or less spectra. However, high quality data can have any number of spectra.\n",
    "\n",
    "I don't really see anything. "
   ]
  },
  {
   "cell_type": "code",
   "execution_count": null,
   "metadata": {},
   "outputs": [],
   "source": [
    "plt.plot(df['N_SPEC'], df['NQ'], 'o')\n",
    "\n",
    "plt.axhline(2.9, color='r')"
   ]
  },
  {
   "cell_type": "markdown",
   "metadata": {},
   "source": [
    "Do they\n",
    "preserve the N_SPEC from SDSS? Looks like it. "
   ]
  },
  {
   "cell_type": "code",
   "execution_count": null,
   "metadata": {},
   "outputs": [],
   "source": [
    "plt.plot(df.loc[survey_info == 'SDSS']['N_SPEC'], df.loc[survey_info == 'SDSS']['NQ'], 'o')\n",
    "\n",
    "plt.axhline(2.9, color='r')"
   ]
  },
  {
   "cell_type": "code",
   "execution_count": null,
   "metadata": {},
   "outputs": [],
   "source": [
    "plt.figure(figsize=(8,8))\n",
    "plt.errorbar(subsamples[sub][subsamples[sub]['N_SPEC'].values == 1]['lsstr'], \n",
    "             subsamples[sub][subsamples[sub]['N_SPEC'].values == 1]['sdssr'],\n",
    "             xerr=subsamples[sub][subsamples[sub]['N_SPEC'].values == 1]['lsstr_err'],\n",
    "             yerr=subsamples[sub][subsamples[sub]['N_SPEC'].values == 1]['sdssr_err'],\n",
    "             fmt='o',\n",
    "             alpha=0.1, \n",
    "             label='NSPEC 1')\n",
    "\n",
    "plt.errorbar(subsamples[sub][subsamples[sub]['N_SPEC'].values == 2]['lsstr'], \n",
    "             subsamples[sub][subsamples[sub]['N_SPEC'].values == 2]['sdssr'],\n",
    "             xerr=subsamples[sub][subsamples[sub]['N_SPEC'].values == 2]['lsstr_err'],\n",
    "             yerr=subsamples[sub][subsamples[sub]['N_SPEC'].values == 2]['sdssr_err'],\n",
    "             fmt='o',\n",
    "             alpha=0.1, \n",
    "             label='NSPEC 2')\n",
    "\n",
    "plt.ylim(10,30)\n",
    "plt.xlim(10,30)\n",
    "plt.legend()\n",
    "plt.title('z_bin = %s' % z_SLICS[sub])\n",
    "plt.xlabel('lsstr')\n",
    "plt.ylabel('sdssr')"
   ]
  },
  {
   "cell_type": "code",
   "execution_count": null,
   "metadata": {},
   "outputs": [],
   "source": [
    "plt.figure(figsize=(8,8))\n",
    "\n",
    "for i in range(1, 9):\n",
    "    plt.errorbar(subsamples[sub][subsamples[sub]['N_SPEC'].values == i]['Z'], \n",
    "                 subsamples[sub][subsamples[sub]['N_SPEC'].values == i]['lsstr'],\n",
    "                 yerr=subsamples[sub][subsamples[sub]['N_SPEC'].values == i]['lsstr_err'],\n",
    "                 fmt='o',\n",
    "                 alpha=0.1, \n",
    "                 label='NSPEC %s' %i)\n",
    "\n",
    "\n",
    "\n",
    "plt.ylim(10,30)\n",
    "#plt.xlim(10,30)\n",
    "plt.legend()\n",
    "plt.title('z_bin = %s' % z_SLICS[sub])\n",
    "plt.ylabel('lsstr')\n",
    "plt.xlabel('z')"
   ]
  },
  {
   "cell_type": "code",
   "execution_count": null,
   "metadata": {},
   "outputs": [],
   "source": [
    "plt.figure(figsize=(8,8))\n",
    "\n",
    "for i in range(1, 9):\n",
    "    plt.hist(subsamples[sub][subsamples[sub]['N_SPEC'].values == i]['lsstr'], bins=np.arange(15, 24, 0.25),\n",
    "             normed=True,\n",
    "                 alpha=0.3, \n",
    "                 label='NSPEC %s' %i)\n",
    "\n",
    "\n",
    "\n",
    "#plt.ylim(0, 2)\n",
    "#plt.xlim(10,30)\n",
    "plt.legend()\n",
    "plt.title('z_bin = %s' % z_SLICS[sub])\n",
    "plt.xlabel('lsstr')"
   ]
  },
  {
   "cell_type": "code",
   "execution_count": null,
   "metadata": {},
   "outputs": [],
   "source": [
    "plt.figure(figsize=(8,8))\n",
    "\n",
    "for i in range(1, 9):\n",
    "    plt.hist(subsamples[sub][(subsamples[sub]['N_SPEC'].values == i) & \n",
    "                             (np.isfinite(subsamples[sub]['lsstr_err'].values))]['lsstr_err'], \n",
    "            bins=np.arange(0, 0.2, 0.005),\n",
    "            normed=True,\n",
    "            alpha=0.3, \n",
    "            label='NSPEC %s' %i)\n",
    "\n",
    "plt.xlim(-0.001, 0.075)\n",
    "plt.legend()\n",
    "plt.title('z_bin = %s' % z_SLICS[sub])\n",
    "plt.xlabel('lsstr')"
   ]
  },
  {
   "cell_type": "code",
   "execution_count": null,
   "metadata": {
    "collapsed": true
   },
   "outputs": [],
   "source": []
  }
 ],
 "metadata": {
  "kernelspec": {
   "display_name": "Python 3",
   "language": "python",
   "name": "python3"
  },
  "language_info": {
   "codemirror_mode": {
    "name": "ipython",
    "version": 3
   },
   "file_extension": ".py",
   "mimetype": "text/x-python",
   "name": "python",
   "nbconvert_exporter": "python",
   "pygments_lexer": "ipython3",
   "version": "3.6.8"
  }
 },
 "nbformat": 4,
 "nbformat_minor": 2
}
