{
 "cells": [
  {
   "cell_type": "markdown",
   "metadata": {},
   "source": [
    "# Quantifying galaxy environment\n",
    "\n",
    "notebook by _Alex Malz (GCCL@RUB)_, _Kara Ponder (UC Berkeley)_, _Ben Moews (Edinburgh)_, add your name here"
   ]
  },
  {
   "cell_type": "code",
   "execution_count": null,
   "metadata": {},
   "outputs": [],
   "source": [
    "from astropy.io import fits\n",
    "import corner\n",
    "import environment as galenv\n",
    "import matplotlib.pyplot as plt\n",
    "import multiprocessing as mp\n",
    "import numpy as np\n",
    "import os\n",
    "import pandas as pd\n",
    "\n",
    "%matplotlib inline\n",
    "np.seed = 42"
   ]
  },
  {
   "cell_type": "markdown",
   "metadata": {},
   "source": [
    "We want to get the spectra of galaxies matching conditions found [here](http://www.gama-survey.org/dr3/schema/table.php?id=31)."
   ]
  },
  {
   "cell_type": "code",
   "execution_count": null,
   "metadata": {},
   "outputs": [],
   "source": [
    "with fits.open('SpecObj.fits') as hdul:\n",
    "    hdul.info()\n",
    "#     print(hdul[1].header)\n",
    "    zdf = pd.DataFrame(np.array(hdul[1].data).byteswap().newbyteorder())\n",
    "    print(zdf.columns)\n",
    "#     df.index = df['CATAID']"
   ]
  },
  {
   "cell_type": "markdown",
   "metadata": {},
   "source": [
    "GAMA did calculate some environment measures for us, but only on a small subset of galaxies."
   ]
  },
  {
   "cell_type": "code",
   "execution_count": null,
   "metadata": {},
   "outputs": [],
   "source": [
    "# with fits.open('EnvironmentMeasures.fits') as hdul:\n",
    "#     hdul.info()\n",
    "# #     print(hdul[1].header)\n",
    "#     envdf = pd.DataFrame(np.array(hdul[1].data).byteswap().newbyteorder())\n",
    "#     print(envdf.columns)\n",
    "# #     envdf.index = envdf['CATAID']"
   ]
  },
  {
   "cell_type": "code",
   "execution_count": null,
   "metadata": {},
   "outputs": [],
   "source": [
    "# df = pd.merge(envdf, zdf, on='CATAID')\n",
    "df = zdf"
   ]
  },
  {
   "cell_type": "markdown",
   "metadata": {},
   "source": [
    "## Select spectra by redshift and field"
   ]
  },
  {
   "cell_type": "markdown",
   "metadata": {},
   "source": [
    "Each galaxy in the GAMA catalog has a spectroscopically confirmed redshift.  \n",
    "We're going to match these redshifts to the snapshots of the particle data."
   ]
  },
  {
   "cell_type": "code",
   "execution_count": null,
   "metadata": {},
   "outputs": [],
   "source": [
    "z_SLICS = np.array([0.042, 0.080, 0.130, 0.221, 0.317, 0.418, 0.525, 0.640, 0.764, 0.897, \n",
    "           1.041, 1.199, 1.372, 1.562, 1.772, 2.007, 2.269, 2.565, 2.899])\n",
    "z_mids = (z_SLICS[1:] + z_SLICS[:-1]) / 2.\n",
    "z_bins = np.insert(z_mids, 0, min(df['Z']))\n",
    "z_bins = np.append(z_mids, max(df['Z']))\n",
    "print(z_bins)\n",
    "plt.hist(df['Z'], bins=z_bins)\n",
    "plt.semilogy()\n",
    "plt.xlabel('redshift')\n",
    "plt.ylabel('number of galaxies')"
   ]
  },
  {
   "cell_type": "markdown",
   "metadata": {},
   "source": [
    "The histogram of redshift is skewed by the use of `z=10` as a placeholder for not having a secure redshift.  \n",
    "GAMA has a quality flag we can use to filter for redshifts that were considered of sufficient quality for science use, which they define as `NQ > 2`."
   ]
  },
  {
   "cell_type": "code",
   "execution_count": null,
   "metadata": {},
   "outputs": [],
   "source": [
    "moar_bins = np.arange(z_bins[0], z_bins[-1] + z_bins[1], z_bins[1])\n",
    "for i in range(5):\n",
    "    quality = df.loc[df['NQ'] == i+1, 'Z']\n",
    "    plt.hist(quality, alpha=0.5, label=str(i+1), bins=moar_bins)\n",
    "plt.legend(loc='upper right')\n",
    "plt.semilogy()\n",
    "plt.xlim(moar_bins[0], moar_bins[-1])\n",
    "plt.xlabel('Z')\n",
    "plt.ylabel('number of galaxies')\n",
    "plt.title('redshift distributions by quality flag \"NQ\"')"
   ]
  },
  {
   "cell_type": "markdown",
   "metadata": {},
   "source": [
    "GAMA observed galaxies in four disjoint regions of the sky.\n",
    "Since environment is about the immediate vicinity of each galaxy, we'll have to divide the galaxies by region, effectively building our redshift-environment-color distribution separately for each region before combining those findings."
   ]
  },
  {
   "cell_type": "code",
   "execution_count": null,
   "metadata": {},
   "outputs": [],
   "source": [
    "corner.corner(np.array([df['RA'], df['DEC']]).T, labels=['RA', 'DEC'], show_titles=True)"
   ]
  },
  {
   "cell_type": "code",
   "execution_count": null,
   "metadata": {},
   "outputs": [],
   "source": [
    "RA_bin_ends = [0., 80., 160., 200., 360.]\n",
    "subsamples, lens = [], []\n",
    "for j in range(len(z_bins)-1):\n",
    "    for i in range(len(RA_bin_ends)-1):\n",
    "        subsample = df.loc[(df['RA'] >= RA_bin_ends[i]) & (df['RA'] < RA_bin_ends[i+1]) \n",
    "                             & (df['NQ'] > 2) & (df['Z'] >= z_bins[j]) & (df['Z'] < z_bins[j+1]), \n",
    "                             ['CATAID', 'RA', 'DEC', 'Z', 'NQ']]\n",
    "        nn = len(subsample)\n",
    "        if nn > 0:\n",
    "            lens.append(nn)\n",
    "            subsamples.append(subsample)"
   ]
  },
  {
   "cell_type": "code",
   "execution_count": null,
   "metadata": {},
   "outputs": [],
   "source": [
    "\n",
    "print(lens)"
   ]
  },
  {
   "cell_type": "code",
   "execution_count": null,
   "metadata": {},
   "outputs": [],
   "source": [
    "chosen_field = np.argmax(lens)\n",
    "print(chosen_field)"
   ]
  },
  {
   "cell_type": "code",
   "execution_count": null,
   "metadata": {},
   "outputs": [],
   "source": [
    "datum = np.vstack((subsamples[chosen_field]['DEC'], [subsamples[chosen_field]['RA']])).T"
   ]
  },
  {
   "cell_type": "markdown",
   "metadata": {},
   "source": [
    "## Number of neighbors within a distance"
   ]
  },
  {
   "cell_type": "markdown",
   "metadata": {},
   "source": [
    "Within each field, we can quantify the density of the local region around each galaxy, which is really what the notion of \"galaxy environment\" is getting at.\n",
    "We're going to use the number of neighboring galaxies at each of several given distances in angular coordinates, so as not to incur the computational cost of calculating the distances between all galaxies."
   ]
  },
  {
   "cell_type": "code",
   "execution_count": null,
   "metadata": {},
   "outputs": [],
   "source": [
    "help(galenv)"
   ]
  },
  {
   "cell_type": "markdown",
   "metadata": {},
   "source": [
    "### Choose some reasonable radii\n",
    "\n",
    "Our angular positions are in degrees.\n",
    "The distances will be in bogus units because the code normalizes to the radius of the Earth, but we only need the number of neighbors within an angular distance, so it should be fine."
   ]
  },
  {
   "cell_type": "code",
   "execution_count": null,
   "metadata": {},
   "outputs": [],
   "source": [
    "chosen_ind = np.random.randint(0, len(datum), 1)[0]\n",
    "print(chosen_ind)\n",
    "try_distances = np.flip(np.geomspace(0.01, 0.1, 10))\n",
    "res = []\n",
    "friends = datum\n",
    "for dist in try_distances:\n",
    "    friends = galenv.nn_finder(friends, datum[chosen_ind], dist)\n",
    "    res.append(len(friends) - 1)"
   ]
  },
  {
   "cell_type": "code",
   "execution_count": null,
   "metadata": {},
   "outputs": [],
   "source": [
    "plt.plot(try_distances, res)\n",
    "plt.xlabel('distance in angular coordinates')\n",
    "plt.ylabel('number of neighbors within distance')"
   ]
  },
  {
   "cell_type": "markdown",
   "metadata": {},
   "source": [
    "### Examine distribution of environment values"
   ]
  },
  {
   "cell_type": "code",
   "execution_count": null,
   "metadata": {},
   "outputs": [],
   "source": [
    "def calc_env(ind):\n",
    "    res = [subsamples[s]['CATAID'].values[ind]]\n",
    "    friends = data\n",
    "    for dist in try_distances:\n",
    "        friends = galenv.nn_finder(friends, data[ind], dist)\n",
    "        res.append(len(friends))\n",
    "    return res"
   ]
  },
  {
   "cell_type": "markdown",
   "metadata": {},
   "source": [
    "Only execute this cell once, because it's slow!"
   ]
  },
  {
   "cell_type": "code",
   "execution_count": null,
   "metadata": {},
   "outputs": [],
   "source": [
    "# do this for all 4 fields and 19 redshifts separately\n",
    "all_envs = []\n",
    "for s in range(len(subsamples)):\n",
    "#     print(lens[s])\n",
    "    if lens[s] == 1:\n",
    "        envs_in_field = [[subsamples[s]['CATAID'].values[0]] + [1] * len(try_distances)]\n",
    "    else:\n",
    "        data = np.vstack((subsamples[s]['DEC'], [subsamples[s]['RA']])).T\n",
    "        nps = mp.cpu_count()\n",
    "        pool = mp.Pool(nps - 1)\n",
    "        envs_in_field = pool.map(calc_env, range(len(data)))\n",
    "    all_envs = all_envs + envs_in_field"
   ]
  },
  {
   "cell_type": "code",
   "execution_count": null,
   "metadata": {},
   "outputs": [],
   "source": [
    "envs_arr = np.array(all_envs)\n",
    "envs_df = pd.DataFrame(data=envs_arr, index = envs_arr[:, 0], columns = ['CATAID']+[str(i) for i in try_distances])\n",
    "\n",
    "df = pd.merge(envs_df, zdf, on='CATAID')\n",
    "df.to_csv('enviros.csv')"
   ]
  },
  {
   "cell_type": "markdown",
   "metadata": {},
   "source": [
    "Once you've executed the above once, comment it out and execute the following, to skip the slow step."
   ]
  },
  {
   "cell_type": "code",
   "execution_count": null,
   "metadata": {},
   "outputs": [],
   "source": [
    "zenvdf = pd.read_csv('enviros.csv')"
   ]
  },
  {
   "cell_type": "code",
   "execution_count": null,
   "metadata": {},
   "outputs": [],
   "source": [
    "zenvdf.columns"
   ]
  },
  {
   "cell_type": "markdown",
   "metadata": {},
   "source": [
    "Now we have the number of neighbors for all galaxies!"
   ]
  },
  {
   "cell_type": "code",
   "execution_count": null,
   "metadata": {},
   "outputs": [],
   "source": [
    "orig_distances = np.flip(try_distances)\n",
    "for i in range(len(orig_distances)):\n",
    "    plt.violinplot(envs_df[str(orig_distances[i])], positions=[i])\n",
    "plt.xticks(range(len(orig_distances)), np.around(orig_distances, 3))\n",
    "plt.semilogy()\n",
    "plt.xlabel('distance')\n",
    "plt.ylabel('number of neighbors')\n",
    "plt.ylim(0.99, 10)"
   ]
  },
  {
   "cell_type": "markdown",
   "metadata": {},
   "source": [
    "It remains to be seen whether the multimodal distributions in some bins are physical or not.\n",
    "(They look like a problem with smoothing over a discrete variable.)\n",
    "We'll try plotting them as a function of field and redshift next."
   ]
  },
  {
   "cell_type": "markdown",
   "metadata": {},
   "source": [
    "# Next step:\n",
    "\n",
    "## Constructing the redshift-environment-SED/color relationship"
   ]
  },
  {
   "cell_type": "code",
   "execution_count": null,
   "metadata": {},
   "outputs": [],
   "source": [
    "# phodf = pd.read_csv('SpecObjPhot/SpecObjPhot_0.080.csv')"
   ]
  },
  {
   "cell_type": "code",
   "execution_count": null,
   "metadata": {},
   "outputs": [],
   "source": [
    "# phodf.columns"
   ]
  },
  {
   "cell_type": "code",
   "execution_count": null,
   "metadata": {},
   "outputs": [],
   "source": [
    "# df = pd.merge(phodf, zenvdf, on='CATAID')"
   ]
  },
  {
   "cell_type": "code",
   "execution_count": null,
   "metadata": {},
   "outputs": [],
   "source": [
    "# df.columns"
   ]
  },
  {
   "cell_type": "code",
   "execution_count": null,
   "metadata": {},
   "outputs": [],
   "source": [
    "# # whichdata = ['Z']\n",
    "# # corner.corner(np.array([df['RA'], df['DEC']]).T, labels=['RA', 'DEC'], show_titles=True)"
   ]
  }
 ],
 "metadata": {
  "kernelspec": {
   "display_name": "COIN (Python 3)",
   "language": "python",
   "name": "coin_3"
  },
  "language_info": {
   "codemirror_mode": {
    "name": "ipython",
    "version": 3
   },
   "file_extension": ".py",
   "mimetype": "text/x-python",
   "name": "python",
   "nbconvert_exporter": "python",
   "pygments_lexer": "ipython3",
   "version": "3.6.8"
  }
 },
 "nbformat": 4,
 "nbformat_minor": 2
}
