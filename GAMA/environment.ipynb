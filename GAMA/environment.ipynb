{
 "cells": [
  {
   "cell_type": "markdown",
   "metadata": {},
   "source": [
    "# Quantifying galaxy environment\n",
    "\n",
    "notebook by _Alex Malz (GCCL@RUB)_, _Kara Ponder (UC Berkeley)_, _Ben Moews (Edinburgh)_, add your name here"
   ]
  },
  {
   "cell_type": "code",
   "execution_count": null,
   "metadata": {},
   "outputs": [],
   "source": [
    "from astropy.io import fits\n",
    "import corner\n",
    "import galenv\n",
    "import matplotlib.pyplot as plt\n",
    "import numpy as np\n",
    "import os\n",
    "import pandas as pd\n",
    "\n",
    "%matplotlib inline\n",
    "np.seed = 42"
   ]
  },
  {
   "cell_type": "markdown",
   "metadata": {},
   "source": [
    "We want to get the spectra of galaxies matching conditions found [here](http://www.gama-survey.org/dr3/schema/table.php?id=31)."
   ]
  },
  {
   "cell_type": "code",
   "execution_count": null,
   "metadata": {},
   "outputs": [],
   "source": [
    "with fits.open('SpecObj.fits') as hdul:\n",
    "    hdul.info()\n",
    "#     print(hdul[1].header)\n",
    "    df = pd.DataFrame(np.array(hdul[1].data).byteswap().newbyteorder())\n",
    "    print(df.columns)\n",
    "    df.index = df['CATAID']"
   ]
  },
  {
   "cell_type": "markdown",
   "metadata": {},
   "source": [
    "## Select spectra by redshift and field"
   ]
  },
  {
   "cell_type": "markdown",
   "metadata": {},
   "source": [
    "## Galaxy redshifts"
   ]
  },
  {
   "cell_type": "markdown",
   "metadata": {},
   "source": [
    "Each galaxy in the GAMA catalog has a spectroscopically confirmed redshift.  \n",
    "We're going to match these redshifts to the snapshots of the particle data."
   ]
  },
  {
   "cell_type": "code",
   "execution_count": null,
   "metadata": {},
   "outputs": [],
   "source": [
    "z_SLICS = np.array([0.042, 0.080, 0.130, 0.221, 0.317, 0.418, 0.525, 0.640, 0.764, 0.897, \n",
    "           1.041, 1.199, 1.372, 1.562, 1.772, 2.007, 2.269, 2.565, 2.899])\n",
    "z_mids = (z_SLICS[1:] + z_SLICS[:-1]) / 2.\n",
    "z_bins = np.insert(z_mids, 0, min(df['Z']))\n",
    "z_bins = np.append(z_mids, max(df['Z']))\n",
    "plt.hist(df['Z'], bins=z_bins)\n",
    "plt.semilogy()\n",
    "plt.xlabel('redshift')\n",
    "plt.ylabel('number of galaxies')"
   ]
  },
  {
   "cell_type": "markdown",
   "metadata": {},
   "source": [
    "The histogram of redshift is skewed by the use of `z=10` as a placeholder for not having a secure redshift.  \n",
    "GAMA has a quality flag we can use to filter for redshifts that were considered of sufficient quality for science use, which they define as `NQ > 2`."
   ]
  },
  {
   "cell_type": "code",
   "execution_count": null,
   "metadata": {},
   "outputs": [],
   "source": [
    "moar_bins = np.arange(z_bins[0], z_bins[-1] + z_bins[1], z_bins[1])\n",
    "for i in range(5):\n",
    "    quality = df.loc[df['NQ'] == i+1, 'Z']\n",
    "    plt.hist(quality, alpha=0.5, label=str(i+1), bins=moar_bins)\n",
    "plt.legend(loc='upper right')\n",
    "plt.semilogy()\n",
    "plt.xlim(moar_bins[0], moar_bins[-1])\n",
    "plt.xlabel('Z')\n",
    "plt.ylabel('number of galaxies')\n",
    "plt.title('redshift distributions by quality flag \"NQ\"')"
   ]
  },
  {
   "cell_type": "markdown",
   "metadata": {},
   "source": [
    "## Galaxy environment"
   ]
  },
  {
   "cell_type": "markdown",
   "metadata": {},
   "source": [
    "GAMA observed galaxies in four disjoint regions of the sky.\n",
    "Since environment is about the immediate vicinity of each galaxy, we'll have to divide the galaxies by region, effectively building our redshift-environment-color distribution separately for each region before combining those findings."
   ]
  },
  {
   "cell_type": "code",
   "execution_count": null,
   "metadata": {},
   "outputs": [],
   "source": [
    "corner.corner(np.array([df['RA'], df['DEC']]).T, labels=['RA', 'DEC'], show_titles=True)"
   ]
  },
  {
   "cell_type": "code",
   "execution_count": null,
   "metadata": {},
   "outputs": [],
   "source": [
    "RA_bin_ends = [0., 80., 160., 200., 360.]\n",
    "subsamples, lens = [], []\n",
    "for i in range(len(RA_bin_ends)-1):\n",
    "    subsamples.append(df.loc[(df['RA'] >= RA_bin_ends[i]) & (df['RA'] < RA_bin_ends[i+1]) \n",
    "                             & (df['NQ'] > 2) & (df['Z'] >= z_bins[1]) & (df['Z'] < z_bins[2]), \n",
    "                             ['CATAID', 'RA', 'DEC', 'Z', 'NQ']])\n",
    "    lens.append(len(subsamples[-1]))"
   ]
  },
  {
   "cell_type": "code",
   "execution_count": null,
   "metadata": {},
   "outputs": [],
   "source": [
    "subset = np.argmin(lens)\n",
    "print(lens[subset])"
   ]
  },
  {
   "cell_type": "code",
   "execution_count": null,
   "metadata": {},
   "outputs": [],
   "source": [
    "data = np.vstack((subsamples[subset]['DEC'], [subsamples[subset]['RA']])).T\n",
    "print(data.shape)\n",
    "print(data[42])"
   ]
  },
  {
   "cell_type": "markdown",
   "metadata": {},
   "source": [
    "## Galaxy environment"
   ]
  },
  {
   "cell_type": "markdown",
   "metadata": {},
   "source": [
    "Within each field, we can quantify the density of the local region around each galaxy, which is really what the notion of \"galaxy environment\" is getting at.\n",
    "We're going to use the number of neighboring galaxies at each of several given distances in angular coordinates, so as not to incur the computational cost of calculating the distances between all galaxies."
   ]
  },
  {
   "cell_type": "code",
   "execution_count": null,
   "metadata": {},
   "outputs": [],
   "source": [
    "help(galenv)"
   ]
  },
  {
   "cell_type": "markdown",
   "metadata": {},
   "source": [
    "### Choose some reasonable radii\n",
    "\n",
    "The distance measure is normalized to the radius of Earth, but our angular positions are in degrees"
   ]
  },
  {
   "cell_type": "code",
   "execution_count": null,
   "metadata": {},
   "outputs": [],
   "source": [
    "chosen_ind = np.random.randint(0, len(data), 1)[0]\n",
    "try_distances = np.geomspace(0.05, 0.2, 10)\n",
    "res = []\n",
    "for dist in try_distances:\n",
    "    res.append(len(galenv.nn_finder(data, data[chosen_ind], dist)))"
   ]
  },
  {
   "cell_type": "code",
   "execution_count": null,
   "metadata": {},
   "outputs": [],
   "source": [
    "plt.plot(try_distances, res)"
   ]
  },
  {
   "cell_type": "code",
   "execution_count": null,
   "metadata": {},
   "outputs": [],
   "source": []
  },
  {
   "cell_type": "markdown",
   "metadata": {},
   "source": [
    "# Next steps\n",
    "\n",
    "## construct redshift-environment-SED/color relationship"
   ]
  },
  {
   "cell_type": "code",
   "execution_count": null,
   "metadata": {},
   "outputs": [],
   "source": []
  },
  {
   "cell_type": "code",
   "execution_count": null,
   "metadata": {},
   "outputs": [],
   "source": [
    "# with fits.open(just_fn) as hdul:\n",
    "#     arr = np.array(hdul[0].data).byteswap().newbyteorder()\n",
    "#     metadata = hdul[0].header"
   ]
  }
 ],
 "metadata": {
  "kernelspec": {
   "display_name": "COIN (Python 3)",
   "language": "python",
   "name": "coin_3"
  },
  "language_info": {
   "codemirror_mode": {
    "name": "ipython",
    "version": 3
   },
   "file_extension": ".py",
   "mimetype": "text/x-python",
   "name": "python",
   "nbconvert_exporter": "python",
   "pygments_lexer": "ipython3",
   "version": "3.6.8"
  }
 },
 "nbformat": 4,
 "nbformat_minor": 2
}
