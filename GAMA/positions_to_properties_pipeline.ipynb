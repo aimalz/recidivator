{
 "cells": [
  {
   "cell_type": "markdown",
   "metadata": {},
   "source": [
    "# Baseline for creating a pipeline to go from positions to galaxy colors\n",
    "\n",
    "notebook by _Kara Ponder (UC Berkeley)_, _Alex Malz (GCCL@RUB)_, _Ben Moews (Edinburgh)_, add your name here\n",
    "\n",
    "This notebook currently only runs for a single (and specific) redshift bin (0.080). "
   ]
  },
  {
   "cell_type": "code",
   "execution_count": null,
   "metadata": {
    "collapsed": true
   },
   "outputs": [],
   "source": [
    "import os\n",
    "import glob\n",
    "import pickle\n",
    "\n",
    "import numpy as np\n",
    "import pandas as pd\n",
    "import multiprocessing as mp\n",
    "\n",
    "import matplotlib.pyplot as plt\n",
    "import matplotlib.colors as colors\n",
    "import matplotlib.cm as cmx\n",
    "import matplotlib\n",
    "\n",
    "import environment as galenv\n",
    "import corner\n",
    "\n",
    "%matplotlib inline\n"
   ]
  },
  {
   "cell_type": "markdown",
   "metadata": {},
   "source": [
    "## Read in *simulated* data\n",
    "\n",
    "The data is located on Emille's computer at `/media/CRP6/Cosmology/recidivator/SLICS/`. \n",
    "\n",
    "The naming scheme currently (Sept 3, 2019) does not reflect what is actually contained in the CSV. \n",
    "You can see below the the \"2 deg\" file covers 5x5 deg. \n",
    "Note: I by hand labeled the columns 'ra' and 'dec'. They do not have titles for the columns on the computer. "
   ]
  },
  {
   "cell_type": "code",
   "execution_count": null,
   "metadata": {},
   "outputs": [],
   "source": [
    "df = pd.read_csv('ang2deg.csv')"
   ]
  },
  {
   "cell_type": "code",
   "execution_count": null,
   "metadata": {},
   "outputs": [],
   "source": [
    "plt.scatter(df['ra'], df['dec'], alpha=0.01)"
   ]
  },
  {
   "cell_type": "markdown",
   "metadata": {},
   "source": [
    "## Get nearest neighbors\n",
    "\n",
    "Using the same code as from `environment.ipynb`, get the number of neighbors within a distance. \n",
    "\n",
    "First, we randomly select objects from the particle dataframe so that we are not running with too many particles. This is done to make the data easier to run though the notebook and should not be done in the final catalog. "
   ]
  },
  {
   "cell_type": "code",
   "execution_count": null,
   "metadata": {
    "collapsed": true
   },
   "outputs": [],
   "source": [
    "rand_indicies = np.random.uniform(low=0, high=len(df), size=4000)\n",
    "datum = df.iloc[rand_indicies].values"
   ]
  },
  {
   "cell_type": "code",
   "execution_count": null,
   "metadata": {},
   "outputs": [],
   "source": [
    "chosen_ind = np.random.randint(0, len(datum), 1)[0]\n",
    "print(chosen_ind)\n",
    "try_distances = np.flip(np.geomspace(0.01, 1.0, 10), axis=0)\n",
    "res = []\n",
    "friends = datum\n",
    "for dist in try_distances:\n",
    "    friends = galenv.nn_finder(friends, datum[chosen_ind], dist)\n",
    "    res.append(len(friends))"
   ]
  },
  {
   "cell_type": "code",
   "execution_count": null,
   "metadata": {},
   "outputs": [],
   "source": [
    "plt.plot(try_distances, res)\n",
    "plt.xlabel('distance in angular coordinates')\n",
    "plt.ylabel('number of neighbors within distance')"
   ]
  },
  {
   "cell_type": "code",
   "execution_count": null,
   "metadata": {
    "collapsed": true
   },
   "outputs": [],
   "source": [
    "def calc_env(ind):\n",
    "    res = [ind]\n",
    "    friends = data\n",
    "    for dist in try_distances:\n",
    "        friends = galenv.nn_finder(friends, data[ind], dist)\n",
    "        res.append(len(friends))\n",
    "    return res"
   ]
  },
  {
   "cell_type": "markdown",
   "metadata": {},
   "source": [
    "We have not broken the particles down into RA/Dec and redshift subsamples as we did the real galaxy data and so we do not need the for-loop.\n",
    "\n",
    "This also runs much faster than the other notebook (less than a minute versus 5-10 minutes for the real data.)\n",
    "\n",
    "Also note that this data is called \"ra\" and \"dec\" but the actual input is in degrees with no zeropoint to give is a physical location on the sky. "
   ]
  },
  {
   "cell_type": "code",
   "execution_count": null,
   "metadata": {
    "collapsed": true
   },
   "outputs": [],
   "source": [
    "rand_indicies = np.random.uniform(low=0, high=len(df), size=3000)\n",
    "data = df.iloc[rand_indicies].values\n",
    "nps = mp.cpu_count()\n",
    "pool = mp.Pool(nps - 1)\n",
    "envs_in_field = pool.map(calc_env, range(len(data)))\n",
    "pool.close()"
   ]
  },
  {
   "cell_type": "code",
   "execution_count": null,
   "metadata": {},
   "outputs": [],
   "source": [
    "# List of environments in the particle data\n",
    "envs_in_field = np.array(envs_in_field)"
   ]
  },
  {
   "cell_type": "markdown",
   "metadata": {},
   "source": [
    "Let's look at where our random sample is located in our field of view. "
   ]
  },
  {
   "cell_type": "code",
   "execution_count": null,
   "metadata": {},
   "outputs": [],
   "source": [
    "plt.scatter(df['ra'].iloc[rand_indicies], df['dec'].iloc[rand_indicies], alpha=0.1)\n"
   ]
  },
  {
   "cell_type": "markdown",
   "metadata": {},
   "source": [
    "### How do the enviornments compare to those found for real galalxies?"
   ]
  },
  {
   "cell_type": "code",
   "execution_count": null,
   "metadata": {},
   "outputs": [],
   "source": [
    "str_red = '0.080'\n",
    "\n",
    "# this is just the function I use to read the data at specific redshifts\n",
    "def redshift_df(str_zbin):\n",
    "    zenvdf = pd.read_csv('enviros.csv')\n",
    "    r_files = glob.glob('SpecObjPhot/SpecObjPhot*.csv')\n",
    "    f = [s for s in r_files if str_zbin in s]\n",
    "    phodf = pd.read_csv(f[0])\n",
    "    phodf = phodf.drop(columns=['GAMA_NAME', 'IC_FLAG', \n",
    "                            'N_SPEC', 'N_GAMA_SPEC', 'DIST', \n",
    "                            'SPECID', 'SURVEY', 'SURVEY_CODE',\n",
    "                            'RA', 'DEC', 'WMIN', 'WMAX', 'Z', 'NQ',\n",
    "                            'PROB', 'FILENAME', 'URL', 'URL_IMG'])\n",
    "    df = pd.merge(phodf, zenvdf, on=['CATAID'])\n",
    "    return df\n",
    "\n",
    "df_0080 = redshift_df(str_red)"
   ]
  },
  {
   "cell_type": "markdown",
   "metadata": {},
   "source": [
    "It is clear from the plot below that the simulations create environments that have many more neighbors than the real data. \n",
    "There is a much wider range of neighbors at small radial distances and the number that it reaches at large radii is several hundred larger than for real galaxies."
   ]
  },
  {
   "cell_type": "code",
   "execution_count": null,
   "metadata": {
    "scrolled": false
   },
   "outputs": [],
   "source": [
    "orig_distances = np.flip(try_distances, axis=0)\n",
    "\n",
    "fig = plt.figure(figsize=(11,10))\n",
    "for i in range(int(len(envs_in_field[:,1:])/3.)):\n",
    "    plt.loglog(try_distances, envs_in_field[i,1:], alpha=0.1, color='r')\n",
    "\n",
    "plt.loglog(try_distances, envs_in_field[i,1:], alpha=0.1, color='r', label='Simulation') # repeat of the last one to get the legend\n",
    "\n",
    "# Randomly choose 4000 to match the number chosen from the particle data\n",
    "## but only plot the same number as the number plotted for the sims\n",
    "rand_gals = np.random.uniform(low=0, high=len(df_0080), size=4000)\n",
    "\n",
    "for index, row in df_0080.iloc[rand_gals].iterrows():\n",
    "    if index < int(len(envs_in_field[:,1:])/3.):\n",
    "        dist = [str(i) for i in orig_distances]\n",
    "        plt.loglog(orig_distances, row[dist], 'o-k', alpha=0.2)\n",
    "        \n",
    "plt.loglog(orig_distances, row[dist], 'o-k', alpha=0.2, label='Real Galaxies') # repeat of the last one to get the legend\n",
    "\n",
    "plt.xlabel('radial distance', size=15)\n",
    "plt.ylabel('# neighbors', size=15)\n",
    "plt.legend()"
   ]
  },
  {
   "cell_type": "markdown",
   "metadata": {},
   "source": [
    "# Define functions to get galaxy information\n",
    "\n",
    "We define three functions that will take an array of environments at a specific redshift and output galaxy properties. \n",
    "This assumes that you have already run `environment.ipynb` and have save the clustering model in \n",
    "\n",
    "`ts_means/tskmeans_REDSHIFT.pkl` for the appropriate redshift. \n",
    "\n",
    "It also assumes that you have run the galaxy photometric properties through the 3D multivariate Gaussian Stan model and have saved the output files in \n",
    "\n",
    "`fit_summaries/summary_REDSHIFT_label_LABEL.csv` for each redshift at each label. "
   ]
  },
  {
   "cell_type": "code",
   "execution_count": null,
   "metadata": {},
   "outputs": [],
   "source": [
    "def get_label(n_r, str_redshift, verbose=False):\n",
    "    \"\"\"\n",
    "    n_r: array of number of neighbors at same radii as TS Kmeans was trained\n",
    "    redshift: redshift bin to get model\n",
    "    \n",
    "    returns: label in an array\n",
    "    \"\"\"\n",
    "\n",
    "    filename = 'ts_kmeans/tskmeans_%s.pkl'% str_redshift\n",
    "    km = pickle.load(open(filename, 'rb'))\n",
    "    predicted = km.predict(n_r)\n",
    "\n",
    "    if verbose:\n",
    "        print(\"Predicted label is: \", predicted)\n",
    "\n",
    "    return predicted"
   ]
  },
  {
   "cell_type": "code",
   "execution_count": null,
   "metadata": {
    "collapsed": true
   },
   "outputs": [],
   "source": [
    "def get_random_sample(label, str_redshift):\n",
    "    from scipy.stats import multivariate_normal\n",
    "    rando = []\n",
    "    for l in label:\n",
    "        summary = pd.read_csv('fit_summaries/summary_%s_label_%s.csv' %(str_redshift, label[0]))\n",
    "        mus = summary.iloc[:3]['mean'].values\n",
    "        cov = summary.iloc[3:]['mean'].values.reshape(3, 3)\n",
    "\n",
    "        rando.append(multivariate_normal.rvs(mus, cov))\n",
    "    return rando\n",
    "\n",
    "def get_properties(n_r, str_redshift, verbose=False):\n",
    "    l = get_label(n_r, str_redshift, verbose=verbose)\n",
    "    samp = get_random_sample(l, str_redshift)\n",
    "    return samp"
   ]
  },
  {
   "cell_type": "markdown",
   "metadata": {},
   "source": [
    "To check the functionality, I randomly defined a test list of nearest neighbors to run through `get_properties`."
   ]
  },
  {
   "cell_type": "code",
   "execution_count": null,
   "metadata": {},
   "outputs": [],
   "source": [
    "# Current input takes the nearest neighbors from the largest radii first and goes down in order to the smallest\n",
    "tester_nr = np.array([650, 600, 500, 200, 100, 10, 2, 1, 1, 1])\n",
    "\n",
    "get_properties(tester_nr, '0.080', verbose=True)"
   ]
  },
  {
   "cell_type": "markdown",
   "metadata": {},
   "source": [
    "# Feed particle data to clustering algorithm and draw galaxy properties"
   ]
  },
  {
   "cell_type": "code",
   "execution_count": null,
   "metadata": {},
   "outputs": [],
   "source": [
    "str_red = '0.080'\n",
    "\n",
    "results = get_properties(envs_in_field[:,1:], str_red)"
   ]
  },
  {
   "cell_type": "markdown",
   "metadata": {},
   "source": [
    "Plot the MOCK data!"
   ]
  },
  {
   "cell_type": "code",
   "execution_count": null,
   "metadata": {},
   "outputs": [],
   "source": [
    "sc = plt.scatter(np.array(results)[:, 0], np.array(results)[:, 1],\n",
    "            c=np.array(results)[:, 2],\n",
    "            cmap=plt.cm.Spectral, \n",
    "            vmin=min(np.array(results)[:, 2]),\n",
    "            vmax=max(np.array(results)[:, 2]),\n",
    "            alpha=0.5)\n",
    "\n",
    "cbar = plt.colorbar(sc)\n",
    "cbar.ax.set_ylabel('lsstr', size=12)\n",
    "\n",
    "plt.xlabel('r-i', size=15)\n",
    "plt.ylabel('i-z', size=15)"
   ]
  },
  {
   "cell_type": "markdown",
   "metadata": {},
   "source": [
    "# Compare mock data to to real galaxy data. "
   ]
  },
  {
   "cell_type": "code",
   "execution_count": null,
   "metadata": {
    "collapsed": true
   },
   "outputs": [],
   "source": [
    "jet = plt.cm.Spectral #plt.cm.get_cmap('viridis_r')\n",
    "cNorm  = colors.Normalize(vmin=0, vmax=20)\n",
    "scalarMap = cmx.ScalarMappable(norm=cNorm, cmap=jet)\n",
    "color=scalarMap.to_rgba(np.arange(0, 20))"
   ]
  },
  {
   "cell_type": "code",
   "execution_count": null,
   "metadata": {},
   "outputs": [],
   "source": [
    "# This is the real data in red\n",
    "fig = corner.corner(np.array([df_0080.loc[(df_0080['lsstz'] > 0) \n",
    "                                          & (df_0080['lsstr'] > 0) \n",
    "                                          & (df_0080['lssti'] > 0)]['lsstr']\n",
    "                              - df_0080.loc[(df_0080['lsstz'] > 0) \n",
    "                                            & (df_0080['lsstr'] > 0) \n",
    "                                            & (df_0080['lssti'] > 0)]['lssti'], \n",
    "                              df_0080.loc[(df_0080['lsstz'] > 0) \n",
    "                                          & (df_0080['lsstr'] > 0) \n",
    "                                          & (df_0080['lssti'] > 0)]['lssti']\n",
    "                              - df_0080.loc[(df_0080['lsstz'] > 0) \n",
    "                                            & (df_0080['lsstr'] > 0) \n",
    "                                            & (df_0080['lssti'] > 0)]['lsstz'],\n",
    "                              df_0080.loc[(df_0080['lsstz'] > 0) \n",
    "                                          & (df_0080['lsstr'] > 0) \n",
    "                                          & (df_0080['lssti'] > 0)]['lsstr'],\n",
    "                              ]).T, \n",
    "                    #labels=['r-', 'i', 'z'], show_titles=True,\n",
    "                    range = [(-1.6,1.6), (-1.6,1.6),(15,21)],\n",
    "                    color=color[1], \n",
    "                    plot_density=False, \n",
    "                    plot_contours=False,\n",
    "                    quantiles=[0.5],\n",
    "                    hist_kwargs={'density': True})\n",
    "\n",
    "# and the mock data in blue\n",
    "corner.corner(np.array(results),\n",
    "              labels=['r-i', 'i-z', 'lsstr'],\n",
    "              show_titles=True,\n",
    "              color=color[-3], fig=fig, \n",
    "              plot_contours=False, \n",
    "              plot_density=False, \n",
    "              quantiles=[0.5],\n",
    "              hist_kwargs={'density': True})\n",
    "\n",
    "#plt.savefig('final_plot.png')"
   ]
  },
  {
   "cell_type": "markdown",
   "metadata": {},
   "source": [
    "## Notes from plot above:\n",
    "\n",
    "- In the red real data, you can see some structure in lsstr which is most likely related to the magnitude limits\n",
    "- The populations of the real and mock data are slightly different. However, the population of mock data is distinct from the population of real data as seen when we compared the environments above. \n"
   ]
  },
  {
   "cell_type": "code",
   "execution_count": null,
   "metadata": {
    "collapsed": true
   },
   "outputs": [],
   "source": []
  }
 ],
 "metadata": {
  "kernelspec": {
   "display_name": "Python 3",
   "language": "python",
   "name": "python3"
  },
  "language_info": {
   "codemirror_mode": {
    "name": "ipython",
    "version": 3
   },
   "file_extension": ".py",
   "mimetype": "text/x-python",
   "name": "python",
   "nbconvert_exporter": "python",
   "pygments_lexer": "ipython3",
   "version": "3.6.8"
  }
 },
 "nbformat": 4,
 "nbformat_minor": 2
}
