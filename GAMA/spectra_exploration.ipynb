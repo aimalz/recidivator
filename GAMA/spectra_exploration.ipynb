{
 "cells": [
  {
   "cell_type": "markdown",
   "metadata": {},
   "source": [
    "# Exploring the __GAMA__ spectroscopic catalog\n",
    "notebook by _Alex Malz (GCCL@RUB)_, (add your name here)"
   ]
  },
  {
   "cell_type": "code",
   "execution_count": null,
   "metadata": {},
   "outputs": [],
   "source": [
    "from astropy.io import fits\n",
    "import corner\n",
    "import matplotlib.pyplot as plt\n",
    "import numpy as np\n",
    "import os\n",
    "import pandas as pd\n",
    "import urllib.request as ur\n",
    "\n",
    "%matplotlib inline"
   ]
  },
  {
   "cell_type": "markdown",
   "metadata": {},
   "source": [
    "We want to get the spectra of galaxies matching conditions found [here](http://www.gama-survey.org/dr3/schema/table.php?id=31), specifically sorting them by redshift and redshift quality as well as field, since we probably only want to get environment statistics for subsets by location."
   ]
  },
  {
   "cell_type": "code",
   "execution_count": null,
   "metadata": {},
   "outputs": [],
   "source": [
    "with fits.open('SpecObj.fits') as hdul:\n",
    "    hdul.info()\n",
    "#     print(hdul[1].header)\n",
    "    df = pd.DataFrame(np.array(hdul[1].data).byteswap().newbyteorder())\n",
    "    print(df.columns)\n",
    "    df.index = df['CATAID']"
   ]
  },
  {
   "cell_type": "code",
   "execution_count": null,
   "metadata": {},
   "outputs": [],
   "source": [
    "plt.hist(df['Z'], bins=[0., 0.042, 0.080, 0.130, 0.221, 0.317, 0.418, 0.525, 0.640, 0.764, 0.897, 1.041, 1.199, 1.372, 1.562, 1.772, 2.007, 2.269, 2.565, 2.899, 3.])\n",
    "plt.semilogy()\n",
    "plt.xlabel('redshift')"
   ]
  },
  {
   "cell_type": "code",
   "execution_count": null,
   "metadata": {},
   "outputs": [],
   "source": [
    "for i in range(5):\n",
    "    quality = df.loc[df['NQ'] == i+1, 'Z']\n",
    "    plt.hist(quality, alpha=0.5, label=str(i+1))\n",
    "plt.legend(loc='upper right')\n",
    "plt.semilogy()\n",
    "plt.xlim(0., 3.5)\n",
    "plt.xlabel('Z')\n",
    "plt.title('redshift distributions by quality flag \"NQ\"')"
   ]
  },
  {
   "cell_type": "code",
   "execution_count": null,
   "metadata": {},
   "outputs": [],
   "source": [
    "corner.corner(np.array([df['RA'], df['DEC']]).T, labels=['RA', 'DEC'], show_titles=True)"
   ]
  },
  {
   "cell_type": "markdown",
   "metadata": {},
   "source": [
    "## select and download spectra based on redshift and angular coordinates\n",
    "\n",
    "GAMA DR3 recommends NQ > 2 for science, and environment has to be done locally for each field in the sky."
   ]
  },
  {
   "cell_type": "code",
   "execution_count": null,
   "metadata": {},
   "outputs": [],
   "source": [
    "RA_bin_ends = [0., 80., 160., 200., 360.]\n",
    "subsamples, lens = [], []\n",
    "for i in range(len(RA_bin_ends)-1):\n",
    "    subsamples.append(df.loc[(df['RA'] >= RA_bin_ends[i]) & (df['RA'] < RA_bin_ends[i+1]) & (df['NQ'] > 2), ['RA', 'DEC', 'Z', 'NQ', 'URL', 'FILENAME']])\n",
    "    lens.append(len(subsamples[-1]))"
   ]
  },
  {
   "cell_type": "code",
   "execution_count": null,
   "metadata": {},
   "outputs": [],
   "source": [
    "subset = np.argmin(lens)\n",
    "chosen_ind = subsamples[subset].sample(1, random_state=42).index[0]\n",
    "# chosen_ind = subsamples[subset].sample(1).index[0]\n",
    "subsamples[subset].URL[chosen_ind].decode('ascii')"
   ]
  },
  {
   "cell_type": "code",
   "execution_count": null,
   "metadata": {},
   "outputs": [],
   "source": [
    "just_url = subsamples[subset].URL[chosen_ind].decode('ascii')\n",
    "just_fn = subsamples[subset].FILENAME[chosen_ind].decode('ascii')[1:]\n",
    "os.makedirs(os.path.dirname(just_fn), exist_ok=True)\n",
    "spectrum = ur.urlretrieve(just_url, just_fn)"
   ]
  },
  {
   "cell_type": "code",
   "execution_count": null,
   "metadata": {},
   "outputs": [],
   "source": [
    "with fits.open(just_fn) as hdul:\n",
    "    arr = np.array(hdul[0].data).byteswap().newbyteorder()\n",
    "    metadata = hdul[0].header"
   ]
  },
  {
   "cell_type": "markdown",
   "metadata": {},
   "source": [
    "### How do we find the wavelengths of the pixels in these spectra?\n",
    "\n",
    "Just combine the info in the header with the [WCS conventions](http://iraf.noao.edu/projects/fitswcs/spec3d.html).\n",
    "\n",
    "~~### [GAMA DR3 file server says](http://www.gama-survey.org/dr3/data/)~~\n",
    "\n",
    "~~These fits files contain the fully reduced and flux-calibrated spectrum, the reduced spectrum without the flux calibration, the corresponding error arrays, and the mean sky spectrum of the field from which this spectrum was taken.~~\n",
    "\n",
    "~~### [The original GAMA paper says](https://academic.oup.com/mnras/article/430/3/2047/980679)~~\n",
    "\n",
    "~~AAOmega possesses a dual beam system which allows coverage of the wavelength range from 3750  to 8850 Å with the 5700 Å dichroic used by GAMA, in a single observation. \n",
    "Each arm of the AAOmega system is equipped with a 2k × 4k E2V CCD detector and an AAO2 CCD controller. \n",
    "The blue arm CCD is thinned for improved blue response. \n",
    "The red arm CCD is a low fringing type. \n",
    "The grating used in the blue arm is the 580V, centred at 4800 Å, which has a dispersion of 1 Å pixel−1 and gives a coverage of 2100 Å. \n",
    "The 385R grating is used in the red arm, centred at 7250 Å. \n",
    "This grating has a dispersion of 1.6 Å pixel−1 and gives a coverage of 3200 Å. \n",
    "This leads to spectra with a resolution that varies as a function of wavelength, from R ≈ 1000 at the blue end up to R ≈ 1600 at the red end.~~"
   ]
  },
  {
   "cell_type": "code",
   "execution_count": null,
   "metadata": {
    "scrolled": true
   },
   "outputs": [],
   "source": [
    "metadata"
   ]
  },
  {
   "cell_type": "markdown",
   "metadata": {},
   "source": [
    "The function below that implements the WCS conversions works on all the GAMA spectra obtained with the AAOmega instrument, but it fails on spectra for others (SDSS, I'm lookin' at you) because they're not using the same WCS onventions.\n",
    "This is an incomplete attempt to get it working for all data sources."
   ]
  },
  {
   "cell_type": "code",
   "execution_count": null,
   "metadata": {},
   "outputs": [],
   "source": [
    "def linfunc(pix, metadata):\n",
    "    if metadata['CRVAL1'] < 10.:\n",
    "        central = 10. ** metadata['CRVAL1']\n",
    "        dispersion = 10. ** metadata['CD1_1']\n",
    "    else:\n",
    "        central = metadata['CRVAL1']\n",
    "        dispersion = metadata['CD1_1']\n",
    "    wav = central + dispersion * (pix - metadata['CRPIX1'])\n",
    "    return wav"
   ]
  },
  {
   "cell_type": "code",
   "execution_count": null,
   "metadata": {},
   "outputs": [],
   "source": [
    "pixels = np.arange(1, metadata['NAXIS1'] + 1)\n",
    "wavelengths = linfunc(pixels, metadata)\n",
    "try:\n",
    "    assert(np.isclose(wavelengths[0], metadata['WMIN']) and np.isclose(wavelengths[-1], metadata['WMAX']))\n",
    "except:\n",
    "    print('Sometimes the sanity check fails for spectra from other surveys. . .')\n",
    "    print(((wavelengths[0], metadata['WMIN']), (wavelengths[-1], metadata['WMAX'])))"
   ]
  },
  {
   "cell_type": "code",
   "execution_count": null,
   "metadata": {},
   "outputs": [],
   "source": [
    "# plt.plot(wavelengths, arr[0], linewidth=0.2, alpha=0.5)\n",
    "plt.errorbar(wavelengths, arr[0], yerr=arr[1], linewidth=0.2, alpha=0.5)\n",
    "plt.xlabel(r'wavelength ($\\AA$)')# metadata['CUNIT1']\n",
    "plt.ylabel(r'flux ($10^{-17} erg/s/cm^{2}/\\AA$)')# metadata['ARRAY1']"
   ]
  },
  {
   "cell_type": "markdown",
   "metadata": {},
   "source": [
    "# Next steps\n",
    "\n",
    "\n",
    "## download and summarize more spectra!\n",
    "\n",
    "## choose and implement a measure of \"environment\"\n",
    "\n",
    "## multiply spectra by photometric filter transmission curves to get colors\n",
    "\n",
    "## construct redshift-environment-SED/color relationship"
   ]
  },
  {
   "cell_type": "code",
   "execution_count": null,
   "metadata": {},
   "outputs": [],
   "source": []
  }
 ],
 "metadata": {
  "kernelspec": {
   "display_name": "COIN (Python 3)",
   "language": "python",
   "name": "coin_3"
  },
  "language_info": {
   "codemirror_mode": {
    "name": "ipython",
    "version": 3
   },
   "file_extension": ".py",
   "mimetype": "text/x-python",
   "name": "python",
   "nbconvert_exporter": "python",
   "pygments_lexer": "ipython3",
   "version": "3.6.8"
  }
 },
 "nbformat": 4,
 "nbformat_minor": 2
}
