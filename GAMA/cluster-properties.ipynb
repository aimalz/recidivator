{
 "cells": [
  {
   "cell_type": "code",
   "execution_count": null,
   "metadata": {},
   "outputs": [],
   "source": [
    "import numpy as np\n",
    "import pandas as pd\n",
    "import pickle\n",
    "import tslearn as tsl"
   ]
  },
  {
   "cell_type": "code",
   "execution_count": null,
   "metadata": {},
   "outputs": [],
   "source": [
    "clustering = pickle.load(open('tskmeans_0.080.pkl', 'rb'))"
   ]
  },
  {
   "cell_type": "code",
   "execution_count": null,
   "metadata": {},
   "outputs": [],
   "source": [
    "env_curves = clustering.__dict__['_X_fit']"
   ]
  },
  {
   "cell_type": "code",
   "execution_count": null,
   "metadata": {},
   "outputs": [],
   "source": [
    "labels = clustering.__dict__['labels_']"
   ]
  },
  {
   "cell_type": "code",
   "execution_count": null,
   "metadata": {},
   "outputs": [],
   "source": [
    "n_gal = len(labels)"
   ]
  },
  {
   "cell_type": "code",
   "execution_count": null,
   "metadata": {},
   "outputs": [],
   "source": [
    "%matplotlib inline\n",
    "\n",
    "import matplotlib.colors as mpc\n",
    "import matplotlib.cm as cmx\n",
    "import matplotlib\n",
    "import matplotlib.pyplot as plt\n",
    "\n",
    "cNorm = mpc.Normalize(vmin=0, vmax=10)\n",
    "scalarMap = cmx.ScalarMappable(norm=cNorm, cmap='Spectral')\n",
    "cplt = scalarMap.to_rgba(np.arange(0, 10, 1))"
   ]
  },
  {
   "cell_type": "code",
   "execution_count": null,
   "metadata": {},
   "outputs": [],
   "source": [
    "enviros = pd.read_csv('enviros.csv')"
   ]
  },
  {
   "cell_type": "code",
   "execution_count": null,
   "metadata": {},
   "outputs": [],
   "source": [
    "enviros.columns"
   ]
  },
  {
   "cell_type": "code",
   "execution_count": null,
   "metadata": {},
   "outputs": [],
   "source": [
    "# df = enviros.join(clusters, on=\"CATAID\", rsuffix='both', how='inner')"
   ]
  },
  {
   "cell_type": "code",
   "execution_count": null,
   "metadata": {},
   "outputs": [],
   "source": [
    "ang_dist_cols = enviros.columns[2:12]\n",
    "ang_dists = ang_dist_cols.astype(float).to_list()\n",
    "ang_dist_cols = ang_dist_cols.to_list()"
   ]
  },
  {
   "cell_type": "code",
   "execution_count": null,
   "metadata": {},
   "outputs": [],
   "source": [
    "# ang_dist_cols"
   ]
  },
  {
   "cell_type": "code",
   "execution_count": null,
   "metadata": {},
   "outputs": [],
   "source": [
    "for i in range(n_gal):\n",
    "    data = env_curves[i]\n",
    "    plt.plot(ang_dists, data, alpha=0.02, color=cplt[labels[i]])\n",
    "plt.ylim(0, 600)"
   ]
  },
  {
   "cell_type": "code",
   "execution_count": null,
   "metadata": {},
   "outputs": [],
   "source": [
    "plt.hist(labels)"
   ]
  },
  {
   "cell_type": "code",
   "execution_count": null,
   "metadata": {},
   "outputs": [],
   "source": [
    "means, covs = [], []\n",
    "for i in np.unique(labels):\n",
    "    data = env_curves[np.where(labels == i)]\n",
    "    data = np.reshape(data, (len(data), len(ang_dists)))\n",
    "    mean = np.mean(data, axis=0)\n",
    "    cov = np.cov(data.T)\n",
    "    means.append(mean)\n",
    "    covs.append(cov)\n",
    "    for datum in data:\n",
    "        plt.plot(ang_dists, datum, alpha=0.1)\n",
    "    plt.ylim(0, 600)\n",
    "    plt.title(str(len(data)))\n",
    "    plt.show()\n",
    "    plt.close()"
   ]
  },
  {
   "cell_type": "code",
   "execution_count": null,
   "metadata": {},
   "outputs": [],
   "source": [
    "for i in np.unique(labels):\n",
    "    plt.fill_between(ang_dists, means[i]-np.sqrt(np.diag(covs[i])), means[i]+np.sqrt(np.diag(covs[i])), alpha=0.2)\n",
    "    plt.plot(ang_dists, means[i])\n",
    "plt.semilogy()"
   ]
  },
  {
   "cell_type": "code",
   "execution_count": null,
   "metadata": {},
   "outputs": [],
   "source": []
  }
 ],
 "metadata": {
  "kernelspec": {
   "display_name": "COIN (Python 3)",
   "language": "python",
   "name": "coin_3"
  },
  "language_info": {
   "codemirror_mode": {
    "name": "ipython",
    "version": 3
   },
   "file_extension": ".py",
   "mimetype": "text/x-python",
   "name": "python",
   "nbconvert_exporter": "python",
   "pygments_lexer": "ipython3",
   "version": "3.6.8"
  }
 },
 "nbformat": 4,
 "nbformat_minor": 2
}
