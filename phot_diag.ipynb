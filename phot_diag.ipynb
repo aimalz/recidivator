{
 "cells": [
  {
   "cell_type": "markdown",
   "metadata": {},
   "source": [
    "# Diagnostics of mock photometry\n",
    "\n",
    "_Alex Malz (GCCL@RUB)_"
   ]
  },
  {
   "cell_type": "code",
   "execution_count": null,
   "metadata": {},
   "outputs": [],
   "source": [
    "import corner\n",
    "from itertools import combinations\n",
    "import matplotlib.pyplot as plt\n",
    "import numpy as np\n",
    "import pandas as pd\n",
    "from sklearn import manifold"
   ]
  },
  {
   "cell_type": "code",
   "execution_count": null,
   "metadata": {},
   "outputs": [],
   "source": [
    "toppath = '/media/CRP6/Cosmology/recidivator/'"
   ]
  },
  {
   "cell_type": "code",
   "execution_count": null,
   "metadata": {},
   "outputs": [],
   "source": [
    "all_cols = ['lsstr-lssti', 'lssti-lsstz', 'lsstz-lssty']\n",
    "filt = 'lsst'\n",
    "bands = 'rizy'"
   ]
  },
  {
   "cell_type": "code",
   "execution_count": null,
   "metadata": {},
   "outputs": [],
   "source": [
    "def prep_for_corner(dataset, cols):\n",
    "    return np.array([dataset[col] for col in cols]).T"
   ]
  },
  {
   "cell_type": "markdown",
   "metadata": {},
   "source": [
    "## start with examining GAMA data"
   ]
  },
  {
   "cell_type": "code",
   "execution_count": null,
   "metadata": {},
   "outputs": [],
   "source": [
    "# gamapath = toppath+'GAMA/SpecObjPhot.csv'"
   ]
  },
  {
   "cell_type": "code",
   "execution_count": null,
   "metadata": {},
   "outputs": [],
   "source": [
    "# data = pd.read_csv(gamapath)"
   ]
  },
  {
   "cell_type": "code",
   "execution_count": null,
   "metadata": {},
   "outputs": [],
   "source": [
    "# data.columns"
   ]
  },
  {
   "cell_type": "markdown",
   "metadata": {},
   "source": [
    "### divide by field"
   ]
  },
  {
   "cell_type": "code",
   "execution_count": null,
   "metadata": {},
   "outputs": [],
   "source": [
    "# xlim = {}\n",
    "# xlim['G02'] = (30.2, 38.8)\n",
    "# xlim['G09'] = (129.0, 141.0)\n",
    "# xlim['G12'] = (174.0, 186.0)\n",
    "# xlim['G15'] = (211.5, 223.5)\n",
    "\n",
    "# ylim = {}\n",
    "# ylim['G02'] = (-10.5, -3.72)\n",
    "# ylim['G09'] = (-2., 3.)\n",
    "# ylim['G12'] = (-3., 2.)\n",
    "# ylim['G15'] = (-2., 3.)"
   ]
  },
  {
   "cell_type": "markdown",
   "metadata": {},
   "source": [
    "### isolate photometry and redshift"
   ]
  },
  {
   "cell_type": "code",
   "execution_count": null,
   "metadata": {},
   "outputs": [],
   "source": [
    "# gama_fields ={}\n",
    "# for key in xlim.keys():\n",
    "#     gama_fields[key] = data.http://ls.st/cet-zoomloc[(data['RA'] > xlim[key][0]) & (data['RA'] < xlim[key][1]) & (data['DEC'] > ylim[key][0]) & (data['DEC'] < ylim[key][1])][['Z']+['lsst'+band for band in 'grizy']]\n",
    "# #     gama_fields[key].to_csv(toppath+'GAMA/'+key+'SpecObjPhot.csv')"
   ]
  },
  {
   "cell_type": "code",
   "execution_count": null,
   "metadata": {},
   "outputs": [],
   "source": [
    "# corner.corner(gama_fields['G15'], xlim=(8, 24), ylim=(8, 24))"
   ]
  },
  {
   "cell_type": "code",
   "execution_count": null,
   "metadata": {
    "scrolled": true
   },
   "outputs": [],
   "source": [
    "# for i in gama_fields['G15'].columns:\n",
    "#     plt.hist(gama_fields['G15'][i], bins=100)\n",
    "#     plt.xlabel(i)\n",
    "#     plt.show()"
   ]
  },
  {
   "cell_type": "markdown",
   "metadata": {},
   "source": [
    "this is where I should filter them by which of 'grizy' they have (not counting 0s and NaNs) and color by those later"
   ]
  },
  {
   "cell_type": "code",
   "execution_count": null,
   "metadata": {},
   "outputs": [],
   "source": [
    "# for i in range(len('grizy')):\n",
    "#     print(list(combinations('grizy', i+1)))"
   ]
  },
  {
   "cell_type": "markdown",
   "metadata": {},
   "source": [
    "want a better visualization for high-D data"
   ]
  },
  {
   "cell_type": "code",
   "execution_count": null,
   "metadata": {},
   "outputs": [],
   "source": [
    "# X = gama_fields['G15'].values"
   ]
  },
  {
   "cell_type": "code",
   "execution_count": null,
   "metadata": {},
   "outputs": [],
   "source": [
    "# tsne = manifold.TSNE()\n",
    "# res = tsne.fit_transform(X)"
   ]
  },
  {
   "cell_type": "code",
   "execution_count": null,
   "metadata": {},
   "outputs": [],
   "source": [
    "# plt.scatter(res[:, 0], res[:, 1], s=1, alpha=0.5)\n",
    "# plt.show()"
   ]
  },
  {
   "cell_type": "markdown",
   "metadata": {},
   "source": [
    "### after environment classification\n",
    "\n",
    "let's see if these problems are solved by looking at per-environment-class data, since that's what we'll be comparing regardless."
   ]
  },
  {
   "cell_type": "code",
   "execution_count": null,
   "metadata": {},
   "outputs": [],
   "source": [
    "gamapath = '/media/CRP6/Cosmology/workdir/emille/results_norm/15PCs/G09/'"
   ]
  },
  {
   "cell_type": "code",
   "execution_count": null,
   "metadata": {},
   "outputs": [],
   "source": [
    "gamadata = pd.read_csv(gamapath+'classes_10_groups.csv')"
   ]
  },
  {
   "cell_type": "code",
   "execution_count": null,
   "metadata": {},
   "outputs": [],
   "source": [
    "gamadata.columns"
   ]
  },
  {
   "cell_type": "code",
   "execution_count": null,
   "metadata": {},
   "outputs": [],
   "source": [
    "# help(gamadata.notnull())"
   ]
  },
  {
   "cell_type": "code",
   "execution_count": null,
   "metadata": {},
   "outputs": [],
   "source": [
    "cols = ['lsstr', 'lssti', 'lsstz', 'lssty']\n",
    "\n",
    "fig, axs = plt.subplots(1, len(cols))\n",
    "for i, col in enumerate(cols):\n",
    "#     print((len(gamadata[col]), len(gamadata[col].dropna())))\n",
    "    axs[i].hist(gamadata[col].dropna()[gamadata[col] != 0])\n",
    "#     axs[i].hist(mockdata[col])\n",
    "    axs[i].set_xlabel(col)"
   ]
  },
  {
   "cell_type": "code",
   "execution_count": null,
   "metadata": {},
   "outputs": [],
   "source": [
    "# gama_for_corner = []\n",
    "# for i in range(10):\n",
    "#     gama_for_corner.append(prep_for_corner(gamadata[gamadata['label'] == i], all_cols))"
   ]
  },
  {
   "cell_type": "code",
   "execution_count": null,
   "metadata": {},
   "outputs": [],
   "source": [
    "# #['lsstg-lsstr', 'lsstr-lssti', 'lssti-lsstz']\n",
    "# for filt in ['lsst']:\n",
    "#     bands = 'rizy'\n",
    "#     for i, b in enumerate(bands[:-1]):\n",
    "#         nonans = pd.notna(gamadata[filt+b] and gamadata[filt+bands[i+1]])\n",
    "#         gamadata[filt+b+'-'+filt+bands[i+1]][nonans] = gamadata[filt+b][nonans] - gamadata[filt+bands[i+1]][nonans]\n",
    "        \n",
    "for i, b in enumerate(bands[:-1]):\n",
    "    wherenotnaleft = ~(gamadata[filt+b] == -0)\n",
    "    wherenotnaright = ~(gamadata[filt+bands[i+1]] == -0)\n",
    "    whereboth = gamadata[[filt+b, filt+bands[i+1]]][(wherenotnaleft & wherenotnaright)]\n",
    "    gamadata[filt+b+'-'+filt+bands[i+1]] = whereboth[filt+b] - whereboth[filt+bands[i+1]]"
   ]
  },
  {
   "cell_type": "code",
   "execution_count": null,
   "metadata": {},
   "outputs": [],
   "source": [
    "# for i in range(10):\n",
    "#     if i == 0:\n",
    "#         fig = corner.corner(gama_for_corner[i], labels=all_cols)\n",
    "#     else:\n",
    "#         corner.corner(gama_for_corner[i], labels=all_cols)"
   ]
  },
  {
   "cell_type": "markdown",
   "metadata": {},
   "source": [
    "## the mock photometry"
   ]
  },
  {
   "cell_type": "code",
   "execution_count": null,
   "metadata": {},
   "outputs": [],
   "source": [
    "mockpath = '/media/CRP6/Cosmology/workdir/kara/results_LOS42_G09_10groups_15PCs.csv'"
   ]
  },
  {
   "cell_type": "code",
   "execution_count": null,
   "metadata": {},
   "outputs": [],
   "source": [
    "mockdata = pd.read_csv(mockpath)"
   ]
  },
  {
   "cell_type": "code",
   "execution_count": null,
   "metadata": {},
   "outputs": [],
   "source": [
    "mockdata.columns"
   ]
  },
  {
   "cell_type": "code",
   "execution_count": null,
   "metadata": {},
   "outputs": [],
   "source": [
    "cols = ['mag_r_lsst', 'mag_i_lsst', 'mag_z_lsst', 'mag_y_lsst']\n",
    "\n",
    "fig, axs = plt.subplots(1, len(cols))\n",
    "for i, col in enumerate(cols):\n",
    "#     print((len(mockdata[col]), len(mockdata[col].dropna())))\n",
    "    axs[i].hist(mockdata[col].dropna()[mockdata[col] != -999])\n",
    "#     axs[i].hist(mockdata[col])\n",
    "    axs[i].set_xlabel(col)"
   ]
  },
  {
   "cell_type": "code",
   "execution_count": null,
   "metadata": {},
   "outputs": [],
   "source": [
    "for i, b in enumerate(bands[:-1]):\n",
    "    wherenotnaleft = ~(mockdata['mag_'+b+'_'+filt] == -999)\n",
    "    wherenotnaright = ~(mockdata['mag_'+bands[i+1]+'_'+filt] == -999)\n",
    "    whereboth = mockdata[['mag_'+b+'_'+filt, 'mag_'+bands[i+1]+'_'+filt]][(wherenotnaleft & wherenotnaright)]\n",
    "    mockdata[filt+b+'-'+filt+bands[i+1]] = whereboth['mag_'+b+'_'+filt] - whereboth['mag_'+bands[i+1]+'_'+filt]"
   ]
  },
  {
   "cell_type": "markdown",
   "metadata": {},
   "source": [
    "## next steps\n",
    "\n",
    "* mag vs. redshift \n",
    "* color vs. redshift\n",
    "* color vs. color\n",
    "\n",
    "propensity scores (TODO: hunt down old code from stats class 2018)"
   ]
  },
  {
   "cell_type": "code",
   "execution_count": null,
   "metadata": {},
   "outputs": [],
   "source": [
    "# fig, axs = plt.subplots(len(all_cols), 1)\n",
    "# for i, col in enumerate(all_cols):\n",
    "#     axs[i].hist(gamadata[col])\n",
    "#     axs[i].hist(mockdata[col])\n",
    "#     axs[i].set_xlabel(col)"
   ]
  },
  {
   "cell_type": "code",
   "execution_count": null,
   "metadata": {},
   "outputs": [],
   "source": [
    "# def prep_for_corner(dataset, cols):\n",
    "#     return np.array([dataset[col] for col in cols]).T\n",
    "\n",
    "# gama_for_corner = prep_for_corner(gamadata, all_cols)\n",
    "# mock_for_corner = prep_for_corner(mockdata, all_cols)\n",
    "# fig = corner.corner(mock_for_corner, labels=all_cols)\n",
    "# corner.corner(gama_for_corner, labels=all_cols)\n",
    "# # for i, which_os in enumerate(available_os):\n",
    "# #     if i == 0:\n",
    "# #         fig = corner.corner(prep_for_corner(available_os[i], labels), labels=labels, alpha=0.25)\n",
    "# #     else:\n",
    "# #         corner.corner(prep_for_corner(which_os, labels), fig=fig, color=os_colors[which_os], alpha=0.25)\n",
    "# #   # corner.overplot_points(fig, [float(metadata[which_os][i+2]) for i in range(6)], color=os_colors[which_os], alpha=0.5)\n",
    "# #   # not sure why the overplotting of limits (as lines or points) fails given corner's documentation. . ."
   ]
  },
  {
   "cell_type": "code",
   "execution_count": null,
   "metadata": {},
   "outputs": [],
   "source": []
  }
 ],
 "metadata": {
  "kernelspec": {
   "display_name": "recidivator (Python 3)",
   "language": "python",
   "name": "recidivator_3"
  },
  "language_info": {
   "codemirror_mode": {
    "name": "ipython",
    "version": 3
   },
   "file_extension": ".py",
   "mimetype": "text/x-python",
   "name": "python",
   "nbconvert_exporter": "python",
   "pygments_lexer": "ipython3",
   "version": "3.6.8"
  }
 },
 "nbformat": 4,
 "nbformat_minor": 4
}
