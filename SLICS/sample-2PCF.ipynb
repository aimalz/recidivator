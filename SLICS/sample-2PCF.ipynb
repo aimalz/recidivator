{
 "cells": [
  {
   "cell_type": "markdown",
   "metadata": {},
   "source": [
    "# Sampling from a power spectrum\n",
    "\n",
    "_Alex Malz (GCCL@RUB)_, add your name here"
   ]
  },
  {
   "cell_type": "code",
   "execution_count": null,
   "metadata": {},
   "outputs": [],
   "source": [
    "from astroML.decorators import pickle_results\n",
    "from astroML.correlation import two_point\n",
    "import george\n",
    "import matplotlib.pyplot as plt\n",
    "import numpy as np\n",
    "from numpy import linalg as la\n",
    "import scipy.fftpack as spf\n",
    "# import pomegranate\n",
    "# from pomegranate.distributions import MultivariateGaussianDistribution as MGD"
   ]
  },
  {
   "cell_type": "markdown",
   "metadata": {},
   "source": [
    "## Examine the precomputed 2PCF\n",
    "\n",
    "Download the 2PCF at several redshifts [here](https://drive.google.com/drive/folders/1eGlAO_wl9h0xiXiTMKV_m7h9YCRhDHP_?usp=sharing).\n",
    "\n",
    "Note that the data is $\\Delta^{2}(k)$, not the more familiar (to me) $\\mathcal{P}(k)$.  (A reminder of the relationship between them can be found [here](http://universe-review.ca/R05-04-powerspectrum.htm), particularly in [this figure](http://universe-review.ca/I02-20-correlate1b.png).)"
   ]
  },
  {
   "cell_type": "code",
   "execution_count": null,
   "metadata": {},
   "outputs": [],
   "source": [
    "del2 = np.genfromtxt('NptFns/0.042ngpps_new.dat_LOS1').T"
   ]
  },
  {
   "cell_type": "code",
   "execution_count": null,
   "metadata": {},
   "outputs": [],
   "source": [
    "nk = del2.shape[-1]"
   ]
  },
  {
   "cell_type": "code",
   "execution_count": null,
   "metadata": {},
   "outputs": [],
   "source": [
    "plt.plot(del2[0], del2[1])\n",
    "plt.semilogx()\n",
    "plt.semilogy()\n",
    "plt.xlabel(r'$k$ [Mpc/h]')\n",
    "plt.ylabel(r'$\\Delta^2(k)$')"
   ]
  },
  {
   "cell_type": "code",
   "execution_count": null,
   "metadata": {},
   "outputs": [],
   "source": [
    "pk = spf.fft(del2[1] / del2[0]**3 * 2 * np.pi**2)"
   ]
  },
  {
   "cell_type": "code",
   "execution_count": null,
   "metadata": {},
   "outputs": [],
   "source": [
    "plt.plot(del2[0], pk.real)\n",
    "plt.semilogy()\n",
    "plt.semilogx()\n",
    "plt.xlabel(r'$k$ [Mpc/h]')\n",
    "plt.ylabel(r'$P(k)$')"
   ]
  },
  {
   "cell_type": "markdown",
   "metadata": {},
   "source": [
    "This does not look like what I expect from the power spectrum.\n",
    "Perhaps the units on $\\Delta^{2}(k)$ and $k$ are not what we think they are?"
   ]
  },
  {
   "cell_type": "markdown",
   "metadata": {},
   "source": [
    "## From first principles\n",
    "\n",
    "Alberto Krone-Martins points out that this is outlined in [Rocha+05](https://academic.oup.com/mnras/article/357/1/1/1033689)."
   ]
  },
  {
   "cell_type": "code",
   "execution_count": null,
   "metadata": {},
   "outputs": [],
   "source": [
    "whitenoise = np.random.random((len(pk), len(pk)))"
   ]
  },
  {
   "cell_type": "code",
   "execution_count": null,
   "metadata": {},
   "outputs": [],
   "source": [
    "fftwn = spf.fft(whitenoise)"
   ]
  },
  {
   "cell_type": "code",
   "execution_count": null,
   "metadata": {},
   "outputs": [],
   "source": [
    "fftwn.real = del2[1] * np.eye(len(pk))"
   ]
  },
  {
   "cell_type": "code",
   "execution_count": null,
   "metadata": {},
   "outputs": [],
   "source": [
    "ifftwn = spf.ifft(fftwn)"
   ]
  },
  {
   "cell_type": "code",
   "execution_count": null,
   "metadata": {},
   "outputs": [],
   "source": [
    "plt.imshow(ifftwn.real, cmap='Spectral_r')"
   ]
  },
  {
   "cell_type": "markdown",
   "metadata": {},
   "source": [
    "Something has again gone wrong. . ."
   ]
  },
  {
   "cell_type": "markdown",
   "metadata": {},
   "source": [
    "## From first principles, part 2\n",
    "\n",
    "I think the non-Python code below from Joachim Harnois-Deraps does almost the same thing as [Rocha+05](https://academic.oup.com/mnras/article/357/1/1/1033689)."
   ]
  },
  {
   "cell_type": "code",
   "execution_count": null,
   "metadata": {},
   "outputs": [],
   "source": [
    "# !! The code is to generate a Gaussian stochastic field with a given 3d power spectrum\n",
    "# !! written by T.T.Lu on Oct 13, 2006\n",
    "# !! compile with 'efc GaussRandomField.f90 -L/opt/fftw-3.1.2_intel8/lib/ -lfftw3f -I/opt/fftw-3.1.2_intel8/include/ -o GaussRandomField.x'\n",
    "# !! replace the fftw library by the corresponding one on the machine used\n",
    "\n",
    "# Subroutine GaussRandomField_3d_r2c(den, box, nc, kg, delta2, nk)\n",
    "#   implicit none\n",
    "\n",
    "#   !! nc is the number of grids on each dimension\n",
    "#   !! nt is the number of threads for openmp\n",
    "#   !! nk is the number of points at the input power spectrum table\n",
    "#   !! box is the physical size of the box\n",
    "#   integer nc,nk\n",
    "#   integer, parameter :: nt=1\n",
    "\n",
    "#   real, dimension(nc+2,nc,nc) :: den\n",
    "#   real, dimension(nk) :: pk,kg,delta2\n",
    "# !  real, dimension(0:nk) :: factor\n",
    "#   real, dimension(0:nc) :: factor\n",
    "#   real, dimension(nc,nc,nc) :: x1,x2\n",
    "#   real box\n",
    "\n",
    "#   integer hc,it,i,j,k,k1,k2,kx,ky,kz,kpt\n",
    "#   real pi,kr,w1,w2\n",
    "\n",
    "#   external sfft3_r2c\n",
    "\n",
    "#   write(*,*)'Called GaussRandomField_3d_r2c'\n",
    "\n",
    "\n",
    "#   pi=acos(-1.)\n",
    "#   hc=nc/2\n",
    "\n",
    "#   do i=1,nk\n",
    "#      pk(i)=delta2(i)/kg(i)**3*2*pi**2\n",
    "#   enddo\n",
    "\n",
    "\n",
    "#   !! generate whitenoise source\n",
    "#   call random_number(x1(:,:,:))\n",
    "#   call random_number(x2(:,:,:))\n",
    "\n",
    "#   den=0\n",
    "#   do k=1,nc\n",
    "#      do j=1,nc\n",
    "#         do i=1,nc\n",
    "#            den(i,j,k)=sqrt(-2*log(x1(i,j,k)))*cos(2*pi*x2(i,j,k))\n",
    "#         enddo\n",
    "#      enddo\n",
    "#   enddo\n",
    "#   !write(*,*) 'step3'\n",
    "\n",
    "#   call sfft3_r2c(den,nc,1)\n",
    "#   !write(*,*) 'called  fft forward'\n",
    "\n",
    "#   !write(*,*) '1 :Max = ' , maxval(den), 'min = ', minval(den)\n",
    "\n",
    "\n",
    "#   factor=0\n",
    "#   do k=1,nk\n",
    "#      factor(k)=pk(k)/(box**3/nc**3)\n",
    "#   enddo\n",
    "\n",
    "#   kpt=nc/nt\n",
    "#   !!$omp parallel do default(shared) &\n",
    "#   !!$omp& private(it,i,j,k,kr,kri,kx,ky,kz,k1,k2,w1,w2,tmp)\n",
    "#   do it=1,nt\n",
    "#      do k=1+(it-1)*kpt,min(nc,it*kpt)\n",
    "#         if (k .le. hc+1) then\n",
    "#             kz=k-1\n",
    "#         else\n",
    "#             kz=k-1-nc\n",
    "#         endif\n",
    "#         do j=1,nc\n",
    "#             if (j .le. hc+1) then\n",
    "#                 ky=j-1\n",
    "#             else\n",
    "#                 ky=j-1-nc\n",
    "#             endif\n",
    "#             do i=1,nc+2,2\n",
    "#                kx=(i-1)/2\n",
    "#                kr=sqrt(kx**2.+ky**2+kz**2)\n",
    "#                if(kr.ne.0) then\n",
    "#                  k1=ceiling(kr)\n",
    "#                  k2=k1+1\n",
    "#                  w1=k1-kr\n",
    "#                  w2=1-w1\n",
    "#                  den(i,j,k)=den(i,j,k)*sqrt(factor(k1-1)*w1+factor(k2-1)*w2) !! interpolation causes problem\n",
    "#                  den(i+1,j,k)=den(i+1,j,k)*sqrt(factor(k1-1)*w1+factor(k2-1)*w2)\n",
    "#                else\n",
    "#                  den(i,j,k)=den(i,j,k)*sqrt(factor(0))\n",
    "#                  den(i+1,j,k)=den(i+1,j,k)*sqrt(factor(0))\n",
    "#                endif\n",
    "#            enddo\n",
    "#         enddo\n",
    "#      enddo\n",
    "#   enddo\n",
    "#   !!$omp end parallel do\n",
    "\n",
    "# !  write(*,*) '2 :Max = ' , maxval(den), 'min = ', minval(den)\n",
    "#   call sfft3_r2c(den,nc,-1)\n",
    "# !  write(*,*) '3 :Max = ' , maxval(den), 'min = ', minval(den)\n",
    "\n",
    "# !  write(*,*) 'called  fft backward'\n",
    "\n",
    "#   return\n",
    "# end subroutine GaussRandomField_3d_r2c"
   ]
  },
  {
   "cell_type": "code",
   "execution_count": null,
   "metadata": {},
   "outputs": [],
   "source": [
    "randopk = pk\n",
    "randopk.imag = whitenoise[0]"
   ]
  },
  {
   "cell_type": "code",
   "execution_count": null,
   "metadata": {},
   "outputs": [],
   "source": [
    "newdel2rev = spf.ifft(randopk)\n",
    "newdel2 = np.flip(newdel2rev.real)"
   ]
  },
  {
   "cell_type": "code",
   "execution_count": null,
   "metadata": {},
   "outputs": [],
   "source": [
    "plt.plot((del2[0]**3 * 2 * np.pi**2) * del2[1])\n",
    "plt.plot(newdel2 / (del2[0]**3 * 2 * np.pi**2))\n",
    "plt.semilogx()\n",
    "plt.semilogy()\n",
    "plt.xlabel(r'$k$ [Mpc/h]')\n",
    "plt.ylabel(r'$\\Delta^2(k)$')"
   ]
  },
  {
   "cell_type": "markdown",
   "metadata": {},
   "source": [
    "Aside from the left-right issue, I'm still not sure if this is what we want, but at least they're kind of talking to each other.\n",
    "I still, however, don't know how to sample a 2D field from a 1D power spectrum. . ."
   ]
  },
  {
   "cell_type": "markdown",
   "metadata": {},
   "source": [
    "# scratch after here"
   ]
  },
  {
   "cell_type": "code",
   "execution_count": null,
   "metadata": {},
   "outputs": [],
   "source": [
    "nc = samps.shape[0]                # define how many cells your box has\n",
    "boxlen = 50.0           # define length of box\n",
    "Lambda = boxlen/4.0     # define an arbitrary wave length of a plane wave\n",
    "dx = boxlen/nc          # get size of a cell\n",
    "\n",
    "    # create plane wave density field\n",
    "density_field = samps#np.zeros((nc, nc, nc), dtype='float')\n",
    "for x in range(density_field.shape[0]):\n",
    "    density_field[x,:] = np.cos(2*np.pi*x*dx/Lambda)"
   ]
  },
  {
   "cell_type": "code",
   "execution_count": null,
   "metadata": {},
   "outputs": [],
   "source": [
    "    # get overdensity field\n",
    "delta = density_field/np.mean(density_field) - 1"
   ]
  },
  {
   "cell_type": "code",
   "execution_count": null,
   "metadata": {},
   "outputs": [],
   "source": [
    "    # get P(k) field: explot fft of data that is only real, not complex\n",
    "delta_k = np.abs(np.fft.rfftn(delta).round())\n",
    "Pk_field =  delta_k**2"
   ]
  },
  {
   "cell_type": "code",
   "execution_count": null,
   "metadata": {},
   "outputs": [],
   "source": [
    "    # get 3d array of index integer distances to k = (0, 0, 0)\n",
    "dist = np.minimum(np.arange(nc), np.arange(nc,0,-1))\n",
    "dist_z = np.arange(nc//2+1)\n",
    "dist *= dist\n",
    "dist_z *= dist_z\n",
    "dist_3d = np.sqrt(dist[:, None, None] + dist[:, None] + dist_z)"
   ]
  },
  {
   "cell_type": "code",
   "execution_count": null,
   "metadata": {},
   "outputs": [],
   "source": [
    "    # get unique distances and index which any distance stored in dist_3d \n",
    "    # will have in \"distances\" array\n",
    "distances, _ = np.unique(dist_3d, return_inverse=True)\n",
    "\n",
    "    # average P(kx, ky, kz) to P(|k|)\n",
    "Pk = np.bincount(_, weights=Pk_field.ravel())/np.bincount(_)\n",
    "\n",
    "    # compute \"phyical\" values of k\n",
    "dk = 2*np.pi/boxlen\n",
    "k = distances*dk\n",
    "\n",
    "    # plot results\n",
    "fig = plt.figure(figsize=(9,6))\n",
    "ax1 = fig.add_subplot(111)\n",
    "ax1.plot(k, Pk, label=r'$P(\\mathbf{k})$')"
   ]
  },
  {
   "cell_type": "code",
   "execution_count": null,
   "metadata": {},
   "outputs": [],
   "source": [
    "img = samps\n",
    "\n",
    "f = np.fft.fft2(img)\n",
    "fshift = np.fft.fftshift(f)\n",
    "magnitude_spectrum = 20*np.log(np.abs(fshift))\n",
    "\n",
    "plt.subplot(121),plt.imshow(img, cmap = 'gray')\n",
    "plt.title('Input Image'), plt.xticks([]), plt.yticks([])\n",
    "plt.subplot(122),plt.imshow(magnitude_spectrum, cmap = 'gray')\n",
    "plt.title('Magnitude Spectrum'), plt.xticks([]), plt.yticks([])\n",
    "plt.show()          "
   ]
  },
  {
   "cell_type": "code",
   "execution_count": null,
   "metadata": {},
   "outputs": [],
   "source": [
    "def compute_results(array, Nbins=20):\n",
    "#     print(np.shape(array))\n",
    "#     np.random.seed(rseed)\n",
    "    bins = 10. ** np.linspace(np.log10(1. / 50000.), np.log10(10.), Nbins)\n",
    "#     results = [bins]\n",
    "    print(np.shape(bins))\n",
    "    results = two_point(array, bins)\n",
    "    print(np.shape(corr))\n",
    "#         (array['Ra'],\n",
    "#                                            array['Dec'],\n",
    "#                                            bins=bins,\n",
    "#                                            method=method,\n",
    "#                                            Nbootstraps=Nbootstraps)\n",
    "    return (bins, results)\n",
    "#"
   ]
  },
  {
   "cell_type": "code",
   "execution_count": null,
   "metadata": {},
   "outputs": [],
   "source": [
    "(bins, corr) = compute_results(samps)"
   ]
  },
  {
   "cell_type": "code",
   "execution_count": null,
   "metadata": {},
   "outputs": [],
   "source": [
    "bins"
   ]
  },
  {
   "cell_type": "code",
   "execution_count": null,
   "metadata": {},
   "outputs": [],
   "source": [
    "corr"
   ]
  },
  {
   "cell_type": "code",
   "execution_count": null,
   "metadata": {},
   "outputs": [],
   "source": [
    "plt.plot(bins, corr)"
   ]
  },
  {
   "cell_type": "code",
   "execution_count": null,
   "metadata": {},
   "outputs": [],
   "source": [
    "bin_centers = 0.5 * (bins[1:] + bins[:-1])\n",
    "#\n",
    "bin_centers = bin_centers[np.where(np.isnan(corr)==False)]\n",
    "corr = corr[np.where(np.isnan(corr)==False)]\n",
    "corr_err = corr_err[np.where(np.isnan(corr)==False)]\n",
    "#\n",
    "# Export the TPCF data to an numpy array\n",
    "tpcf = np.transpose(np.array([bin_centers, corr, corr_err]))\n",
    "#\n",
    "# Print the TPCF file\n",
    "# print(tpcf)\n",
    "#\n",
    "# Export the TPCF data to a file\n",
    "# np.savetxt('./Data/ngc1566_astroml_tpcf.dat', tpcf)\n",
    "#\n",
    "# Import fitting process\n",
    "from scipy.optimize import curve_fit\n",
    "#\n",
    "# Define the fitting function\n",
    "def fitfunc(x, a, b, c):\n",
    "    return a*(x/b)**c\n",
    "#\n",
    "# Plot the Landy-Szalay TPCF and its fit\n",
    "popt, pcov = curve_fit(fitfunc, bin_centers[1:10], corr[1:10])\n",
    "#"
   ]
  },
  {
   "cell_type": "code",
   "execution_count": null,
   "metadata": {},
   "outputs": [],
   "source": []
  },
  {
   "cell_type": "markdown",
   "metadata": {},
   "source": [
    "still working on this. . . "
   ]
  },
  {
   "cell_type": "code",
   "execution_count": null,
   "metadata": {},
   "outputs": [],
   "source": []
  }
 ],
 "metadata": {
  "kernelspec": {
   "display_name": "COIN (Python 3)",
   "language": "python",
   "name": "coin_3"
  },
  "language_info": {
   "codemirror_mode": {
    "name": "ipython",
    "version": 3
   },
   "file_extension": ".py",
   "mimetype": "text/x-python",
   "name": "python",
   "nbconvert_exporter": "python",
   "pygments_lexer": "ipython3",
   "version": "3.6.8"
  }
 },
 "nbformat": 4,
 "nbformat_minor": 2
}
