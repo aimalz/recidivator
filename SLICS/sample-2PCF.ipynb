{
 "cells": [
  {
   "cell_type": "markdown",
   "metadata": {},
   "source": [
    "# Sampling from a power spectrum\n",
    "\n",
    "_Alex Malz (GCCL@RUB)_, add your name here"
   ]
  },
  {
   "cell_type": "code",
   "execution_count": 1,
   "metadata": {},
   "outputs": [
    {
     "name": "stderr",
     "output_type": "stream",
     "text": [
      "WARNING: AstroMLDeprecationWarning: 'decorators' has been moved to 'astroML.utils' and will be removed from the main namespace in the future. [astroML.decorators]\n"
     ]
    }
   ],
   "source": [
    "from astroML.decorators import pickle_results\n",
    "from astroML.correlation import two_point\n",
    "import george\n",
    "import matplotlib.pyplot as plt\n",
    "import numpy as np\n",
    "from numpy import linalg as la\n",
    "import scipy.fftpack as spf\n",
    "# import pomegranate\n",
    "# from pomegranate.distributions import MultivariateGaussianDistribution as MGD"
   ]
  },
  {
   "cell_type": "markdown",
   "metadata": {},
   "source": [
    "## Examine the precomputed 2PCF\n",
    "\n",
    "Download the 2PCF at several redshifts [here](https://drive.google.com/drive/folders/1eGlAO_wl9h0xiXiTMKV_m7h9YCRhDHP_?usp=sharing).\n",
    "\n",
    "Note that the data is $\\Delta^{2}(k)$, not the more familiar (to me) $\\mathcal{P}(k)$.  (A reminder of the relationship between them can be found [here](http://universe-review.ca/R05-04-powerspectrum.htm), particularly in [this figure](http://universe-review.ca/I02-20-correlate1b.png).)\n",
    "\n",
    "$\\frac{k^{3}}{2\\pi^{2}}P(k) = \\Delta^{2}(k)$"
   ]
  },
  {
   "cell_type": "code",
   "execution_count": 2,
   "metadata": {},
   "outputs": [],
   "source": [
    "del2 = np.genfromtxt('NptFns/0.042ngpps_new.dat_LOS1').T"
   ]
  },
  {
   "cell_type": "code",
   "execution_count": 3,
   "metadata": {},
   "outputs": [],
   "source": [
    "nk = del2.shape[-1]"
   ]
  },
  {
   "cell_type": "code",
   "execution_count": 4,
   "metadata": {},
   "outputs": [
    {
     "data": {
      "text/plain": [
       "Text(0, 0.5, '$\\\\Delta^2(k)$')"
      ]
     },
     "execution_count": 4,
     "metadata": {},
     "output_type": "execute_result"
    },
    {
     "data": {
      "image/png": "[encoded data removed]",
      "text/plain": [
       "<Figure size 432x288 with 1 Axes>"
      ]
     },
     "metadata": {
      "needs_background": "light"
     },
     "output_type": "display_data"
    }
   ],
   "source": [
    "plt.plot(del2[0], del2[1])\n",
    "plt.semilogx()\n",
    "plt.semilogy()\n",
    "plt.xlabel(r'$k$ [Mpc/h]')\n",
    "plt.ylabel(r'$\\Delta^2(k)$')"
   ]
  },
  {
   "cell_type": "code",
   "execution_count": 5,
   "metadata": {},
   "outputs": [],
   "source": [
    "pk = del2[1] / (del2[0]**3) * (2 * np.pi**2)\n",
    "# might be off by a constant, check the 2pi^2"
   ]
  },
  {
   "cell_type": "code",
   "execution_count": 6,
   "metadata": {},
   "outputs": [
    {
     "data": {
      "text/plain": [
       "Text(0, 0.5, '$P(k)$')"
      ]
     },
     "execution_count": 6,
     "metadata": {},
     "output_type": "execute_result"
    },
    {
     "data": {
      "image/png": "[encoded data removed]",
      "text/plain": [
       "<Figure size 432x288 with 1 Axes>"
      ]
     },
     "metadata": {
      "needs_background": "light"
     },
     "output_type": "display_data"
    }
   ],
   "source": [
    "plt.plot(del2[0], pk.real)\n",
    "plt.semilogy()\n",
    "plt.semilogx()\n",
    "plt.xlabel(r'$k$ [Mpc/h]')\n",
    "plt.ylabel(r'$P(k)$')"
   ]
  },
  {
   "cell_type": "markdown",
   "metadata": {},
   "source": [
    "This is now the expected behavior!"
   ]
  },
  {
   "cell_type": "markdown",
   "metadata": {},
   "source": [
    "## From first principles\n",
    "\n",
    "Alberto Krone-Martins points out that this is outlined in [Rocha+05](https://academic.oup.com/mnras/article/357/1/1/1033689)."
   ]
  },
  {
   "cell_type": "code",
   "execution_count": 7,
   "metadata": {},
   "outputs": [],
   "source": [
    "nksmall = 100"
   ]
  },
  {
   "cell_type": "code",
   "execution_count": 8,
   "metadata": {},
   "outputs": [],
   "source": [
    "whitenoise = np.random.random((nksmall, nksmall, nksmall))"
   ]
  },
  {
   "cell_type": "code",
   "execution_count": 9,
   "metadata": {},
   "outputs": [],
   "source": [
    "fftwn = spf.fft(whitenoise)"
   ]
  },
  {
   "cell_type": "markdown",
   "metadata": {},
   "source": [
    "Next step: need to make a 3 (2) D power spectrum.\n",
    "This algorithm only works because the bins are spaced linearly in k.\n",
    "It's commented out right now because it's very slow, though I'm not sure why."
   ]
  },
  {
   "cell_type": "code",
   "execution_count": null,
   "metadata": {},
   "outputs": [],
   "source": [
    "# # fftwn.real = pk.real * np.eye(len(pk))\n",
    "\n",
    "# # placeholder = np.empty((nk, nk, nk))\n",
    "\n",
    "# # for i in [nk - 1]:#range(nk):\n",
    "# #     for j in range(nk)[:nksmall]:\n",
    "# #         for k in range(nk)[:nksmall]:\n",
    "# #             ka = int(np.sqrt(i + j + k))\n",
    "# #             placeholder[i][j][k] = pk[int(ka)]\n",
    "\n",
    "# placeholder = pk.real[:100, np.newaxis, np.newaxis] + pk.real[np.newaxis, :100, np.newaxis] + pk.real[np.newaxis, np.newaxis, :100]"
   ]
  },
  {
   "cell_type": "code",
   "execution_count": null,
   "metadata": {},
   "outputs": [],
   "source": [
    "pk3d = np.sqrt(placeholder) * fftwn"
   ]
  },
  {
   "cell_type": "code",
   "execution_count": null,
   "metadata": {},
   "outputs": [],
   "source": [
    "ifftwn = spf.ifft(fftwn)"
   ]
  },
  {
   "cell_type": "code",
   "execution_count": null,
   "metadata": {},
   "outputs": [],
   "source": [
    "plt.imshow(ifftwn.real[-1], cmap='Spectral_r')"
   ]
  },
  {
   "cell_type": "markdown",
   "metadata": {},
   "source": [
    "There are several issues with this:\n",
    "1. If we'd done this with all higher order moments at once, it wouldn't be an issue, but we forgot that with a finite number of Fourier-space moments, we can't get a random field that looks like what we want if we give it white noise for the phase.  I suspect that even if we can combine the 2PCF and 3PCF, two moments won't be enough to overcome this.\n",
    "2. Apparently no one believes linear bias between the matter and galaxy power spectra at small scales, so we can't get away with just matching using the moments of the matter distribution and a linear bias factor.  It's unclear whether our audience will be mollified with a more sophisticated galaxy bias model, i.e. higher order perturbation theory.  \n",
    "\n",
    "Where to go from here:\n",
    "1. _How do we generate realistic phases?_  We could calculate the 2PCF and keep the phases for many subsets of the particle data, then model the space of possible phases and draw new phases from that space.  But, generating new particle data from a single simulation is a very hot area of research right now, especially with machine learning, so I'm inclined to back off and accept being tied to the original simulation's positions/phases.  We could also revisit the wavelets idea for this.\n",
    "2. _How do we account for the bias between the matter and galaxy distributions???_  We need to ask domain experts what they would believe.  My understanding is that HOD doesn't give them something they especially like either.  We need to find out what they would find more acceptable.\n",
    "\n",
    "We should try to pursue the minimal-work subset of these problems that leads to a way to obtain mock catalog galaxy, because the alternative-to-inpainting part of the project shouldn't be held back by this."
   ]
  },
  {
   "cell_type": "markdown",
   "metadata": {},
   "source": [
    "## From first principles, part 2\n",
    "\n",
    "I think the non-Python code below from Joachim Harnois-Deraps does almost the same thing as [Rocha+05](https://academic.oup.com/mnras/article/357/1/1/1033689)."
   ]
  },
  {
   "cell_type": "code",
   "execution_count": null,
   "metadata": {},
   "outputs": [],
   "source": [
    "# !! The code is to generate a Gaussian stochastic field with a given 3d power spectrum\n",
    "# !! written by T.T.Lu on Oct 13, 2006\n",
    "# !! compile with 'efc GaussRandomField.f90 -L/opt/fftw-3.1.2_intel8/lib/ -lfftw3f -I/opt/fftw-3.1.2_intel8/include/ -o GaussRandomField.x'\n",
    "# !! replace the fftw library by the corresponding one on the machine used\n",
    "\n",
    "# Subroutine GaussRandomField_3d_r2c(den, box, nc, kg, delta2, nk)\n",
    "#   implicit none\n",
    "\n",
    "#   !! nc is the number of grids on each dimension\n",
    "#   !! nt is the number of threads for openmp\n",
    "#   !! nk is the number of points at the input power spectrum table\n",
    "#   !! box is the physical size of the box\n",
    "#   integer nc,nk\n",
    "#   integer, parameter :: nt=1\n",
    "\n",
    "#   real, dimension(nc+2,nc,nc) :: den\n",
    "#   real, dimension(nk) :: pk,kg,delta2\n",
    "# !  real, dimension(0:nk) :: factor\n",
    "#   real, dimension(0:nc) :: factor\n",
    "#   real, dimension(nc,nc,nc) :: x1,x2\n",
    "#   real box\n",
    "\n",
    "#   integer hc,it,i,j,k,k1,k2,kx,ky,kz,kpt\n",
    "#   real pi,kr,w1,w2\n",
    "\n",
    "#   external sfft3_r2c\n",
    "\n",
    "#   write(*,*)'Called GaussRandomField_3d_r2c'\n",
    "\n",
    "\n",
    "#   pi=acos(-1.)\n",
    "#   hc=nc/2\n",
    "\n",
    "#   do i=1,nk\n",
    "#      pk(i)=delta2(i)/kg(i)**3*2*pi**2\n",
    "#   enddo\n",
    "\n",
    "\n",
    "#   !! generate whitenoise source\n",
    "#   call random_number(x1(:,:,:))\n",
    "#   call random_number(x2(:,:,:))\n",
    "\n",
    "#   den=0\n",
    "#   do k=1,nc\n",
    "#      do j=1,nc\n",
    "#         do i=1,nc\n",
    "#            den(i,j,k)=sqrt(-2*log(x1(i,j,k)))*cos(2*pi*x2(i,j,k))\n",
    "#         enddo\n",
    "#      enddo\n",
    "#   enddo\n",
    "#   !write(*,*) 'step3'\n",
    "\n",
    "#   call sfft3_r2c(den,nc,1)\n",
    "#   !write(*,*) 'called  fft forward'\n",
    "\n",
    "#   !write(*,*) '1 :Max = ' , maxval(den), 'min = ', minval(den)\n",
    "\n",
    "\n",
    "#   factor=0\n",
    "#   do k=1,nk\n",
    "#      factor(k)=pk(k)/(box**3/nc**3)\n",
    "#   enddo\n",
    "\n",
    "#   kpt=nc/nt\n",
    "#   !!$omp parallel do default(shared) &\n",
    "#   !!$omp& private(it,i,j,k,kr,kri,kx,ky,kz,k1,k2,w1,w2,tmp)\n",
    "#   do it=1,nt\n",
    "#      do k=1+(it-1)*kpt,min(nc,it*kpt)\n",
    "#         if (k .le. hc+1) then\n",
    "#             kz=k-1\n",
    "#         else\n",
    "#             kz=k-1-nc\n",
    "#         endif\n",
    "#         do j=1,nc\n",
    "#             if (j .le. hc+1) then\n",
    "#                 ky=j-1\n",
    "#             else\n",
    "#                 ky=j-1-nc\n",
    "#             endif\n",
    "#             do i=1,nc+2,2\n",
    "#                kx=(i-1)/2\n",
    "#                kr=sqrt(kx**2.+ky**2+kz**2)\n",
    "#                if(kr.ne.0) then\n",
    "#                  k1=ceiling(kr)\n",
    "#                  k2=k1+1\n",
    "#                  w1=k1-kr\n",
    "#                  w2=1-w1\n",
    "#                  den(i,j,k)=den(i,j,k)*sqrt(factor(k1-1)*w1+factor(k2-1)*w2) !! interpolation causes problem\n",
    "#                  den(i+1,j,k)=den(i+1,j,k)*sqrt(factor(k1-1)*w1+factor(k2-1)*w2)\n",
    "#                else\n",
    "#                  den(i,j,k)=den(i,j,k)*sqrt(factor(0))\n",
    "#                  den(i+1,j,k)=den(i+1,j,k)*sqrt(factor(0))\n",
    "#                endif\n",
    "#            enddo\n",
    "#         enddo\n",
    "#      enddo\n",
    "#   enddo\n",
    "#   !!$omp end parallel do\n",
    "\n",
    "# !  write(*,*) '2 :Max = ' , maxval(den), 'min = ', minval(den)\n",
    "#   call sfft3_r2c(den,nc,-1)\n",
    "# !  write(*,*) '3 :Max = ' , maxval(den), 'min = ', minval(den)\n",
    "\n",
    "# !  write(*,*) 'called  fft backward'\n",
    "\n",
    "#   return\n",
    "# end subroutine GaussRandomField_3d_r2c"
   ]
  },
  {
   "cell_type": "code",
   "execution_count": null,
   "metadata": {},
   "outputs": [],
   "source": [
    "randopk = pk\n",
    "randopk.imag = spf.fft(whitenoise[0])"
   ]
  },
  {
   "cell_type": "code",
   "execution_count": null,
   "metadata": {},
   "outputs": [],
   "source": [
    "newdel2rev = spf.ifft(randopk)\n",
    "newdel2 = np.flip(newdel2rev.real)"
   ]
  },
  {
   "cell_type": "code",
   "execution_count": null,
   "metadata": {},
   "outputs": [],
   "source": [
    "plt.plot((del2[0]**3 * 2 * np.pi**2) * del2[1])\n",
    "plt.plot(newdel2 / (del2[0]**3 * 2 * np.pi**2))\n",
    "plt.semilogx()\n",
    "plt.semilogy()\n",
    "plt.xlabel(r'$k$ [Mpc/h]')\n",
    "plt.ylabel(r'$\\Delta^2(k)$')"
   ]
  },
  {
   "cell_type": "markdown",
   "metadata": {},
   "source": [
    "Aside from the left-right issue, I'm still not sure if this is what we want, but at least they're kind of talking to each other.\n",
    "I still, however, don't know how to sample a 2D field from a 1D power spectrum. . ."
   ]
  },
  {
   "cell_type": "markdown",
   "metadata": {},
   "source": [
    "# scratch after here"
   ]
  },
  {
   "cell_type": "code",
   "execution_count": null,
   "metadata": {},
   "outputs": [],
   "source": [
    "nc = samps.shape[0]                # define how many cells your box has\n",
    "boxlen = 50.0           # define length of box\n",
    "Lambda = boxlen/4.0     # define an arbitrary wave length of a plane wave\n",
    "dx = boxlen/nc          # get size of a cell\n",
    "\n",
    "    # create plane wave density field\n",
    "density_field = samps#np.zeros((nc, nc, nc), dtype='float')\n",
    "for x in range(density_field.shape[0]):\n",
    "    density_field[x,:] = np.cos(2*np.pi*x*dx/Lambda)"
   ]
  },
  {
   "cell_type": "code",
   "execution_count": null,
   "metadata": {},
   "outputs": [],
   "source": [
    "    # get overdensity field\n",
    "delta = density_field/np.mean(density_field) - 1"
   ]
  },
  {
   "cell_type": "code",
   "execution_count": null,
   "metadata": {},
   "outputs": [],
   "source": [
    "    # get P(k) field: explot fft of data that is only real, not complex\n",
    "delta_k = np.abs(np.fft.rfftn(delta).round())\n",
    "Pk_field =  delta_k**2"
   ]
  },
  {
   "cell_type": "code",
   "execution_count": null,
   "metadata": {},
   "outputs": [],
   "source": [
    "    # get 3d array of index integer distances to k = (0, 0, 0)\n",
    "dist = np.minimum(np.arange(nc), np.arange(nc,0,-1))\n",
    "dist_z = np.arange(nc//2+1)\n",
    "dist *= dist\n",
    "dist_z *= dist_z\n",
    "dist_3d = np.sqrt(dist[:, None, None] + dist[:, None] + dist_z)"
   ]
  },
  {
   "cell_type": "code",
   "execution_count": null,
   "metadata": {},
   "outputs": [],
   "source": [
    "    # get unique distances and index which any distance stored in dist_3d \n",
    "    # will have in \"distances\" array\n",
    "distances, _ = np.unique(dist_3d, return_inverse=True)\n",
    "\n",
    "    # average P(kx, ky, kz) to P(|k|)\n",
    "Pk = np.bincount(_, weights=Pk_field.ravel())/np.bincount(_)\n",
    "\n",
    "    # compute \"phyical\" values of k\n",
    "dk = 2*np.pi/boxlen\n",
    "k = distances*dk\n",
    "\n",
    "    # plot results\n",
    "fig = plt.figure(figsize=(9,6))\n",
    "ax1 = fig.add_subplot(111)\n",
    "ax1.plot(k, Pk, label=r'$P(\\mathbf{k})$')"
   ]
  },
  {
   "cell_type": "code",
   "execution_count": null,
   "metadata": {},
   "outputs": [],
   "source": [
    "img = samps\n",
    "\n",
    "f = np.fft.fft2(img)\n",
    "fshift = np.fft.fftshift(f)\n",
    "magnitude_spectrum = 20*np.log(np.abs(fshift))\n",
    "\n",
    "plt.subplot(121),plt.imshow(img, cmap = 'gray')\n",
    "plt.title('Input Image'), plt.xticks([]), plt.yticks([])\n",
    "plt.subplot(122),plt.imshow(magnitude_spectrum, cmap = 'gray')\n",
    "plt.title('Magnitude Spectrum'), plt.xticks([]), plt.yticks([])\n",
    "plt.show()          "
   ]
  },
  {
   "cell_type": "code",
   "execution_count": null,
   "metadata": {},
   "outputs": [],
   "source": [
    "def compute_results(array, Nbins=20):\n",
    "#     print(np.shape(array))\n",
    "#     np.random.seed(rseed)\n",
    "    bins = 10. ** np.linspace(np.log10(1. / 50000.), np.log10(10.), Nbins)\n",
    "#     results = [bins]\n",
    "    print(np.shape(bins))\n",
    "    results = two_point(array, bins)\n",
    "    print(np.shape(corr))\n",
    "#         (array['Ra'],\n",
    "#                                            array['Dec'],\n",
    "#                                            bins=bins,\n",
    "#                                            method=method,\n",
    "#                                            Nbootstraps=Nbootstraps)\n",
    "    return (bins, results)\n",
    "#"
   ]
  },
  {
   "cell_type": "code",
   "execution_count": null,
   "metadata": {},
   "outputs": [],
   "source": [
    "(bins, corr) = compute_results(samps)"
   ]
  },
  {
   "cell_type": "code",
   "execution_count": null,
   "metadata": {},
   "outputs": [],
   "source": [
    "bins"
   ]
  },
  {
   "cell_type": "code",
   "execution_count": null,
   "metadata": {},
   "outputs": [],
   "source": [
    "corr"
   ]
  },
  {
   "cell_type": "code",
   "execution_count": null,
   "metadata": {},
   "outputs": [],
   "source": [
    "plt.plot(bins, corr)"
   ]
  },
  {
   "cell_type": "code",
   "execution_count": null,
   "metadata": {},
   "outputs": [],
   "source": [
    "bin_centers = 0.5 * (bins[1:] + bins[:-1])\n",
    "#\n",
    "bin_centers = bin_centers[np.where(np.isnan(corr)==False)]\n",
    "corr = corr[np.where(np.isnan(corr)==False)]\n",
    "corr_err = corr_err[np.where(np.isnan(corr)==False)]\n",
    "#\n",
    "# Export the TPCF data to an numpy array\n",
    "tpcf = np.transpose(np.array([bin_centers, corr, corr_err]))\n",
    "#\n",
    "# Print the TPCF file\n",
    "# print(tpcf)\n",
    "#\n",
    "# Export the TPCF data to a file\n",
    "# np.savetxt('./Data/ngc1566_astroml_tpcf.dat', tpcf)\n",
    "#\n",
    "# Import fitting process\n",
    "from scipy.optimize import curve_fit\n",
    "#\n",
    "# Define the fitting function\n",
    "def fitfunc(x, a, b, c):\n",
    "    return a*(x/b)**c\n",
    "#\n",
    "# Plot the Landy-Szalay TPCF and its fit\n",
    "popt, pcov = curve_fit(fitfunc, bin_centers[1:10], corr[1:10])\n",
    "#"
   ]
  },
  {
   "cell_type": "code",
   "execution_count": null,
   "metadata": {},
   "outputs": [],
   "source": []
  },
  {
   "cell_type": "markdown",
   "metadata": {},
   "source": [
    "still working on this. . . "
   ]
  },
  {
   "cell_type": "code",
   "execution_count": null,
   "metadata": {},
   "outputs": [],
   "source": []
  }
 ],
 "metadata": {
  "kernelspec": {
   "display_name": "COIN (Python 3)",
   "language": "python",
   "name": "coin_3"
  },
  "language_info": {
   "codemirror_mode": {
    "name": "ipython",
    "version": 3
   },
   "file_extension": ".py",
   "mimetype": "text/x-python",
   "name": "python",
   "nbconvert_exporter": "python",
   "pygments_lexer": "ipython3",
   "version": "3.6.8"
  }
 },
 "nbformat": 4,
 "nbformat_minor": 2
}
