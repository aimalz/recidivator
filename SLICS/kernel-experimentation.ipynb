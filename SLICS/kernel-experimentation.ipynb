{
 "cells": [
  {
   "cell_type": "markdown",
   "metadata": {},
   "source": [
    "# Sampling a random field from a kernel"
   ]
  },
  {
   "cell_type": "code",
   "execution_count": null,
   "metadata": {},
   "outputs": [],
   "source": [
    "require(reshape)\n",
    "require(dplyr)\n",
    "# require(rayshader)\n",
    "require(ggplot2)\n",
    "require(MASS)"
   ]
  },
  {
   "cell_type": "code",
   "execution_count": null,
   "metadata": {},
   "outputs": [],
   "source": [
    "\n",
    "\n",
    "N = 200 # Grid size\n",
    "x <- seq(0,20,length.out = N) # 20 is arbitrary, box size\n",
    "y <- seq(0,20,length.out = N)\n",
    "\n",
    "###  Different 2D kernels, i.e. stationary functions of the distance between pairs of points\n",
    "se_kernel <- function(x, y, sigma = 1, length = 1) {\n",
    "  sigma^2 * exp(- (x - y)^2 / (2 * length^2))\n",
    "}\n",
    "\n",
    "###\n",
    "ExpCosKernel <- function(x, y, P = 0.45){\n",
    "  cos((2*pi*(x-y)^2/P))\n",
    "} \n",
    "###\n",
    "\n",
    "### \n",
    "matern_kernel <- function(x, y, nu = 0.5, sigma = 10, l = 1) {\n",
    "  if (!(nu %in% c(0.5, 1.5, 2.5))) {\n",
    "    stop(\"p must be equal to 0.5, 1.5 or 2.5\")\n",
    "  }\n",
    "  p <- nu - 0.5\n",
    "  d <- abs(x - y)\n",
    "  if (p == 0) {\n",
    "    sigma^2 * exp(- d / l)\n",
    "  } else if (p == 1) {\n",
    "    sigma^2 * (1 + sqrt(3)*d/l) * exp(- sqrt(3)*d/l)\n",
    "  } else {\n",
    "    sigma^2 * (1 + sqrt(5)*d/l + 5*d^2 / (3*l^2)) * exp(-sqrt(5)*d/l)\n",
    "  }\n",
    "}\n",
    "\n",
    "### Extend to 3D kernels, i.e. stationary functions of the distance between trios of points\n",
    "z <- seq(0,20,length.out = N)\n",
    "\n",
    "rbf_kernel <- function(x, y, z, sigma1 = 1, sigma2 = 1, length1 = 1, length2 = 1) {\n",
    "  sqrt((sigma1^2 * exp(- (x - y)^2 / (2 * length1^2)))^2 + (sigma^2 * exp(- (y - z)^2 / (2 * length2^2)))^2 )\n",
    "}\n",
    "\n",
    "### Estimate covariance matrix for a given kernel choice\n",
    "cov_matrix <- function(x,y, kernel_fn, ...) {\n",
    "  outer(x, y, function(a, b) kernel_fn(a, b, ...))\n",
    "}\n",
    "\n",
    "### Evaluate kernel for a vector of x,y coordinates\n",
    "K <- cov_matrix(x,y, kernel_fn = se_kernel)\n",
    "\n",
    "\n",
    "### Sample a Gaussian Field with a kernel of choice\n",
    "Y <- matrix(mvrnorm(N*N,mu = rep(0,N), Sigma = K), nrow = N, ncol = N)\n",
    "\n",
    "### Just format data to be ggplot2 friendly\n",
    "gY <- melt(Y)\n",
    "\n",
    "### ggplot >>> matplotlib and seaborn\n",
    "ggplot(data=gY,aes(x=X1,y=X2)) +\n",
    "  geom_raster(aes(fill = value)) +\n",
    "  scale_fill_viridis_c() + \n",
    "  theme_bw() \n",
    "\n",
    "# ### Just a fancy 3D plot, not usefull for anything\n",
    "# plot_gg(gg,multicore=TRUE,width=5,height=5,scale=250,windowsize=c(1200,800),\n",
    "#         zoom = 0.55, phi = 30)  # parameters of the 3D plot  \n",
    "\n",
    "\n"
   ]
  },
  {
   "cell_type": "markdown",
   "metadata": {},
   "source": [
    "# Next steps\n",
    "\n",
    "## make a kernel from a power spectrum/2PCF\n",
    "## make a fourier space kernel for a real space field\n",
    "## make a kernel for 3+ point correlation functions"
   ]
  },
  {
   "cell_type": "code",
   "execution_count": null,
   "metadata": {},
   "outputs": [],
   "source": []
  }
 ],
 "metadata": {
  "kernelspec": {
   "display_name": "R",
   "language": "R",
   "name": "ir"
  },
  "language_info": {
   "codemirror_mode": "r",
   "file_extension": ".r",
   "mimetype": "text/x-r-source",
   "name": "R",
   "pygments_lexer": "r",
   "version": "3.5.1"
  }
 },
 "nbformat": 4,
 "nbformat_minor": 2
}
