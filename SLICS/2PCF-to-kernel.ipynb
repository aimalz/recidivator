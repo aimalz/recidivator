{
 "cells": [
  {
   "cell_type": "markdown",
   "metadata": {},
   "source": [
    "# Making a kernel to reproduce a power spectrum\n",
    "\n",
    "_Alex Malz (GCCL@RUB)_, add your name here"
   ]
  },
  {
   "cell_type": "code",
   "execution_count": null,
   "metadata": {},
   "outputs": [],
   "source": [
    "from astroML.decorators import pickle_results\n",
    "from astroML.correlation import two_point\n",
    "import george\n",
    "import matplotlib.pyplot as plt\n",
    "import numpy as np\n",
    "from numpy import linalg as la\n",
    "# import pomegranate\n",
    "# from pomegranate.distributions import MultivariateGaussianDistribution as MGD"
   ]
  },
  {
   "cell_type": "markdown",
   "metadata": {},
   "source": [
    "## Examine the precomputed 2PCF\n",
    "\n",
    "Download the 2PCF at several redshifts [here](https://drive.google.com/drive/folders/1eGlAO_wl9h0xiXiTMKV_m7h9YCRhDHP_?usp=sharing).\n",
    "\n",
    "Note that the data is $\\Delta^{2}(k)$, not the more familiar (to me) $\\mathcal{P}(k)$.  (A reminder of the relationship between them can be found [here](http://universe-review.ca/R05-04-powerspectrum.htm), particularly in [this figure](http://universe-review.ca/I02-20-correlate1b.png).)"
   ]
  },
  {
   "cell_type": "code",
   "execution_count": null,
   "metadata": {},
   "outputs": [],
   "source": [
    "pk = np.genfromtxt('NptFns/0.042ngpps_new.dat_LOS1').T"
   ]
  },
  {
   "cell_type": "code",
   "execution_count": null,
   "metadata": {},
   "outputs": [],
   "source": [
    "print(pk.shape)"
   ]
  },
  {
   "cell_type": "code",
   "execution_count": null,
   "metadata": {},
   "outputs": [],
   "source": [
    "nk = pk.shape[-1]"
   ]
  },
  {
   "cell_type": "markdown",
   "metadata": {},
   "source": [
    "changing units to r from k, not sure whether the units were what I was expecting from the start. . . "
   ]
  },
  {
   "cell_type": "code",
   "execution_count": null,
   "metadata": {},
   "outputs": [],
   "source": [
    "plt.plot(2 * np.pi / pk[0], pk[1])\n",
    "plt.semilogx()\n",
    "plt.semilogy()\n",
    "plt.xlabel(r'$k$ [Mpc/h]')\n",
    "plt.ylabel(r'$\\Delta^2(k)$')"
   ]
  },
  {
   "cell_type": "markdown",
   "metadata": {},
   "source": [
    "## Make a kernel from the 2PCF\n",
    "\n",
    "Note: I think this may be backwards!!!"
   ]
  },
  {
   "cell_type": "code",
   "execution_count": null,
   "metadata": {},
   "outputs": [],
   "source": [
    "kernel = np.ones((nk, nk))"
   ]
  },
  {
   "cell_type": "code",
   "execution_count": null,
   "metadata": {},
   "outputs": [],
   "source": [
    "plt.imshow(kernel, cmap='')"
   ]
  },
  {
   "cell_type": "code",
   "execution_count": null,
   "metadata": {},
   "outputs": [],
   "source": [
    "def off_diag_indices(a, i):\n",
    "    rows, cols = np.diag_indices_from(a)\n",
    "    if i < 0:\n",
    "        return rows[-i:], cols[:i]\n",
    "    elif i > 0:\n",
    "        return rows[:-i], cols[i:]\n",
    "    else:\n",
    "        return rows, cols"
   ]
  },
  {
   "cell_type": "code",
   "execution_count": null,
   "metadata": {},
   "outputs": [],
   "source": [
    "for i in range(1, nk):\n",
    "    ind = off_diag_indices(kernel, -i)\n",
    "    kernel[ind] = pk[1][-i]\n",
    "    ind = off_diag_indices(kernel, i)\n",
    "    kernel[ind] = pk[1][-i]"
   ]
  },
  {
   "cell_type": "code",
   "execution_count": null,
   "metadata": {},
   "outputs": [],
   "source": [
    "plt.imshow(kernel, cmap='Spectral_r')\n",
    "plt.savefig('2PCFkernel.png', dpi=250)"
   ]
  },
  {
   "cell_type": "code",
   "execution_count": null,
   "metadata": {},
   "outputs": [],
   "source": [
    "# borrowed from https://gist.github.com/fasiha/fdb5cec2054e6f1c6ae35476045a0bbd\n",
    "def nearestPD(A):\n",
    "    \"\"\"Find the nearest positive-definite matrix to input\n",
    "\n",
    "    A Python/Numpy port of John D'Errico's `nearestSPD` MATLAB code [1], which\n",
    "    credits [2].\n",
    "\n",
    "    [1] https://www.mathworks.com/matlabcentral/fileexchange/42885-nearestspd\n",
    "\n",
    "    [2] N.J. Higham, \"Computing a nearest symmetric positive semidefinite\n",
    "    matrix\" (1988): https://doi.org/10.1016/0024-3795(88)90223-6\n",
    "    \"\"\"\n",
    "\n",
    "    B = (A + A.T) / 2\n",
    "    _, s, V = la.svd(B)\n",
    "\n",
    "    H = np.dot(V.T, np.dot(np.diag(s), V))\n",
    "\n",
    "    A2 = (B + H) / 2\n",
    "\n",
    "    A3 = (A2 + A2.T) / 2\n",
    "\n",
    "    if isPD(A3):\n",
    "        return A3\n",
    "\n",
    "    spacing = np.spacing(la.norm(A))\n",
    "    # The above is different from [1]. It appears that MATLAB's `chol` Cholesky\n",
    "    # decomposition will accept matrixes with exactly 0-eigenvalue, whereas\n",
    "    # Numpy's will not. So where [1] uses `eps(mineig)` (where `eps` is Matlab\n",
    "    # for `np.spacing`), we use the above definition. CAVEAT: our `spacing`\n",
    "    # will be much larger than [1]'s `eps(mineig)`, since `mineig` is usually on\n",
    "    # the order of 1e-16, and `eps(1e-16)` is on the order of 1e-34, whereas\n",
    "    # `spacing` will, for Gaussian random matrixes of small dimension, be on\n",
    "    # othe order of 1e-16. In practice, both ways converge, as the unit test\n",
    "    # below suggests.\n",
    "    I = np.eye(A.shape[0])\n",
    "    k = 1\n",
    "    while not isPD(A3):\n",
    "        mineig = np.min(np.real(la.eigvals(A3)))\n",
    "        A3 += I * (-mineig * k**2 + spacing)\n",
    "        k += 1\n",
    "\n",
    "    return A3\n",
    "\n",
    "def isPD(B):\n",
    "    \"\"\"Returns true when input is positive-definite, via Cholesky\"\"\"\n",
    "    try:\n",
    "        _ = la.cholesky(B)\n",
    "        return True\n",
    "    except la.LinAlgError:\n",
    "        return False\n",
    "\n",
    "if __name__ == '__main__':\n",
    "    import numpy as np\n",
    "    for i in range(10):\n",
    "        for j in range(2, 100):\n",
    "            A = np.random.randn(j, j)\n",
    "            B = nearestPD(A)\n",
    "            assert(isPD(B))\n",
    "    print('unit test passed!')\n"
   ]
  },
  {
   "cell_type": "code",
   "execution_count": null,
   "metadata": {},
   "outputs": [],
   "source": [
    "newkern = nearestPD(kernel)"
   ]
  },
  {
   "cell_type": "code",
   "execution_count": null,
   "metadata": {},
   "outputs": [],
   "source": [
    "np.savetxt('2PCF_kernel.csv', newkern)"
   ]
  },
  {
   "cell_type": "code",
   "execution_count": null,
   "metadata": {},
   "outputs": [],
   "source": [
    "newkern = np.genfromtxt('2PCF_kernel.csv')"
   ]
  },
  {
   "cell_type": "code",
   "execution_count": null,
   "metadata": {},
   "outputs": [],
   "source": [
    "plt.imshow(newkern, cmap='Spectral_r')\n",
    "plt.savefig('posdef2PCFkernel.png', dpi=250)"
   ]
  },
  {
   "cell_type": "markdown",
   "metadata": {},
   "source": [
    "## Compare samples from this kernel with the original 2PCF"
   ]
  },
  {
   "cell_type": "code",
   "execution_count": null,
   "metadata": {},
   "outputs": [],
   "source": [
    "randfield = np.genfromtxt('RF_fromKernel.dat')"
   ]
  },
  {
   "cell_type": "code",
   "execution_count": null,
   "metadata": {},
   "outputs": [],
   "source": [
    "randfield.shape"
   ]
  },
  {
   "cell_type": "code",
   "execution_count": null,
   "metadata": {},
   "outputs": [],
   "source": [
    "plt.imshow(randfield)"
   ]
  },
  {
   "cell_type": "code",
   "execution_count": null,
   "metadata": {},
   "outputs": [],
   "source": [
    "ftrand = np.fft.ifft2(randfield)"
   ]
  },
  {
   "cell_type": "code",
   "execution_count": null,
   "metadata": {},
   "outputs": [],
   "source": [
    "ftrand.shape"
   ]
  },
  {
   "cell_type": "code",
   "execution_count": null,
   "metadata": {},
   "outputs": [],
   "source": [
    "plt.imshow(np.real(ftrand))"
   ]
  },
  {
   "cell_type": "code",
   "execution_count": null,
   "metadata": {},
   "outputs": [],
   "source": [
    "samps = np.genfromtxt('RF_fromKernel.csv')"
   ]
  },
  {
   "cell_type": "code",
   "execution_count": null,
   "metadata": {},
   "outputs": [],
   "source": [
    "samps.shape"
   ]
  },
  {
   "cell_type": "code",
   "execution_count": null,
   "metadata": {},
   "outputs": [],
   "source": [
    "plt.imshow(samps)"
   ]
  },
  {
   "cell_type": "markdown",
   "metadata": {},
   "source": [
    "# scratch after here"
   ]
  },
  {
   "cell_type": "code",
   "execution_count": null,
   "metadata": {},
   "outputs": [],
   "source": [
    "nc = samps.shape[0]                # define how many cells your box has\n",
    "boxlen = 50.0           # define length of box\n",
    "Lambda = boxlen/4.0     # define an arbitrary wave length of a plane wave\n",
    "dx = boxlen/nc          # get size of a cell\n",
    "\n",
    "    # create plane wave density field\n",
    "density_field = samps#np.zeros((nc, nc, nc), dtype='float')\n",
    "for x in range(density_field.shape[0]):\n",
    "    density_field[x,:] = np.cos(2*np.pi*x*dx/Lambda)"
   ]
  },
  {
   "cell_type": "code",
   "execution_count": null,
   "metadata": {},
   "outputs": [],
   "source": [
    "    # get overdensity field\n",
    "delta = density_field/np.mean(density_field) - 1"
   ]
  },
  {
   "cell_type": "code",
   "execution_count": null,
   "metadata": {},
   "outputs": [],
   "source": [
    "    # get P(k) field: explot fft of data that is only real, not complex\n",
    "delta_k = np.abs(np.fft.rfftn(delta).round())\n",
    "Pk_field =  delta_k**2"
   ]
  },
  {
   "cell_type": "code",
   "execution_count": null,
   "metadata": {},
   "outputs": [],
   "source": [
    "    # get 3d array of index integer distances to k = (0, 0, 0)\n",
    "dist = np.minimum(np.arange(nc), np.arange(nc,0,-1))\n",
    "dist_z = np.arange(nc//2+1)\n",
    "dist *= dist\n",
    "dist_z *= dist_z\n",
    "dist_3d = np.sqrt(dist[:, None, None] + dist[:, None] + dist_z)"
   ]
  },
  {
   "cell_type": "code",
   "execution_count": null,
   "metadata": {},
   "outputs": [],
   "source": [
    "    # get unique distances and index which any distance stored in dist_3d \n",
    "    # will have in \"distances\" array\n",
    "distances, _ = np.unique(dist_3d, return_inverse=True)\n",
    "\n",
    "    # average P(kx, ky, kz) to P(|k|)\n",
    "Pk = np.bincount(_, weights=Pk_field.ravel())/np.bincount(_)\n",
    "\n",
    "    # compute \"phyical\" values of k\n",
    "dk = 2*np.pi/boxlen\n",
    "k = distances*dk\n",
    "\n",
    "    # plot results\n",
    "fig = plt.figure(figsize=(9,6))\n",
    "ax1 = fig.add_subplot(111)\n",
    "ax1.plot(k, Pk, label=r'$P(\\mathbf{k})$')"
   ]
  },
  {
   "cell_type": "code",
   "execution_count": null,
   "metadata": {},
   "outputs": [],
   "source": [
    "img = samps\n",
    "\n",
    "f = np.fft.fft2(img)\n",
    "fshift = np.fft.fftshift(f)\n",
    "magnitude_spectrum = 20*np.log(np.abs(fshift))\n",
    "\n",
    "plt.subplot(121),plt.imshow(img, cmap = 'gray')\n",
    "plt.title('Input Image'), plt.xticks([]), plt.yticks([])\n",
    "plt.subplot(122),plt.imshow(magnitude_spectrum, cmap = 'gray')\n",
    "plt.title('Magnitude Spectrum'), plt.xticks([]), plt.yticks([])\n",
    "plt.show()          "
   ]
  },
  {
   "cell_type": "code",
   "execution_count": null,
   "metadata": {},
   "outputs": [],
   "source": [
    "def compute_results(array, Nbins=20):\n",
    "#     print(np.shape(array))\n",
    "#     np.random.seed(rseed)\n",
    "    bins = 10. ** np.linspace(np.log10(1. / 50000.), np.log10(10.), Nbins)\n",
    "#     results = [bins]\n",
    "    print(np.shape(bins))\n",
    "    results = two_point(array, bins)\n",
    "    print(np.shape(corr))\n",
    "#         (array['Ra'],\n",
    "#                                            array['Dec'],\n",
    "#                                            bins=bins,\n",
    "#                                            method=method,\n",
    "#                                            Nbootstraps=Nbootstraps)\n",
    "    return (bins, results)\n",
    "#"
   ]
  },
  {
   "cell_type": "code",
   "execution_count": null,
   "metadata": {},
   "outputs": [],
   "source": [
    "(bins, corr) = compute_results(samps)"
   ]
  },
  {
   "cell_type": "code",
   "execution_count": null,
   "metadata": {},
   "outputs": [],
   "source": [
    "bins"
   ]
  },
  {
   "cell_type": "code",
   "execution_count": null,
   "metadata": {},
   "outputs": [],
   "source": [
    "corr"
   ]
  },
  {
   "cell_type": "code",
   "execution_count": null,
   "metadata": {},
   "outputs": [],
   "source": [
    "plt.plot(bins, corr)"
   ]
  },
  {
   "cell_type": "code",
   "execution_count": null,
   "metadata": {},
   "outputs": [],
   "source": [
    "bin_centers = 0.5 * (bins[1:] + bins[:-1])\n",
    "#\n",
    "bin_centers = bin_centers[np.where(np.isnan(corr)==False)]\n",
    "corr = corr[np.where(np.isnan(corr)==False)]\n",
    "corr_err = corr_err[np.where(np.isnan(corr)==False)]\n",
    "#\n",
    "# Export the TPCF data to an numpy array\n",
    "tpcf = np.transpose(np.array([bin_centers, corr, corr_err]))\n",
    "#\n",
    "# Print the TPCF file\n",
    "# print(tpcf)\n",
    "#\n",
    "# Export the TPCF data to a file\n",
    "# np.savetxt('./Data/ngc1566_astroml_tpcf.dat', tpcf)\n",
    "#\n",
    "# Import fitting process\n",
    "from scipy.optimize import curve_fit\n",
    "#\n",
    "# Define the fitting function\n",
    "def fitfunc(x, a, b, c):\n",
    "    return a*(x/b)**c\n",
    "#\n",
    "# Plot the Landy-Szalay TPCF and its fit\n",
    "popt, pcov = curve_fit(fitfunc, bin_centers[1:10], corr[1:10])\n",
    "#"
   ]
  },
  {
   "cell_type": "code",
   "execution_count": null,
   "metadata": {},
   "outputs": [],
   "source": []
  },
  {
   "cell_type": "markdown",
   "metadata": {},
   "source": [
    "still working on this. . . "
   ]
  },
  {
   "cell_type": "code",
   "execution_count": null,
   "metadata": {},
   "outputs": [],
   "source": []
  }
 ],
 "metadata": {
  "kernelspec": {
   "display_name": "COIN (Python 3)",
   "language": "python",
   "name": "coin_3"
  },
  "language_info": {
   "codemirror_mode": {
    "name": "ipython",
    "version": 3
   },
   "file_extension": ".py",
   "mimetype": "text/x-python",
   "name": "python",
   "nbconvert_exporter": "python",
   "pygments_lexer": "ipython3",
   "version": "3.6.8"
  }
 },
 "nbformat": 4,
 "nbformat_minor": 2
}
